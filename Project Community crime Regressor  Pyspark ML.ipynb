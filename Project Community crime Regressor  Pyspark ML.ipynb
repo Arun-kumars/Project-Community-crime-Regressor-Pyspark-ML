{
 "cells": [
  {
   "cell_type": "markdown",
   "metadata": {},
   "source": [
    "# Communities and Crime Data Set\n",
    "\n",
    "Context\n",
    "Introduction: The dataset used for this experiment is real and authentic. The dataset is acquired from UCI machine learning repository website [13]. The title of the dataset is ‘Crime and Communities’. It is prepared using real data from socio-economic data from 1990 US Census, law enforcement data from the 1990 US LEMAS survey, and crimedata from the 1995 FBI UCR [13]. This dataset contains a total number of 147 attributes and 2216 instances.\n",
    "\n",
    "The per capita crimes variables were calculated using population values included in the 1995 FBI data (which differ from the 1990 Census values).\n",
    "\n",
    "Content\n",
    "The variables included in the dataset involve the community, such as the percent of the population considered urban, and the median family income, and involving law enforcement, such as per capita number of police officers, and percent of officers assigned to drug units. The crime attributes (N=18) that could be predicted are the 8 crimes considered 'Index Crimes' by the FBI)(Murders, Rape, Robbery, …. ), per capita (actually per 100,000 population) versions of each, and Per Capita Violent Crimes and Per Capita Nonviolent Crimes)\n",
    "\n",
    "Total variables : 128\n",
    "Observations : 1994\n",
    "\n",
    "\n"
   ]
  },
  {
   "cell_type": "code",
   "execution_count": 69,
   "metadata": {},
   "outputs": [],
   "source": [
    "import numpy as np\n",
    "from pandas import read_csv\n",
    "import matplotlib.pyplot as plt\n",
    "#%matplotlib inline"
   ]
  },
  {
   "cell_type": "code",
   "execution_count": 70,
   "metadata": {},
   "outputs": [],
   "source": [
    "attrib = pread_csv('name of the column.csv', delim_whitespace = True)"
   ]
  },
  {
   "cell_type": "code",
   "execution_count": 71,
   "metadata": {},
   "outputs": [],
   "source": [
    "data = read_csv('communities_crime.csv', names = attrib['attributes'])"
   ]
  },
  {
   "cell_type": "code",
   "execution_count": 72,
   "metadata": {},
   "outputs": [
    {
     "name": "stdout",
     "output_type": "stream",
     "text": [
      "(1994, 128)\n"
     ]
    }
   ],
   "source": [
    "print(data.shape)"
   ]
  },
  {
   "cell_type": "code",
   "execution_count": 21,
   "metadata": {},
   "outputs": [
    {
     "data": {
      "text/html": [
       "<div>\n",
       "<style scoped>\n",
       "    .dataframe tbody tr th:only-of-type {\n",
       "        vertical-align: middle;\n",
       "    }\n",
       "\n",
       "    .dataframe tbody tr th {\n",
       "        vertical-align: top;\n",
       "    }\n",
       "\n",
       "    .dataframe thead th {\n",
       "        text-align: right;\n",
       "    }\n",
       "</style>\n",
       "<table border=\"1\" class=\"dataframe\">\n",
       "  <thead>\n",
       "    <tr style=\"text-align: right;\">\n",
       "      <th></th>\n",
       "      <th>state</th>\n",
       "      <th>county</th>\n",
       "      <th>community</th>\n",
       "      <th>communityname</th>\n",
       "      <th>fold</th>\n",
       "      <th>population</th>\n",
       "      <th>householdsize</th>\n",
       "      <th>racepctblack</th>\n",
       "      <th>racePctWhite</th>\n",
       "      <th>racePctAsian</th>\n",
       "      <th>...</th>\n",
       "      <th>LandArea</th>\n",
       "      <th>PopDens</th>\n",
       "      <th>PctUsePubTrans</th>\n",
       "      <th>PolicCars</th>\n",
       "      <th>PolicOperBudg</th>\n",
       "      <th>LemasPctPolicOnPatr</th>\n",
       "      <th>LemasGangUnitDeploy</th>\n",
       "      <th>LemasPctOfficDrugUn</th>\n",
       "      <th>PolicBudgPerPop</th>\n",
       "      <th>ViolentCrimesPerPop</th>\n",
       "    </tr>\n",
       "  </thead>\n",
       "  <tbody>\n",
       "    <tr>\n",
       "      <th>0</th>\n",
       "      <td>8</td>\n",
       "      <td>?</td>\n",
       "      <td>?</td>\n",
       "      <td>Lakewoodcity</td>\n",
       "      <td>1</td>\n",
       "      <td>0.19</td>\n",
       "      <td>0.33</td>\n",
       "      <td>0.02</td>\n",
       "      <td>0.90</td>\n",
       "      <td>0.12</td>\n",
       "      <td>...</td>\n",
       "      <td>0.12</td>\n",
       "      <td>0.26</td>\n",
       "      <td>0.20</td>\n",
       "      <td>0.06</td>\n",
       "      <td>0.04</td>\n",
       "      <td>0.9</td>\n",
       "      <td>0.5</td>\n",
       "      <td>0.32</td>\n",
       "      <td>0.14</td>\n",
       "      <td>0.20</td>\n",
       "    </tr>\n",
       "    <tr>\n",
       "      <th>1</th>\n",
       "      <td>53</td>\n",
       "      <td>?</td>\n",
       "      <td>?</td>\n",
       "      <td>Tukwilacity</td>\n",
       "      <td>1</td>\n",
       "      <td>0.00</td>\n",
       "      <td>0.16</td>\n",
       "      <td>0.12</td>\n",
       "      <td>0.74</td>\n",
       "      <td>0.45</td>\n",
       "      <td>...</td>\n",
       "      <td>0.02</td>\n",
       "      <td>0.12</td>\n",
       "      <td>0.45</td>\n",
       "      <td>?</td>\n",
       "      <td>?</td>\n",
       "      <td>?</td>\n",
       "      <td>?</td>\n",
       "      <td>0.00</td>\n",
       "      <td>?</td>\n",
       "      <td>0.67</td>\n",
       "    </tr>\n",
       "    <tr>\n",
       "      <th>2</th>\n",
       "      <td>24</td>\n",
       "      <td>?</td>\n",
       "      <td>?</td>\n",
       "      <td>Aberdeentown</td>\n",
       "      <td>1</td>\n",
       "      <td>0.00</td>\n",
       "      <td>0.42</td>\n",
       "      <td>0.49</td>\n",
       "      <td>0.56</td>\n",
       "      <td>0.17</td>\n",
       "      <td>...</td>\n",
       "      <td>0.01</td>\n",
       "      <td>0.21</td>\n",
       "      <td>0.02</td>\n",
       "      <td>?</td>\n",
       "      <td>?</td>\n",
       "      <td>?</td>\n",
       "      <td>?</td>\n",
       "      <td>0.00</td>\n",
       "      <td>?</td>\n",
       "      <td>0.43</td>\n",
       "    </tr>\n",
       "    <tr>\n",
       "      <th>3</th>\n",
       "      <td>34</td>\n",
       "      <td>5</td>\n",
       "      <td>81440</td>\n",
       "      <td>Willingborotownship</td>\n",
       "      <td>1</td>\n",
       "      <td>0.04</td>\n",
       "      <td>0.77</td>\n",
       "      <td>1.00</td>\n",
       "      <td>0.08</td>\n",
       "      <td>0.12</td>\n",
       "      <td>...</td>\n",
       "      <td>0.02</td>\n",
       "      <td>0.39</td>\n",
       "      <td>0.28</td>\n",
       "      <td>?</td>\n",
       "      <td>?</td>\n",
       "      <td>?</td>\n",
       "      <td>?</td>\n",
       "      <td>0.00</td>\n",
       "      <td>?</td>\n",
       "      <td>0.12</td>\n",
       "    </tr>\n",
       "    <tr>\n",
       "      <th>4</th>\n",
       "      <td>42</td>\n",
       "      <td>95</td>\n",
       "      <td>6096</td>\n",
       "      <td>Bethlehemtownship</td>\n",
       "      <td>1</td>\n",
       "      <td>0.01</td>\n",
       "      <td>0.55</td>\n",
       "      <td>0.02</td>\n",
       "      <td>0.95</td>\n",
       "      <td>0.09</td>\n",
       "      <td>...</td>\n",
       "      <td>0.04</td>\n",
       "      <td>0.09</td>\n",
       "      <td>0.02</td>\n",
       "      <td>?</td>\n",
       "      <td>?</td>\n",
       "      <td>?</td>\n",
       "      <td>?</td>\n",
       "      <td>0.00</td>\n",
       "      <td>?</td>\n",
       "      <td>0.03</td>\n",
       "    </tr>\n",
       "  </tbody>\n",
       "</table>\n",
       "<p>5 rows × 128 columns</p>\n",
       "</div>"
      ],
      "text/plain": [
       "   state county community        communityname  fold  population  \\\n",
       "0      8      ?         ?         Lakewoodcity     1        0.19   \n",
       "1     53      ?         ?          Tukwilacity     1        0.00   \n",
       "2     24      ?         ?         Aberdeentown     1        0.00   \n",
       "3     34      5     81440  Willingborotownship     1        0.04   \n",
       "4     42     95      6096    Bethlehemtownship     1        0.01   \n",
       "\n",
       "   householdsize  racepctblack  racePctWhite  racePctAsian  ...  LandArea  \\\n",
       "0           0.33          0.02          0.90          0.12  ...      0.12   \n",
       "1           0.16          0.12          0.74          0.45  ...      0.02   \n",
       "2           0.42          0.49          0.56          0.17  ...      0.01   \n",
       "3           0.77          1.00          0.08          0.12  ...      0.02   \n",
       "4           0.55          0.02          0.95          0.09  ...      0.04   \n",
       "\n",
       "   PopDens  PctUsePubTrans  PolicCars  PolicOperBudg  LemasPctPolicOnPatr  \\\n",
       "0     0.26            0.20       0.06           0.04                  0.9   \n",
       "1     0.12            0.45          ?              ?                    ?   \n",
       "2     0.21            0.02          ?              ?                    ?   \n",
       "3     0.39            0.28          ?              ?                    ?   \n",
       "4     0.09            0.02          ?              ?                    ?   \n",
       "\n",
       "   LemasGangUnitDeploy  LemasPctOfficDrugUn  PolicBudgPerPop  \\\n",
       "0                  0.5                 0.32             0.14   \n",
       "1                    ?                 0.00                ?   \n",
       "2                    ?                 0.00                ?   \n",
       "3                    ?                 0.00                ?   \n",
       "4                    ?                 0.00                ?   \n",
       "\n",
       "   ViolentCrimesPerPop  \n",
       "0                 0.20  \n",
       "1                 0.67  \n",
       "2                 0.43  \n",
       "3                 0.12  \n",
       "4                 0.03  \n",
       "\n",
       "[5 rows x 128 columns]"
      ]
     },
     "execution_count": 21,
     "metadata": {},
     "output_type": "execute_result"
    }
   ],
   "source": [
    "data.head()"
   ]
  },
  {
   "cell_type": "code",
   "execution_count": 73,
   "metadata": {},
   "outputs": [
    {
     "data": {
      "text/html": [
       "<div>\n",
       "<style scoped>\n",
       "    .dataframe tbody tr th:only-of-type {\n",
       "        vertical-align: middle;\n",
       "    }\n",
       "\n",
       "    .dataframe tbody tr th {\n",
       "        vertical-align: top;\n",
       "    }\n",
       "\n",
       "    .dataframe thead th {\n",
       "        text-align: right;\n",
       "    }\n",
       "</style>\n",
       "<table border=\"1\" class=\"dataframe\">\n",
       "  <thead>\n",
       "    <tr style=\"text-align: right;\">\n",
       "      <th></th>\n",
       "      <th>population</th>\n",
       "      <th>householdsize</th>\n",
       "      <th>racepctblack</th>\n",
       "      <th>racePctWhite</th>\n",
       "      <th>racePctAsian</th>\n",
       "      <th>racePctHisp</th>\n",
       "      <th>agePct12t21</th>\n",
       "      <th>agePct12t29</th>\n",
       "      <th>agePct16t24</th>\n",
       "      <th>agePct65up</th>\n",
       "      <th>...</th>\n",
       "      <th>LandArea</th>\n",
       "      <th>PopDens</th>\n",
       "      <th>PctUsePubTrans</th>\n",
       "      <th>PolicCars</th>\n",
       "      <th>PolicOperBudg</th>\n",
       "      <th>LemasPctPolicOnPatr</th>\n",
       "      <th>LemasGangUnitDeploy</th>\n",
       "      <th>LemasPctOfficDrugUn</th>\n",
       "      <th>PolicBudgPerPop</th>\n",
       "      <th>ViolentCrimesPerPop</th>\n",
       "    </tr>\n",
       "  </thead>\n",
       "  <tbody>\n",
       "    <tr>\n",
       "      <th>0</th>\n",
       "      <td>0.19</td>\n",
       "      <td>0.33</td>\n",
       "      <td>0.02</td>\n",
       "      <td>0.90</td>\n",
       "      <td>0.12</td>\n",
       "      <td>0.17</td>\n",
       "      <td>0.34</td>\n",
       "      <td>0.47</td>\n",
       "      <td>0.29</td>\n",
       "      <td>0.32</td>\n",
       "      <td>...</td>\n",
       "      <td>0.12</td>\n",
       "      <td>0.26</td>\n",
       "      <td>0.20</td>\n",
       "      <td>0.06</td>\n",
       "      <td>0.04</td>\n",
       "      <td>0.9</td>\n",
       "      <td>0.5</td>\n",
       "      <td>0.32</td>\n",
       "      <td>0.14</td>\n",
       "      <td>0.20</td>\n",
       "    </tr>\n",
       "    <tr>\n",
       "      <th>1</th>\n",
       "      <td>0.00</td>\n",
       "      <td>0.16</td>\n",
       "      <td>0.12</td>\n",
       "      <td>0.74</td>\n",
       "      <td>0.45</td>\n",
       "      <td>0.07</td>\n",
       "      <td>0.26</td>\n",
       "      <td>0.59</td>\n",
       "      <td>0.35</td>\n",
       "      <td>0.27</td>\n",
       "      <td>...</td>\n",
       "      <td>0.02</td>\n",
       "      <td>0.12</td>\n",
       "      <td>0.45</td>\n",
       "      <td>?</td>\n",
       "      <td>?</td>\n",
       "      <td>?</td>\n",
       "      <td>?</td>\n",
       "      <td>0.00</td>\n",
       "      <td>?</td>\n",
       "      <td>0.67</td>\n",
       "    </tr>\n",
       "    <tr>\n",
       "      <th>2</th>\n",
       "      <td>0.00</td>\n",
       "      <td>0.42</td>\n",
       "      <td>0.49</td>\n",
       "      <td>0.56</td>\n",
       "      <td>0.17</td>\n",
       "      <td>0.04</td>\n",
       "      <td>0.39</td>\n",
       "      <td>0.47</td>\n",
       "      <td>0.28</td>\n",
       "      <td>0.32</td>\n",
       "      <td>...</td>\n",
       "      <td>0.01</td>\n",
       "      <td>0.21</td>\n",
       "      <td>0.02</td>\n",
       "      <td>?</td>\n",
       "      <td>?</td>\n",
       "      <td>?</td>\n",
       "      <td>?</td>\n",
       "      <td>0.00</td>\n",
       "      <td>?</td>\n",
       "      <td>0.43</td>\n",
       "    </tr>\n",
       "    <tr>\n",
       "      <th>3</th>\n",
       "      <td>0.04</td>\n",
       "      <td>0.77</td>\n",
       "      <td>1.00</td>\n",
       "      <td>0.08</td>\n",
       "      <td>0.12</td>\n",
       "      <td>0.10</td>\n",
       "      <td>0.51</td>\n",
       "      <td>0.50</td>\n",
       "      <td>0.34</td>\n",
       "      <td>0.21</td>\n",
       "      <td>...</td>\n",
       "      <td>0.02</td>\n",
       "      <td>0.39</td>\n",
       "      <td>0.28</td>\n",
       "      <td>?</td>\n",
       "      <td>?</td>\n",
       "      <td>?</td>\n",
       "      <td>?</td>\n",
       "      <td>0.00</td>\n",
       "      <td>?</td>\n",
       "      <td>0.12</td>\n",
       "    </tr>\n",
       "    <tr>\n",
       "      <th>4</th>\n",
       "      <td>0.01</td>\n",
       "      <td>0.55</td>\n",
       "      <td>0.02</td>\n",
       "      <td>0.95</td>\n",
       "      <td>0.09</td>\n",
       "      <td>0.05</td>\n",
       "      <td>0.38</td>\n",
       "      <td>0.38</td>\n",
       "      <td>0.23</td>\n",
       "      <td>0.36</td>\n",
       "      <td>...</td>\n",
       "      <td>0.04</td>\n",
       "      <td>0.09</td>\n",
       "      <td>0.02</td>\n",
       "      <td>?</td>\n",
       "      <td>?</td>\n",
       "      <td>?</td>\n",
       "      <td>?</td>\n",
       "      <td>0.00</td>\n",
       "      <td>?</td>\n",
       "      <td>0.03</td>\n",
       "    </tr>\n",
       "  </tbody>\n",
       "</table>\n",
       "<p>5 rows × 123 columns</p>\n",
       "</div>"
      ],
      "text/plain": [
       "   population  householdsize  racepctblack  racePctWhite  racePctAsian  \\\n",
       "0        0.19           0.33          0.02          0.90          0.12   \n",
       "1        0.00           0.16          0.12          0.74          0.45   \n",
       "2        0.00           0.42          0.49          0.56          0.17   \n",
       "3        0.04           0.77          1.00          0.08          0.12   \n",
       "4        0.01           0.55          0.02          0.95          0.09   \n",
       "\n",
       "   racePctHisp  agePct12t21  agePct12t29  agePct16t24  agePct65up  ...  \\\n",
       "0         0.17         0.34         0.47         0.29        0.32  ...   \n",
       "1         0.07         0.26         0.59         0.35        0.27  ...   \n",
       "2         0.04         0.39         0.47         0.28        0.32  ...   \n",
       "3         0.10         0.51         0.50         0.34        0.21  ...   \n",
       "4         0.05         0.38         0.38         0.23        0.36  ...   \n",
       "\n",
       "   LandArea  PopDens  PctUsePubTrans  PolicCars  PolicOperBudg  \\\n",
       "0      0.12     0.26            0.20       0.06           0.04   \n",
       "1      0.02     0.12            0.45          ?              ?   \n",
       "2      0.01     0.21            0.02          ?              ?   \n",
       "3      0.02     0.39            0.28          ?              ?   \n",
       "4      0.04     0.09            0.02          ?              ?   \n",
       "\n",
       "   LemasPctPolicOnPatr  LemasGangUnitDeploy  LemasPctOfficDrugUn  \\\n",
       "0                  0.9                  0.5                 0.32   \n",
       "1                    ?                    ?                 0.00   \n",
       "2                    ?                    ?                 0.00   \n",
       "3                    ?                    ?                 0.00   \n",
       "4                    ?                    ?                 0.00   \n",
       "\n",
       "   PolicBudgPerPop  ViolentCrimesPerPop  \n",
       "0             0.14                 0.20  \n",
       "1                ?                 0.67  \n",
       "2                ?                 0.43  \n",
       "3                ?                 0.12  \n",
       "4                ?                 0.03  \n",
       "\n",
       "[5 rows x 123 columns]"
      ]
     },
     "execution_count": 73,
     "metadata": {},
     "output_type": "execute_result"
    }
   ],
   "source": [
    "data = data.drop(columns=['state','county',\n",
    "                          'community','communityname',\n",
    "                          'fold'], axis=1)\n",
    "data.head()"
   ]
  },
  {
   "cell_type": "code",
   "execution_count": 76,
   "metadata": {},
   "outputs": [],
   "source": [
    "from pandas import DataFrame\n",
    "\n",
    "data = data.replace('?', np.nan)\n",
    "feat_miss = data.columns[data.isnull().any()]"
   ]
  },
  {
   "cell_type": "code",
   "execution_count": 77,
   "metadata": {},
   "outputs": [
    {
     "name": "stdout",
     "output_type": "stream",
     "text": [
      "Index(['OtherPerCap', 'LemasSwornFT', 'LemasSwFTPerPop', 'LemasSwFTFieldOps',\n",
      "       'LemasSwFTFieldPerPop', 'LemasTotalReq', 'LemasTotReqPerPop',\n",
      "       'PolicReqPerOffic', 'PolicPerPop', 'RacialMatchCommPol',\n",
      "       'PctPolicWhite', 'PctPolicBlack', 'PctPolicHisp', 'PctPolicAsian',\n",
      "       'PctPolicMinor', 'OfficAssgnDrugUnits', 'NumKindsDrugsSeiz',\n",
      "       'PolicAveOTWorked', 'PolicCars', 'PolicOperBudg', 'LemasPctPolicOnPatr',\n",
      "       'LemasGangUnitDeploy', 'PolicBudgPerPop'],\n",
      "      dtype='object')\n"
     ]
    },
    {
     "data": {
      "text/plain": [
       "(23,)"
      ]
     },
     "execution_count": 77,
     "metadata": {},
     "output_type": "execute_result"
    }
   ],
   "source": [
    "print(feat_miss)\n",
    "feat_miss.shape"
   ]
  },
  {
   "cell_type": "code",
   "execution_count": 78,
   "metadata": {},
   "outputs": [],
   "source": [
    "# Impute mean values for samples with missing values\n",
    "from sklearn.impute import SimpleImputer"
   ]
  },
  {
   "cell_type": "code",
   "execution_count": 79,
   "metadata": {},
   "outputs": [],
   "source": [
    "from sklearn.impute import SimpleImputer\n",
    "imputer = SimpleImputer(missing_values = np.nan, strategy = 'mean')\n",
    "\n",
    "imputer = imputer.fit(data[['OtherPerCap']])\n",
    "data[['OtherPerCap']] = imputer.transform(data[['OtherPerCap']])\n"
   ]
  },
  {
   "cell_type": "code",
   "execution_count": 80,
   "metadata": {},
   "outputs": [
    {
     "name": "stdout",
     "output_type": "stream",
     "text": [
      "(1994, 101)\n"
     ]
    },
    {
     "data": {
      "text/html": [
       "<div>\n",
       "<style scoped>\n",
       "    .dataframe tbody tr th:only-of-type {\n",
       "        vertical-align: middle;\n",
       "    }\n",
       "\n",
       "    .dataframe tbody tr th {\n",
       "        vertical-align: top;\n",
       "    }\n",
       "\n",
       "    .dataframe thead th {\n",
       "        text-align: right;\n",
       "    }\n",
       "</style>\n",
       "<table border=\"1\" class=\"dataframe\">\n",
       "  <thead>\n",
       "    <tr style=\"text-align: right;\">\n",
       "      <th></th>\n",
       "      <th>population</th>\n",
       "      <th>householdsize</th>\n",
       "      <th>racepctblack</th>\n",
       "      <th>racePctWhite</th>\n",
       "      <th>racePctAsian</th>\n",
       "      <th>racePctHisp</th>\n",
       "      <th>agePct12t21</th>\n",
       "      <th>agePct12t29</th>\n",
       "      <th>agePct16t24</th>\n",
       "      <th>agePct65up</th>\n",
       "      <th>...</th>\n",
       "      <th>PctForeignBorn</th>\n",
       "      <th>PctBornSameState</th>\n",
       "      <th>PctSameHouse85</th>\n",
       "      <th>PctSameCity85</th>\n",
       "      <th>PctSameState85</th>\n",
       "      <th>LandArea</th>\n",
       "      <th>PopDens</th>\n",
       "      <th>PctUsePubTrans</th>\n",
       "      <th>LemasPctOfficDrugUn</th>\n",
       "      <th>ViolentCrimesPerPop</th>\n",
       "    </tr>\n",
       "  </thead>\n",
       "  <tbody>\n",
       "    <tr>\n",
       "      <th>0</th>\n",
       "      <td>0.19</td>\n",
       "      <td>0.33</td>\n",
       "      <td>0.02</td>\n",
       "      <td>0.90</td>\n",
       "      <td>0.12</td>\n",
       "      <td>0.17</td>\n",
       "      <td>0.34</td>\n",
       "      <td>0.47</td>\n",
       "      <td>0.29</td>\n",
       "      <td>0.32</td>\n",
       "      <td>...</td>\n",
       "      <td>0.12</td>\n",
       "      <td>0.42</td>\n",
       "      <td>0.50</td>\n",
       "      <td>0.51</td>\n",
       "      <td>0.64</td>\n",
       "      <td>0.12</td>\n",
       "      <td>0.26</td>\n",
       "      <td>0.20</td>\n",
       "      <td>0.32</td>\n",
       "      <td>0.20</td>\n",
       "    </tr>\n",
       "    <tr>\n",
       "      <th>1</th>\n",
       "      <td>0.00</td>\n",
       "      <td>0.16</td>\n",
       "      <td>0.12</td>\n",
       "      <td>0.74</td>\n",
       "      <td>0.45</td>\n",
       "      <td>0.07</td>\n",
       "      <td>0.26</td>\n",
       "      <td>0.59</td>\n",
       "      <td>0.35</td>\n",
       "      <td>0.27</td>\n",
       "      <td>...</td>\n",
       "      <td>0.21</td>\n",
       "      <td>0.50</td>\n",
       "      <td>0.34</td>\n",
       "      <td>0.60</td>\n",
       "      <td>0.52</td>\n",
       "      <td>0.02</td>\n",
       "      <td>0.12</td>\n",
       "      <td>0.45</td>\n",
       "      <td>0.00</td>\n",
       "      <td>0.67</td>\n",
       "    </tr>\n",
       "    <tr>\n",
       "      <th>2</th>\n",
       "      <td>0.00</td>\n",
       "      <td>0.42</td>\n",
       "      <td>0.49</td>\n",
       "      <td>0.56</td>\n",
       "      <td>0.17</td>\n",
       "      <td>0.04</td>\n",
       "      <td>0.39</td>\n",
       "      <td>0.47</td>\n",
       "      <td>0.28</td>\n",
       "      <td>0.32</td>\n",
       "      <td>...</td>\n",
       "      <td>0.14</td>\n",
       "      <td>0.49</td>\n",
       "      <td>0.54</td>\n",
       "      <td>0.67</td>\n",
       "      <td>0.56</td>\n",
       "      <td>0.01</td>\n",
       "      <td>0.21</td>\n",
       "      <td>0.02</td>\n",
       "      <td>0.00</td>\n",
       "      <td>0.43</td>\n",
       "    </tr>\n",
       "    <tr>\n",
       "      <th>3</th>\n",
       "      <td>0.04</td>\n",
       "      <td>0.77</td>\n",
       "      <td>1.00</td>\n",
       "      <td>0.08</td>\n",
       "      <td>0.12</td>\n",
       "      <td>0.10</td>\n",
       "      <td>0.51</td>\n",
       "      <td>0.50</td>\n",
       "      <td>0.34</td>\n",
       "      <td>0.21</td>\n",
       "      <td>...</td>\n",
       "      <td>0.19</td>\n",
       "      <td>0.30</td>\n",
       "      <td>0.73</td>\n",
       "      <td>0.64</td>\n",
       "      <td>0.65</td>\n",
       "      <td>0.02</td>\n",
       "      <td>0.39</td>\n",
       "      <td>0.28</td>\n",
       "      <td>0.00</td>\n",
       "      <td>0.12</td>\n",
       "    </tr>\n",
       "    <tr>\n",
       "      <th>4</th>\n",
       "      <td>0.01</td>\n",
       "      <td>0.55</td>\n",
       "      <td>0.02</td>\n",
       "      <td>0.95</td>\n",
       "      <td>0.09</td>\n",
       "      <td>0.05</td>\n",
       "      <td>0.38</td>\n",
       "      <td>0.38</td>\n",
       "      <td>0.23</td>\n",
       "      <td>0.36</td>\n",
       "      <td>...</td>\n",
       "      <td>0.11</td>\n",
       "      <td>0.72</td>\n",
       "      <td>0.64</td>\n",
       "      <td>0.61</td>\n",
       "      <td>0.53</td>\n",
       "      <td>0.04</td>\n",
       "      <td>0.09</td>\n",
       "      <td>0.02</td>\n",
       "      <td>0.00</td>\n",
       "      <td>0.03</td>\n",
       "    </tr>\n",
       "  </tbody>\n",
       "</table>\n",
       "<p>5 rows × 101 columns</p>\n",
       "</div>"
      ],
      "text/plain": [
       "   population  householdsize  racepctblack  racePctWhite  racePctAsian  \\\n",
       "0        0.19           0.33          0.02          0.90          0.12   \n",
       "1        0.00           0.16          0.12          0.74          0.45   \n",
       "2        0.00           0.42          0.49          0.56          0.17   \n",
       "3        0.04           0.77          1.00          0.08          0.12   \n",
       "4        0.01           0.55          0.02          0.95          0.09   \n",
       "\n",
       "   racePctHisp  agePct12t21  agePct12t29  agePct16t24  agePct65up  ...  \\\n",
       "0         0.17         0.34         0.47         0.29        0.32  ...   \n",
       "1         0.07         0.26         0.59         0.35        0.27  ...   \n",
       "2         0.04         0.39         0.47         0.28        0.32  ...   \n",
       "3         0.10         0.51         0.50         0.34        0.21  ...   \n",
       "4         0.05         0.38         0.38         0.23        0.36  ...   \n",
       "\n",
       "   PctForeignBorn  PctBornSameState  PctSameHouse85  PctSameCity85  \\\n",
       "0            0.12              0.42            0.50           0.51   \n",
       "1            0.21              0.50            0.34           0.60   \n",
       "2            0.14              0.49            0.54           0.67   \n",
       "3            0.19              0.30            0.73           0.64   \n",
       "4            0.11              0.72            0.64           0.61   \n",
       "\n",
       "   PctSameState85  LandArea  PopDens  PctUsePubTrans  LemasPctOfficDrugUn  \\\n",
       "0            0.64      0.12     0.26            0.20                 0.32   \n",
       "1            0.52      0.02     0.12            0.45                 0.00   \n",
       "2            0.56      0.01     0.21            0.02                 0.00   \n",
       "3            0.65      0.02     0.39            0.28                 0.00   \n",
       "4            0.53      0.04     0.09            0.02                 0.00   \n",
       "\n",
       "   ViolentCrimesPerPop  \n",
       "0                 0.20  \n",
       "1                 0.67  \n",
       "2                 0.43  \n",
       "3                 0.12  \n",
       "4                 0.03  \n",
       "\n",
       "[5 rows x 101 columns]"
      ]
     },
     "execution_count": 80,
     "metadata": {},
     "output_type": "execute_result"
    }
   ],
   "source": [
    "data = data.dropna(axis=1)\n",
    "print(data.shape)\n",
    "data.head()"
   ]
  },
  {
   "cell_type": "code",
   "execution_count": 60,
   "metadata": {},
   "outputs": [
    {
     "data": {
      "image/png": "[encoded data removed]",
      "text/plain": [
       "<Figure size 1152x864 with 2 Axes>"
      ]
     },
     "metadata": {
      "needs_background": "light"
     },
     "output_type": "display_data"
    }
   ],
   "source": [
    "import seaborn as sns\n",
    "\n",
    "corrmat = data.corr()\n",
    "fig = plt.figure(figsize = (16, 12))\n",
    "\n",
    "sns.heatmap(corrmat, vmax = 0.8)\n",
    "plt.show()"
   ]
  },
  {
   "cell_type": "code",
   "execution_count": 81,
   "metadata": {},
   "outputs": [
    {
     "data": {
      "text/plain": [
       "PctKids2Par           -0.7384\n",
       "PctFam2Par            -0.7067\n",
       "racePctWhite          -0.6848\n",
       "PctYoungKids2Par      -0.6661\n",
       "PctTeen2Par           -0.6616\n",
       "                        ...  \n",
       "FemalePctDiv           0.5560\n",
       "pctWPubAsst            0.5747\n",
       "racepctblack           0.6313\n",
       "PctIlleg               0.7380\n",
       "ViolentCrimesPerPop    1.0000\n",
       "Name: ViolentCrimesPerPop, Length: 101, dtype: float64"
      ]
     },
     "execution_count": 81,
     "metadata": {},
     "output_type": "execute_result"
    }
   ],
   "source": [
    "corrT = data.corr(method = 'pearson').round(4)\n",
    "corrT = corrT.sort_values(by=['ViolentCrimesPerPop'])\n",
    "corrT['ViolentCrimesPerPop']"
   ]
  },
  {
   "cell_type": "markdown",
   "metadata": {},
   "source": [
    "## Dimensionality Reduction - Principal Component Analysis (PCA)\n",
    "\n",
    "The dataset contain many variables highly correlated. Multicolinearity will increase the model variance. Dimensionality reduction utilizing PCA can provide an optimal set of orthogonal features. Let's adopt the criterion in which we select those principal components responsible to explain more than a unit variance."
   ]
  },
  {
   "cell_type": "code",
   "execution_count": 61,
   "metadata": {},
   "outputs": [],
   "source": [
    "#Shuffle the rows of the dataframe\n",
    "data = data.sample(frac = 1, random_state=0)"
   ]
  },
  {
   "cell_type": "code",
   "execution_count": 82,
   "metadata": {},
   "outputs": [
    {
     "name": "stdout",
     "output_type": "stream",
     "text": [
      "(1994, 30)\n",
      "(1994,)\n"
     ]
    }
   ],
   "source": [
    "X = data.iloc[:, 0:30]\n",
    "y = data.iloc[:, 99]\n",
    "\n",
    "#split to train and test for cross-validation\n",
    "from sklearn.model_selection import train_test_split\n",
    "seed = 0\n",
    "X_train, X_test, y_train, y_test = train_test_split(X, y, test_size = 0.30, random_state = seed)\n",
    "\n",
    "\n",
    "print(X.shape)\n",
    "print(y.shape)"
   ]
  },
  {
   "cell_type": "code",
   "execution_count": 83,
   "metadata": {},
   "outputs": [],
   "source": [
    "from sklearn.preprocessing import StandardScaler\n",
    "\n",
    "# Standardize features by removing the mean and scaling to unit variance\n",
    "\n",
    "sc = StandardScaler()\n",
    "X_train = sc.fit_transform(X_train)\n",
    "X_test = sc.transform(X_test)"
   ]
  },
  {
   "cell_type": "code",
   "execution_count": 65,
   "metadata": {},
   "outputs": [
    {
     "name": "stdout",
     "output_type": "stream",
     "text": [
      "(1994, 30)\n"
     ]
    },
    {
     "data": {
      "text/html": [
       "<div>\n",
       "<style scoped>\n",
       "    .dataframe tbody tr th:only-of-type {\n",
       "        vertical-align: middle;\n",
       "    }\n",
       "\n",
       "    .dataframe tbody tr th {\n",
       "        vertical-align: top;\n",
       "    }\n",
       "\n",
       "    .dataframe thead th {\n",
       "        text-align: right;\n",
       "    }\n",
       "</style>\n",
       "<table border=\"1\" class=\"dataframe\">\n",
       "  <thead>\n",
       "    <tr style=\"text-align: right;\">\n",
       "      <th></th>\n",
       "      <th>0</th>\n",
       "      <th>1</th>\n",
       "      <th>2</th>\n",
       "      <th>3</th>\n",
       "      <th>4</th>\n",
       "      <th>5</th>\n",
       "      <th>6</th>\n",
       "      <th>7</th>\n",
       "      <th>8</th>\n",
       "      <th>9</th>\n",
       "      <th>...</th>\n",
       "      <th>20</th>\n",
       "      <th>21</th>\n",
       "      <th>22</th>\n",
       "      <th>23</th>\n",
       "      <th>24</th>\n",
       "      <th>25</th>\n",
       "      <th>26</th>\n",
       "      <th>27</th>\n",
       "      <th>28</th>\n",
       "      <th>29</th>\n",
       "    </tr>\n",
       "  </thead>\n",
       "  <tbody>\n",
       "    <tr>\n",
       "      <th>0</th>\n",
       "      <td>-0.44</td>\n",
       "      <td>-0.75</td>\n",
       "      <td>0.07</td>\n",
       "      <td>-0.12</td>\n",
       "      <td>-0.01</td>\n",
       "      <td>0.11</td>\n",
       "      <td>0.15</td>\n",
       "      <td>-0.05</td>\n",
       "      <td>0.06</td>\n",
       "      <td>-0.20</td>\n",
       "      <td>...</td>\n",
       "      <td>0.01</td>\n",
       "      <td>-0.05</td>\n",
       "      <td>-0.03</td>\n",
       "      <td>-0.01</td>\n",
       "      <td>-0.03</td>\n",
       "      <td>0.05</td>\n",
       "      <td>0.01</td>\n",
       "      <td>-0.01</td>\n",
       "      <td>-0.00</td>\n",
       "      <td>0.01</td>\n",
       "    </tr>\n",
       "    <tr>\n",
       "      <th>1</th>\n",
       "      <td>-0.69</td>\n",
       "      <td>-0.41</td>\n",
       "      <td>-0.73</td>\n",
       "      <td>-0.33</td>\n",
       "      <td>-0.45</td>\n",
       "      <td>0.25</td>\n",
       "      <td>-0.38</td>\n",
       "      <td>-0.22</td>\n",
       "      <td>-0.03</td>\n",
       "      <td>0.17</td>\n",
       "      <td>...</td>\n",
       "      <td>-0.01</td>\n",
       "      <td>-0.01</td>\n",
       "      <td>0.00</td>\n",
       "      <td>-0.04</td>\n",
       "      <td>0.02</td>\n",
       "      <td>-0.01</td>\n",
       "      <td>-0.03</td>\n",
       "      <td>0.03</td>\n",
       "      <td>-0.02</td>\n",
       "      <td>0.01</td>\n",
       "    </tr>\n",
       "    <tr>\n",
       "      <th>2</th>\n",
       "      <td>-0.14</td>\n",
       "      <td>0.08</td>\n",
       "      <td>0.73</td>\n",
       "      <td>-0.19</td>\n",
       "      <td>0.03</td>\n",
       "      <td>-0.11</td>\n",
       "      <td>-0.04</td>\n",
       "      <td>0.05</td>\n",
       "      <td>-0.15</td>\n",
       "      <td>-0.17</td>\n",
       "      <td>...</td>\n",
       "      <td>0.01</td>\n",
       "      <td>-0.02</td>\n",
       "      <td>-0.02</td>\n",
       "      <td>0.03</td>\n",
       "      <td>0.00</td>\n",
       "      <td>-0.00</td>\n",
       "      <td>0.01</td>\n",
       "      <td>-0.00</td>\n",
       "      <td>-0.01</td>\n",
       "      <td>0.01</td>\n",
       "    </tr>\n",
       "    <tr>\n",
       "      <th>3</th>\n",
       "      <td>0.81</td>\n",
       "      <td>0.02</td>\n",
       "      <td>-0.09</td>\n",
       "      <td>-0.02</td>\n",
       "      <td>-0.07</td>\n",
       "      <td>-0.18</td>\n",
       "      <td>0.09</td>\n",
       "      <td>-0.01</td>\n",
       "      <td>-0.11</td>\n",
       "      <td>0.08</td>\n",
       "      <td>...</td>\n",
       "      <td>-0.03</td>\n",
       "      <td>0.00</td>\n",
       "      <td>-0.04</td>\n",
       "      <td>-0.02</td>\n",
       "      <td>0.03</td>\n",
       "      <td>-0.03</td>\n",
       "      <td>-0.00</td>\n",
       "      <td>-0.01</td>\n",
       "      <td>0.01</td>\n",
       "      <td>-0.00</td>\n",
       "    </tr>\n",
       "    <tr>\n",
       "      <th>4</th>\n",
       "      <td>0.63</td>\n",
       "      <td>0.33</td>\n",
       "      <td>-0.16</td>\n",
       "      <td>0.24</td>\n",
       "      <td>0.19</td>\n",
       "      <td>0.14</td>\n",
       "      <td>-0.03</td>\n",
       "      <td>-0.43</td>\n",
       "      <td>-0.25</td>\n",
       "      <td>-0.34</td>\n",
       "      <td>...</td>\n",
       "      <td>0.00</td>\n",
       "      <td>-0.07</td>\n",
       "      <td>-0.00</td>\n",
       "      <td>-0.00</td>\n",
       "      <td>0.01</td>\n",
       "      <td>0.06</td>\n",
       "      <td>-0.01</td>\n",
       "      <td>-0.02</td>\n",
       "      <td>0.01</td>\n",
       "      <td>-0.00</td>\n",
       "    </tr>\n",
       "  </tbody>\n",
       "</table>\n",
       "<p>5 rows × 30 columns</p>\n",
       "</div>"
      ],
      "text/plain": [
       "     0     1     2     3     4     5     6     7     8     9   ...    20  \\\n",
       "0 -0.44 -0.75  0.07 -0.12 -0.01  0.11  0.15 -0.05  0.06 -0.20  ...  0.01   \n",
       "1 -0.69 -0.41 -0.73 -0.33 -0.45  0.25 -0.38 -0.22 -0.03  0.17  ... -0.01   \n",
       "2 -0.14  0.08  0.73 -0.19  0.03 -0.11 -0.04  0.05 -0.15 -0.17  ...  0.01   \n",
       "3  0.81  0.02 -0.09 -0.02 -0.07 -0.18  0.09 -0.01 -0.11  0.08  ... -0.03   \n",
       "4  0.63  0.33 -0.16  0.24  0.19  0.14 -0.03 -0.43 -0.25 -0.34  ...  0.00   \n",
       "\n",
       "     21    22    23    24    25    26    27    28    29  \n",
       "0 -0.05 -0.03 -0.01 -0.03  0.05  0.01 -0.01 -0.00  0.01  \n",
       "1 -0.01  0.00 -0.04  0.02 -0.01 -0.03  0.03 -0.02  0.01  \n",
       "2 -0.02 -0.02  0.03  0.00 -0.00  0.01 -0.00 -0.01  0.01  \n",
       "3  0.00 -0.04 -0.02  0.03 -0.03 -0.00 -0.01  0.01 -0.00  \n",
       "4 -0.07 -0.00 -0.00  0.01  0.06 -0.01 -0.02  0.01 -0.00  \n",
       "\n",
       "[5 rows x 30 columns]"
      ]
     },
     "execution_count": 65,
     "metadata": {},
     "output_type": "execute_result"
    }
   ],
   "source": [
    "from sklearn.decomposition import PCA\n",
    "\n",
    "import pandas as pd\n",
    "pca = PCA()\n",
    "df_pca = pca.fit_transform(X=X)\n",
    "\n",
    "# Store as dataframe and print\n",
    "df_pca = pd.DataFrame(df_pca)\n",
    "print(df_pca.shape) \n",
    "df_pca.round(2).head()\n"
   ]
  },
  {
   "cell_type": "code",
   "execution_count": 84,
   "metadata": {},
   "outputs": [
    {
     "name": "stdout",
     "output_type": "stream",
     "text": [
      "Amount of variance: [9.29172845e+00 5.03685976e+00 3.38889824e+00 2.00222115e+00\n",
      " 1.45829423e+00 1.21985960e+00 1.20493925e+00 8.93888441e-01\n",
      " 8.73780013e-01 7.58316196e-01 6.47194200e-01 5.99685241e-01\n",
      " 5.62787046e-01 4.35655226e-01 4.05610127e-01 3.13454593e-01\n",
      " 2.59597036e-01 1.74688360e-01 1.25980219e-01 9.74589752e-02\n",
      " 7.46963411e-02 4.78312162e-02 4.24164989e-02 3.36169264e-02\n",
      " 2.60317433e-02 2.05864898e-02 1.03274039e-02 7.88258237e-03\n",
      " 5.30970190e-03 1.92555063e-03]\n",
      "Sum of the variance: 30.02\n",
      "Percentage of variance: [3.09502257e-01 1.67774970e-01 1.12882298e-01 6.66928623e-02\n",
      " 4.85749618e-02 4.06328382e-02 4.01358498e-02 2.97749220e-02\n",
      " 2.91051216e-02 2.52590867e-02 2.15576754e-02 1.99751786e-02\n",
      " 1.87461205e-02 1.45114309e-02 1.35106456e-02 1.04409965e-02\n",
      " 8.64703149e-03 5.81877119e-03 4.19633034e-03 3.24630374e-03\n",
      " 2.48809318e-03 1.59323095e-03 1.41286976e-03 1.11976094e-03\n",
      " 8.67102752e-04 6.85724415e-04 3.44000025e-04 2.62564393e-04\n",
      " 1.76863189e-04 6.41390103e-05]\n",
      "Sum of the percentage of variance: 1.0\n"
     ]
    },
    {
     "data": {
      "image/png": "[encoded data removed]",
      "text/plain": [
       "<Figure size 432x288 with 1 Axes>"
      ]
     },
     "metadata": {
      "needs_background": "light"
     },
     "output_type": "display_data"
    },
    {
     "name": "stdout",
     "output_type": "stream",
     "text": [
      "(1395, 30)\n"
     ]
    }
   ],
   "source": [
    "from sklearn.decomposition import PCA\n",
    "\n",
    "c = 30\n",
    "pca = PCA(n_components = c)\n",
    "X_train = pca.fit_transform(X_train)\n",
    "X_test = pca.transform(X_test)\n",
    "\n",
    "print(\"Amount of variance: %s\" % pca.explained_variance_)\n",
    "print(\"Sum of the variance: %s\" % sum(pca.explained_variance_).round(2))\n",
    "\n",
    "print(\"Percentage of variance: %s\" % pca.explained_variance_ratio_)\n",
    "print(\"Sum of the percentage of variance: %s\" % sum(pca.explained_variance_ratio_).round(2))\n",
    "\n",
    "\n",
    "plt.scatter(np.arange(1,(c+1)),pca.explained_variance_, c = 'red')\n",
    "plt.plot((0,15), (1,1), color = 'black', linestyle = 'dashed')\n",
    "plt.xlabel('PC')\n",
    "plt.ylabel('Amount of variance explained')\n",
    "plt.show()\n",
    "print(X_train.shape)"
   ]
  },
  {
   "cell_type": "code",
   "execution_count": 85,
   "metadata": {},
   "outputs": [
    {
     "name": "stdout",
     "output_type": "stream",
     "text": [
      "                             OLS Regression Results                            \n",
      "===============================================================================\n",
      "Dep. Variable:     LemasPctOfficDrugUn   R-squared:                       0.308\n",
      "Model:                             OLS   Adj. R-squared:                  0.298\n",
      "Method:                  Least Squares   F-statistic:                     29.15\n",
      "Date:                 Thu, 27 May 2021   Prob (F-statistic):          6.05e-134\n",
      "Time:                         23:35:24   Log-Likelihood:                 381.46\n",
      "No. Observations:                 1994   AIC:                            -700.9\n",
      "Df Residuals:                     1963   BIC:                            -527.4\n",
      "Df Model:                           30                                         \n",
      "Covariance Type:             nonrobust                                         \n",
      "===================================================================================\n",
      "                      coef    std err          t      P>|t|      [0.025      0.975]\n",
      "-----------------------------------------------------------------------------------\n",
      "const              -0.1816      0.162     -1.124      0.261      -0.498       0.135\n",
      "population          0.7041      0.568      1.240      0.215      -0.409       1.817\n",
      "householdsize      -0.1573      0.073     -2.143      0.032      -0.301      -0.013\n",
      "racepctblack        0.3252      0.066      4.912      0.000       0.195       0.455\n",
      "racePctWhite        0.2887      0.081      3.579      0.000       0.131       0.447\n",
      "racePctAsian        0.0496      0.037      1.339      0.181      -0.023       0.122\n",
      "racePctHisp         0.2077      0.045      4.642      0.000       0.120       0.295\n",
      "agePct12t21        -0.0204      0.120     -0.170      0.865      -0.256       0.215\n",
      "agePct12t29         0.0769      0.192      0.400      0.689      -0.300       0.454\n",
      "agePct16t24         0.1052      0.192      0.547      0.585      -0.272       0.483\n",
      "agePct65up         -0.0372      0.137     -0.272      0.786      -0.305       0.231\n",
      "numbUrban           0.3567      0.569      0.627      0.531      -0.759       1.472\n",
      "pctUrban            0.0936      0.022      4.341      0.000       0.051       0.136\n",
      "medIncome           0.0710      0.185      0.383      0.702      -0.292       0.434\n",
      "pctWWage           -0.1650      0.108     -1.524      0.128      -0.377       0.047\n",
      "pctWFarmSelf       -0.0401      0.027     -1.473      0.141      -0.094       0.013\n",
      "pctWInvInc          0.0784      0.070      1.116      0.265      -0.059       0.216\n",
      "pctWSocSec         -0.0944      0.137     -0.688      0.492      -0.363       0.175\n",
      "pctWPubAsst         0.0803      0.051      1.590      0.112      -0.019       0.179\n",
      "pctWRetire         -0.0551      0.046     -1.203      0.229      -0.145       0.035\n",
      "medFamInc          -0.1505      0.192     -0.784      0.433      -0.527       0.226\n",
      "perCapInc          -0.2673      0.249     -1.073      0.283      -0.756       0.221\n",
      "whitePerCap         0.3652      0.199      1.832      0.067      -0.026       0.756\n",
      "blackPerCap        -0.0696      0.038     -1.850      0.064      -0.143       0.004\n",
      "indianPerCap        0.0052      0.029      0.179      0.858      -0.052       0.062\n",
      "AsianPerCap         0.0080      0.028      0.288      0.774      -0.047       0.063\n",
      "OtherPerCap         0.0216      0.028      0.777      0.437      -0.033       0.076\n",
      "HispPerCap         -0.0280      0.037     -0.766      0.444      -0.100       0.044\n",
      "NumUnderPov        -0.4680      0.143     -3.278      0.001      -0.748      -0.188\n",
      "PctPopUnderPov     -0.0227      0.062     -0.368      0.713      -0.144       0.098\n",
      "PctLess9thGrade     0.0378      0.045      0.841      0.401      -0.050       0.126\n",
      "==============================================================================\n",
      "Omnibus:                      855.167   Durbin-Watson:                   1.986\n",
      "Prob(Omnibus):                  0.000   Jarque-Bera (JB):             3938.847\n",
      "Skew:                           2.048   Prob(JB):                         0.00\n",
      "Kurtosis:                       8.535   Cond. No.                         415.\n",
      "==============================================================================\n",
      "\n",
      "Notes:\n",
      "[1] Standard Errors assume that the covariance matrix of the errors is correctly specified.\n"
     ]
    }
   ],
   "source": [
    "#importing OLS statsmodel to check the p-values of the X variable\n",
    "import statsmodels.api as sm\n",
    "X2 = sm.add_constant(X) \n",
    "ols = sm.OLS(y,X2)\n",
    "lr = ols.fit()\n",
    "print(lr.summary())"
   ]
  },
  {
   "cell_type": "code",
   "execution_count": 86,
   "metadata": {},
   "outputs": [
    {
     "name": "stdout",
     "output_type": "stream",
     "text": [
      "                             OLS Regression Results                            \n",
      "===============================================================================\n",
      "Dep. Variable:     LemasPctOfficDrugUn   R-squared:                       0.304\n",
      "Model:                             OLS   Adj. R-squared:                  0.300\n",
      "Method:                  Least Squares   F-statistic:                     78.52\n",
      "Date:                 Thu, 27 May 2021   Prob (F-statistic):          5.85e-147\n",
      "Time:                         23:35:34   Log-Likelihood:                 374.71\n",
      "No. Observations:                 1994   AIC:                            -725.4\n",
      "Df Residuals:                     1982   BIC:                            -658.2\n",
      "Df Model:                           11                                         \n",
      "Covariance Type:             nonrobust                                         \n",
      "=================================================================================\n",
      "                    coef    std err          t      P>|t|      [0.025      0.975]\n",
      "---------------------------------------------------------------------------------\n",
      "const            -0.2878      0.075     -3.816      0.000      -0.436      -0.140\n",
      "population        1.0346      0.128      8.061      0.000       0.783       1.286\n",
      "householdsize    -0.2029      0.034     -5.891      0.000      -0.270      -0.135\n",
      "racepctblack      0.2702      0.050      5.406      0.000       0.172       0.368\n",
      "racePctWhite      0.1869      0.059      3.191      0.001       0.072       0.302\n",
      "racePctHisp       0.1923      0.037      5.226      0.000       0.120       0.265\n",
      "agePct12t29       0.1954      0.038      5.102      0.000       0.120       0.271\n",
      "pctUrban          0.1028      0.011      8.997      0.000       0.080       0.125\n",
      "pctWPubAsst       0.1236      0.035      3.574      0.000       0.056       0.191\n",
      "whitePerCap       0.1107      0.037      2.997      0.003       0.038       0.183\n",
      "blackPerCap      -0.0879      0.034     -2.572      0.010      -0.155      -0.021\n",
      "NumUnderPov      -0.4204      0.132     -3.187      0.001      -0.679      -0.162\n",
      "==============================================================================\n",
      "Omnibus:                      861.202   Durbin-Watson:                   1.987\n",
      "Prob(Omnibus):                  0.000   Jarque-Bera (JB):             4000.953\n",
      "Skew:                           2.061   Prob(JB):                         0.00\n",
      "Kurtosis:                       8.582   Cond. No.                         70.1\n",
      "==============================================================================\n",
      "\n",
      "Notes:\n",
      "[1] Standard Errors assume that the covariance matrix of the errors is correctly specified.\n"
     ]
    }
   ],
   "source": [
    "#Backward feature elimination\n",
    "maxp = lr.pvalues.max()\n",
    "while(maxp > 0.05):\n",
    "    X2.drop(lr.pvalues.idxmax(),axis=1,inplace=True) \n",
    "    ols = sm.OLS(y,X2)\n",
    "    lr = ols.fit()\n",
    "    maxp = lr.pvalues.max()\n",
    "print(lr.summary())"
   ]
  },
  {
   "cell_type": "code",
   "execution_count": 87,
   "metadata": {},
   "outputs": [],
   "source": [
    "#For cross-validation using train-test split\n",
    "from sklearn.model_selection import train_test_split\n",
    "X_train,X_test,y_train,y_test = train_test_split(X,y,\n",
    "                                                 random_state=1,test_size=0.2)"
   ]
  },
  {
   "cell_type": "code",
   "execution_count": 88,
   "metadata": {},
   "outputs": [
    {
     "data": {
      "text/plain": [
       "0.38342106006542187"
      ]
     },
     "execution_count": 88,
     "metadata": {},
     "output_type": "execute_result"
    }
   ],
   "source": [
    "from sklearn.linear_model import LinearRegression\n",
    "model = LinearRegression()\n",
    "model.fit(X_train,y_train)\n",
    "model.score(X_test,y_test)\n"
   ]
  },
  {
   "cell_type": "code",
   "execution_count": 90,
   "metadata": {},
   "outputs": [
    {
     "name": "stdout",
     "output_type": "stream",
     "text": [
      "0.38342106006542187\n",
      "0.03913443235836777\n",
      "0.19782424613370264\n"
     ]
    }
   ],
   "source": [
    "y_pred = model.predict(X_test)\n",
    "from sklearn.metrics import r2_score,mean_squared_error\n",
    "import math\n",
    "\n",
    "print(r2_score(y_test,y_pred)) #r2\n",
    "print(mean_squared_error(y_test,y_pred)) # mse\n",
    "print(math.sqrt(mean_squared_error(y_test,y_pred)))#rmse\n"
   ]
  },
  {
   "cell_type": "code",
   "execution_count": 43,
   "metadata": {},
   "outputs": [
    {
     "name": "stdout",
     "output_type": "stream",
     "text": [
      "R^2: 0.3121\n",
      "MSE: 0.0394\n",
      "MAE: 0.1166\n",
      "rms: 0.2007\n"
     ]
    }
   ],
   "source": [
    "from sklearn.metrics import r2_score\n",
    "from sklearn.metrics import mean_squared_error\n",
    "from sklearn.metrics import mean_absolute_error\n",
    "\n",
    "print('R^2: %.4f' % r2_score(y_train,y_pred))\n",
    "print('MSE: %.4f' % mean_squared_error(y_train,y_pred))\n",
    "print('MAE: %.4f' % mean_absolute_error(y_train,y_pred))\n",
    "print('rms: %.4f' % rms)\n",
    "\n"
   ]
  },
  {
   "cell_type": "code",
   "execution_count": 91,
   "metadata": {},
   "outputs": [
    {
     "data": {
      "text/plain": [
       "0.38342106006542187"
      ]
     },
     "execution_count": 91,
     "metadata": {},
     "output_type": "execute_result"
    }
   ],
   "source": [
    "#dimensions of data\n",
    "n = len(X_test)\n",
    "k = len(X_test)\n",
    "R2 = r2_score(y_test,y_pred)\n",
    "R2"
   ]
  },
  {
   "cell_type": "code",
   "execution_count": 92,
   "metadata": {},
   "outputs": [
    {
     "name": "stdout",
     "output_type": "stream",
     "text": [
      "246.3984180939621\n"
     ]
    }
   ],
   "source": [
    "#Adj R^2 is useful in multiple regression \n",
    "#as it accounts for number of variables in the scoring\n",
    "\n",
    "Adj_R2 = 1 - ((n-1)*(1- R2)/(n-k-1))\n",
    "print(Adj_R2)"
   ]
  },
  {
   "cell_type": "markdown",
   "metadata": {},
   "source": [
    "### K-Fold Crossvalidation"
   ]
  },
  {
   "cell_type": "code",
   "execution_count": 93,
   "metadata": {},
   "outputs": [
    {
     "data": {
      "text/plain": [
       "0.2773449798675782"
      ]
     },
     "execution_count": 93,
     "metadata": {},
     "output_type": "execute_result"
    }
   ],
   "source": [
    "#k-fold cross validation using linear regression model\n",
    "\n",
    "from sklearn.linear_model import LinearRegression\n",
    "from sklearn.model_selection import cross_val_score\n",
    "cross_val_score(LinearRegression(),X,y,cv=5).mean()"
   ]
  },
  {
   "cell_type": "code",
   "execution_count": 94,
   "metadata": {},
   "outputs": [
    {
     "data": {
      "text/plain": [
       "LinearRegression()"
      ]
     },
     "execution_count": 94,
     "metadata": {},
     "output_type": "execute_result"
    }
   ],
   "source": [
    "model = LinearRegression()\n",
    "model.fit(X,y)"
   ]
  },
  {
   "cell_type": "code",
   "execution_count": 95,
   "metadata": {},
   "outputs": [
    {
     "data": {
      "text/plain": [
       "-0.1815835322120215"
      ]
     },
     "execution_count": 95,
     "metadata": {},
     "output_type": "execute_result"
    }
   ],
   "source": [
    "model.intercept_"
   ]
  },
  {
   "cell_type": "code",
   "execution_count": 96,
   "metadata": {},
   "outputs": [
    {
     "data": {
      "text/plain": [
       "array([ 0.70408258, -0.15729183,  0.32523483,  0.28871703,  0.04957563,\n",
       "        0.20773616, -0.02041625,  0.07691406,  0.1052371 , -0.03718558,\n",
       "        0.35674625,  0.09359952,  0.07095936, -0.16495555, -0.04012709,\n",
       "        0.07843237, -0.09435942,  0.08032888, -0.05510813, -0.15054405,\n",
       "       -0.26731847,  0.3652249 , -0.06962577,  0.005213  ,  0.00800482,\n",
       "        0.0216058 , -0.02800715, -0.46797775, -0.02271358,  0.03775285])"
      ]
     },
     "execution_count": 96,
     "metadata": {},
     "output_type": "execute_result"
    }
   ],
   "source": [
    "model.coef_"
   ]
  },
  {
   "cell_type": "markdown",
   "metadata": {},
   "source": [
    "Inferences:\n",
    "\n",
    "SoundPressure = -0.1815 + 0.70408258 *Population etc, -0.15729183 * aRaceblk  0.32523483 * Racewhite +  0.32523483 * Race Asian 0.04957563 * agepct12-21\n",
    "\n",
    "The model is weak because the k-fold R^2 value is very low. May be a different model (non-linear) will be better to predict the output variable as the correlation study suggests."
   ]
  },
  {
   "cell_type": "code",
   "execution_count": 97,
   "metadata": {},
   "outputs": [],
   "source": [
    "#import the knn model\n",
    "from sklearn.neighbors import KNeighborsRegressor\n"
   ]
  },
  {
   "cell_type": "code",
   "execution_count": 98,
   "metadata": {},
   "outputs": [
    {
     "name": "stdout",
     "output_type": "stream",
     "text": [
      "KNeighborsRegressor(n_neighbors=8)\n"
     ]
    },
    {
     "data": {
      "text/plain": [
       "KNeighborsRegressor(n_jobs=1, n_neighbors=8)"
      ]
     },
     "execution_count": 98,
     "metadata": {},
     "output_type": "execute_result"
    }
   ],
   "source": [
    "model = KNeighborsRegressor(n_neighbors=8)\n",
    "print(model)\n",
    "KNeighborsRegressor(algorithm='auto', leaf_size=30, metric='minkowski',\n",
    "          metric_params=None, n_jobs=1, n_neighbors=8, p=2,\n",
    "          weights='uniform') "
   ]
  },
  {
   "cell_type": "code",
   "execution_count": 99,
   "metadata": {},
   "outputs": [
    {
     "data": {
      "text/plain": [
       "KNeighborsRegressor(n_neighbors=8)"
      ]
     },
     "execution_count": 99,
     "metadata": {},
     "output_type": "execute_result"
    }
   ],
   "source": [
    "model.fit(X,y)"
   ]
  },
  {
   "cell_type": "code",
   "execution_count": 100,
   "metadata": {},
   "outputs": [],
   "source": [
    "#for no.of neighbors from 1 - 10, graph the k-fold scores\n",
    "scores = []\n",
    "for i in range(1,11,1):\n",
    "    knn = KNeighborsRegressor(n_neighbors=i, weights='uniform')\n",
    "    scores.append(cross_val_score(knn,X,y,cv=5).mean())"
   ]
  },
  {
   "cell_type": "code",
   "execution_count": 101,
   "metadata": {},
   "outputs": [
    {
     "data": {
      "text/plain": [
       "0.24235290819638128"
      ]
     },
     "execution_count": 101,
     "metadata": {},
     "output_type": "execute_result"
    }
   ],
   "source": [
    "#see the cross_validated score for cv=5\n",
    "from sklearn.model_selection import cross_val_score\n",
    "cross_val_score(knn,X_train,y_train,cv=5).mean()"
   ]
  },
  {
   "cell_type": "code",
   "execution_count": 102,
   "metadata": {},
   "outputs": [
    {
     "data": {
      "image/png": "[encoded data removed]",
      "text/plain": [
       "<Figure size 432x288 with 1 Axes>"
      ]
     },
     "metadata": {
      "needs_background": "light"
     },
     "output_type": "display_data"
    }
   ],
   "source": [
    "import matplotlib.pyplot as plt\n",
    "plt.plot(range(1,11,1),scores)\n",
    "plt.xlabel('no. of neighbors')\n",
    "plt.ylabel('k-fold test scores')\n",
    "plt.show()\n"
   ]
  },
  {
   "cell_type": "markdown",
   "metadata": {},
   "source": [
    "###### 5-NN is the best model"
   ]
  },
  {
   "cell_type": "code",
   "execution_count": 106,
   "metadata": {},
   "outputs": [
    {
     "name": "stdout",
     "output_type": "stream",
     "text": [
      "KNeighborsRegressor(n_neighbors=4)\n",
      "R2 Value: 0.5018073740076527\n"
     ]
    }
   ],
   "source": [
    "# K-Nearest Neighbor(KNN)\n",
    "from sklearn.neighbors import KNeighborsRegressor\n",
    "RegModel = KNeighborsRegressor(n_neighbors=4)\n",
    "\n",
    "# Printing all the parameters of KNN\n",
    "print(RegModel)\n",
    "\n",
    "# Creating the model on Training Data\n",
    "KNN=RegModel.fit(X_train,y_train)\n",
    "prediction=KNN.predict(X_test)\n",
    "\n",
    "from sklearn import metrics\n",
    "# Measuring Goodness of fit in Training data\n",
    "print('R2 Value:',metrics.r2_score(y_train, KNN.predict(X_train)))\n",
    "\n",
    "# Plotting the feature importance for Top 10 most important columns\n",
    "# The variable importance chart is not available for KNN K-Nearest Neighbor(KNN)\n"
   ]
  },
  {
   "cell_type": "code",
   "execution_count": 107,
   "metadata": {},
   "outputs": [
    {
     "name": "stdout",
     "output_type": "stream",
     "text": [
      "\n",
      "Accuracy values for 10-fold Cross Validation:\n",
      " [ 0.29597396  0.21260538  0.216126    0.25444541  0.15174873 -0.04034926\n",
      "  0.13741676  0.32918038  0.30425797  0.09821684]\n",
      "\n",
      "Final Average Accuracy of the model: 0.196\n"
     ]
    }
   ],
   "source": [
    "Accuracy_Values=cross_val_score(RegModel, X , y, cv=10,)\n",
    "print('\\nAccuracy values for 10-fold Cross Validation:\\n',Accuracy_Values)\n",
    "print('\\nFinal Average Accuracy of the model:', round(Accuracy_Values.mean(),4))\n"
   ]
  },
  {
   "cell_type": "code",
   "execution_count": 108,
   "metadata": {},
   "outputs": [],
   "source": [
    "from sklearn.linear_model import LinearRegression\n",
    "from sklearn.svm import SVR\n",
    "from sklearn.tree import DecisionTreeRegressor\n",
    "from sklearn.ensemble import RandomForestRegressor\n",
    "seed = 0\n",
    "models = []\n",
    "models.append(('LR', LinearRegression()))\n",
    "models.append(('SVR', SVR()))\n",
    "models.append(('DTR', DecisionTreeRegressor(random_state=seed)))\n",
    "models.append(('RFR (100 Trees)', RandomForestRegressor(n_estimators=100, random_state=seed)))"
   ]
  },
  {
   "cell_type": "code",
   "execution_count": 109,
   "metadata": {},
   "outputs": [
    {
     "name": "stdout",
     "output_type": "stream",
     "text": [
      "LR: 0.246 (+/- 0.038)\n",
      "SVR: 0.364 (+/- 0.033)\n",
      "DTR: -0.060 (+/- 0.126)\n",
      "RFR (100 Trees): 0.443 (+/- 0.036)\n"
     ]
    },
    {
     "data": {
      "image/png": "[encoded data removed]",
      "text/plain": [
       "<Figure size 432x288 with 1 Axes>"
      ]
     },
     "metadata": {
      "needs_background": "light"
     },
     "output_type": "display_data"
    }
   ],
   "source": [
    "myplot(X_train, y_train)"
   ]
  },
  {
   "cell_type": "markdown",
   "metadata": {},
   "source": [
    "#SVR MODEL"
   ]
  },
  {
   "cell_type": "code",
   "execution_count": 110,
   "metadata": {},
   "outputs": [
    {
     "data": {
      "text/plain": [
       "LinearSVR(max_iter=1000000)"
      ]
     },
     "execution_count": 110,
     "metadata": {},
     "output_type": "execute_result"
    }
   ],
   "source": [
    "from sklearn.svm import LinearSVR\n",
    "from sklearn.datasets import make_regression\n",
    "from sklearn.metrics import mean_squared_error\n",
    "from sklearn.model_selection import train_test_split\n",
    "from sklearn.model_selection import cross_val_score\n",
    "from sklearn.preprocessing import scale\n",
    "from sklearn.svm import LinearSVR, NuSVR, OneClassSVM\n",
    "\n",
    "\n",
    "linear_svr = LinearSVR(max_iter=1000000)\n",
    "linear_svr.fit(X_train, y_train)\n"
   ]
  },
  {
   "cell_type": "code",
   "execution_count": 111,
   "metadata": {},
   "outputs": [
    {
     "name": "stdout",
     "output_type": "stream",
     "text": [
      "[-0.00050041  0.00619168  0.04266905 -0.00333081  0.00473912 -0.00652203\n",
      "  0.01149057 -0.00104027 -0.00011493  0.00386438  0.05272309 -0.00311381\n",
      "  0.00404615  0.01127851  0.00207213  0.00242074  0.01470936 -0.00078371\n",
      "  0.00277563 -0.00027415]\n",
      "1746    0.00\n",
      "1556    0.00\n",
      "56      0.57\n",
      "1740    0.00\n",
      "913     0.00\n",
      "1781    0.00\n",
      "613     0.00\n",
      "414     0.00\n",
      "1290    0.00\n",
      "804     0.00\n",
      "906     0.77\n",
      "1179    0.00\n",
      "321     0.00\n",
      "120     0.00\n",
      "1824    0.00\n",
      "547     0.00\n",
      "1342    0.00\n",
      "1676    0.00\n",
      "1986    0.00\n",
      "1301    0.00\n",
      "Name: LemasPctOfficDrugUn, dtype: float64\n",
      "Test R^2 Score : 0.138\n",
      "Training R^2 Score : 0.079\n"
     ]
    }
   ],
   "source": [
    "Y_preds = linear_svr.predict(X_test)\n",
    "\n",
    "print(Y_preds[:20])\n",
    "print(y_test[:20])\n",
    "\n",
    "print('Test R^2 Score : %.3f'%linear_svr.score(X_test, y_test)) ## Score method also evaluates accuracy for classification models.\n",
    "print('Training R^2 Score : %.3f'%linear_svr.score(X_train, y_train))\n"
   ]
  },
  {
   "cell_type": "code",
   "execution_count": 112,
   "metadata": {},
   "outputs": [
    {
     "name": "stdout",
     "output_type": "stream",
     "text": [
      "[-2.63259230e-01  1.80284423e-03  1.36305871e-02  1.72744543e-02\n",
      "  4.61219441e-04  3.62184895e-03  5.02333215e-03  9.49233513e-03\n",
      " -1.08874693e-02  9.46583588e-04  3.60578796e-01 -1.08283646e-02\n",
      "  1.11087188e-03  6.50690840e-04 -2.44249382e-05  2.47086076e-03\n",
      "  3.10883424e-03 -3.75097455e-03  1.18016992e-03 -4.29543330e-05\n",
      " -1.50873695e-02  1.90402432e-02  4.51732050e-05 -5.11044079e-04\n",
      " -1.19343330e-03 -6.91141594e-04  9.39797339e-04  5.01116766e-01\n",
      " -2.31201403e-02  2.31177151e-03]\n"
     ]
    }
   ],
   "source": [
    "print( linear_svr.coef_)\n"
   ]
  },
  {
   "cell_type": "code",
   "execution_count": 113,
   "metadata": {},
   "outputs": [
    {
     "name": "stdout",
     "output_type": "stream",
     "text": [
      "Model Intercept : [-0.02417922]\n"
     ]
    }
   ],
   "source": [
    "print(\"Model Intercept :\", linear_svr.intercept_)\n"
   ]
  },
  {
   "cell_type": "code",
   "execution_count": 114,
   "metadata": {},
   "outputs": [
    {
     "name": "stdout",
     "output_type": "stream",
     "text": [
      "0.07987100082462228\n"
     ]
    }
   ],
   "source": [
    "linear_svr.fit(X_train, y_train)\n",
    "\n",
    "score = linear_svr.score(X_train, y_train)\n",
    "print(score)\n"
   ]
  },
  {
   "cell_type": "code",
   "execution_count": 115,
   "metadata": {},
   "outputs": [
    {
     "name": "stdout",
     "output_type": "stream",
     "text": [
      "CV mean score:  0.10370858403142198\n"
     ]
    }
   ],
   "source": [
    "cv_score = cross_val_score(linear_svr, X, y, cv = 10)\n",
    "print(\"CV mean score: \", cv_score.mean())\n"
   ]
  },
  {
   "cell_type": "code",
   "execution_count": 116,
   "metadata": {},
   "outputs": [
    {
     "name": "stdout",
     "output_type": "stream",
     "text": [
      "R-squared: 0.07987100082462228\n"
     ]
    }
   ],
   "source": [
    "score = linear_svr.score(X_train, y_train)\n",
    "print(\"R-squared:\", score)\n"
   ]
  },
  {
   "cell_type": "markdown",
   "metadata": {},
   "source": [
    "###### Random Forest"
   ]
  },
  {
   "cell_type": "code",
   "execution_count": 117,
   "metadata": {},
   "outputs": [],
   "source": [
    "from sklearn.ensemble import RandomForestRegressor\n",
    "from sklearn.model_selection import GridSearchCV\n",
    "from sklearn.model_selection import cross_val_score\n",
    "import matplotlib.pyplot as plt\n"
   ]
  },
  {
   "cell_type": "code",
   "execution_count": 118,
   "metadata": {},
   "outputs": [],
   "source": [
    "#Graph k-fold score vs no. of estimators in Random Forest\n",
    "scores = []\n",
    "for i in range(10,101,10):\n",
    "    scores.append(cross_val_score(RandomForestRegressor(n_estimators=i,random_state=9),\n",
    "                                  X,y,cv=4).mean())"
   ]
  },
  {
   "cell_type": "code",
   "execution_count": 119,
   "metadata": {},
   "outputs": [
    {
     "data": {
      "image/png": "[encoded data removed]",
      "text/plain": [
       "<Figure size 432x288 with 1 Axes>"
      ]
     },
     "metadata": {
      "needs_background": "light"
     },
     "output_type": "display_data"
    }
   ],
   "source": [
    "plt.plot(range(10,101,10),scores)\n",
    "plt.xlabel('No. of DTs in RandomForest')\n",
    "plt.ylabel('K-fold scores')\n",
    "plt.show()"
   ]
  },
  {
   "cell_type": "code",
   "execution_count": 120,
   "metadata": {},
   "outputs": [
    {
     "data": {
      "text/plain": [
       "GridSearchCV(cv=4, estimator=RandomForestRegressor(),\n",
       "             param_grid={'max_depth': [13, 14, 15],\n",
       "                         'n_estimators': [100, 110, 120, 130]})"
      ]
     },
     "execution_count": 120,
     "metadata": {},
     "output_type": "execute_result"
    }
   ],
   "source": [
    "params = {\n",
    "            'n_estimators': [100,110,120,130],\n",
    "            'max_depth': [13,14,15]\n",
    "        }\n",
    "model = GridSearchCV(RandomForestRegressor(), params,cv=4)\n",
    "model.fit(X,y)"
   ]
  },
  {
   "cell_type": "code",
   "execution_count": 123,
   "metadata": {},
   "outputs": [
    {
     "data": {
      "text/plain": [
       "{'max_depth': 13, 'n_estimators': 120}"
      ]
     },
     "execution_count": 123,
     "metadata": {},
     "output_type": "execute_result"
    }
   ],
   "source": [
    "model.best_params_"
   ]
  },
  {
   "cell_type": "code",
   "execution_count": 124,
   "metadata": {},
   "outputs": [
    {
     "data": {
      "text/plain": [
       "0.48181392498320064"
      ]
     },
     "execution_count": 124,
     "metadata": {},
     "output_type": "execute_result"
    }
   ],
   "source": [
    "model.best_score_"
   ]
  },
  {
   "cell_type": "code",
   "execution_count": 126,
   "metadata": {},
   "outputs": [],
   "source": [
    "best_model = model.best_estimator_"
   ]
  },
  {
   "cell_type": "code",
   "execution_count": 127,
   "metadata": {},
   "outputs": [],
   "source": [
    "from sklearn.model_selection import train_test_split\n",
    "X_train,X_test,y_train,y_test = train_test_split(X,y,random_state=5)"
   ]
  },
  {
   "cell_type": "code",
   "execution_count": 128,
   "metadata": {},
   "outputs": [
    {
     "data": {
      "text/plain": [
       "RandomForestRegressor(max_depth=13, n_estimators=120)"
      ]
     },
     "execution_count": 128,
     "metadata": {},
     "output_type": "execute_result"
    }
   ],
   "source": [
    "best_model.fit(X_train,y_train)"
   ]
  },
  {
   "cell_type": "code",
   "execution_count": 129,
   "metadata": {},
   "outputs": [
    {
     "data": {
      "text/plain": [
       "0.4776810608935621"
      ]
     },
     "execution_count": 129,
     "metadata": {},
     "output_type": "execute_result"
    }
   ],
   "source": [
    "best_model.score(X_test,y_test)"
   ]
  },
  {
   "cell_type": "code",
   "execution_count": 130,
   "metadata": {},
   "outputs": [
    {
     "data": {
      "text/plain": [
       "array([0.51857081, 0.48247168, 0.437851  , 0.45715657])"
      ]
     },
     "execution_count": 130,
     "metadata": {},
     "output_type": "execute_result"
    }
   ],
   "source": [
    "cross_val_score(RandomForestRegressor(n_estimators=120,max_depth=14),X,y,cv=4)"
   ]
  },
  {
   "cell_type": "markdown",
   "metadata": {},
   "source": [
    "AdABoost "
   ]
  },
  {
   "cell_type": "code",
   "execution_count": 131,
   "metadata": {},
   "outputs": [
    {
     "data": {
      "image/png": "[encoded data removed]",
      "text/plain": [
       "<Figure size 432x288 with 1 Axes>"
      ]
     },
     "metadata": {
      "needs_background": "light"
     },
     "output_type": "display_data"
    }
   ],
   "source": [
    "from sklearn.ensemble import AdaBoostRegressor\n",
    "\n",
    "#Graph k-fold score vs no. of estimators in Adaboost which uses DT as base estimators\n",
    "scores = []\n",
    "for i in range(10,101,10):\n",
    "    scores.append(cross_val_score(AdaBoostRegressor(n_estimators=i,random_state=0),\n",
    "                                  X,y,cv=4).mean())\n",
    "plt.plot(range(10,101,10),scores)\n",
    "plt.xlabel('No. of DTs in Adaboost')\n",
    "plt.ylabel('K-fold scores')\n",
    "plt.show()"
   ]
  },
  {
   "cell_type": "code",
   "execution_count": 66,
   "metadata": {},
   "outputs": [
    {
     "data": {
      "text/plain": [
       "GridSearchCV(cv=4, estimator=AdaBoostRegressor(random_state=0),\n",
       "             param_grid={'base_estimator': [DecisionTreeRegressor(max_depth=9,\n",
       "                                                                  random_state=0),\n",
       "                                            DecisionTreeRegressor(max_depth=10,\n",
       "                                                                  random_state=0),\n",
       "                                            DecisionTreeRegressor(max_depth=11,\n",
       "                                                                  random_state=0)],\n",
       "                         'n_estimators': [70, 80, 90, 100]})"
      ]
     },
     "execution_count": 66,
     "metadata": {},
     "output_type": "execute_result"
    }
   ],
   "source": [
    "from sklearn.tree import DecisionTreeRegressor\n",
    "#including other params like max_depth, we will apply gridsearch to fine the best settings \n",
    "params = {\n",
    "            'n_estimators': [70,80,90,100],\n",
    "            'base_estimator': [DecisionTreeRegressor(max_depth=9,random_state=0),\n",
    "                               DecisionTreeRegressor(max_depth=10,random_state=0),\n",
    "                               DecisionTreeRegressor(max_depth=11,random_state=0)]\n",
    "        }\n",
    "model = GridSearchCV(AdaBoostRegressor(random_state=0), params,cv=4)\n",
    "model.fit(X,y)"
   ]
  },
  {
   "cell_type": "code",
   "execution_count": 132,
   "metadata": {},
   "outputs": [
    {
     "data": {
      "text/plain": [
       "{'max_depth': 13, 'n_estimators': 120}"
      ]
     },
     "execution_count": 132,
     "metadata": {},
     "output_type": "execute_result"
    }
   ],
   "source": [
    "model.best_params_"
   ]
  },
  {
   "cell_type": "code",
   "execution_count": 133,
   "metadata": {},
   "outputs": [
    {
     "data": {
      "text/plain": [
       "0.48181392498320064"
      ]
     },
     "execution_count": 133,
     "metadata": {},
     "output_type": "execute_result"
    }
   ],
   "source": [
    "model.best_score_"
   ]
  },
  {
   "cell_type": "markdown",
   "metadata": {},
   "source": [
    "###### PySpark "
   ]
  },
  {
   "cell_type": "code",
   "execution_count": 1,
   "metadata": {},
   "outputs": [],
   "source": [
    "#set environment\n",
    "import os\n",
    "import sys\n",
    " \n",
    "os.environ[\"SPARK_HOME\"] = \"/usr/hdp/current/spark2-client\"\n",
    "os.environ[\"PYLIB\"] = os.environ[\"SPARK_HOME\"] + \"/python/lib\"\n",
    "# In below two lines, use /usr/bin/python2.7 if you want to use Python 2\n",
    "os.environ[\"PYSPARK_PYTHON\"] = \"/usr/local/anaconda/bin/python\" \n",
    "os.environ[\"PYSPARK_DRIVER_PYTHON\"] = \"/usr/local/anaconda/bin/python\"\n",
    "sys.path.insert(0, os.environ[\"PYLIB\"] +\"/py4j-0.10.4-src.zip\")\n",
    "sys.path.insert(0, os.environ[\"PYLIB\"] +\"/pyspark.zip\")"
   ]
  },
  {
   "cell_type": "code",
   "execution_count": 4,
   "metadata": {},
   "outputs": [],
   "source": [
    "#renaming the columns\n",
    "data = data.toDF('state',\"county\",\"community\",\"communityname\",\"fold\",\"population\",\"householdsize\",\"racepctblack\",\"racePctWhite\",\"racePctAsian\",\n",
    "                                       \"racePctHisp\",\"agePct12t21\",\"agePct12t29\",\"agePct16t24\",\"agePct65up\",\"numbUrban\",\"pctUrban\",\"medIncome\",\n",
    "                                       \"pctWWage\",\"pctWFarmSelf\",\"pctWInvInc\",\"pctWSocSec\",\"pctWPubAsst\",\"pctWRetire\",\"medFamInc\",\n",
    "                                       \"perCapInc\",\"whitePerCap\",\"blackPerCap\",\"indianPerCap\",\"AsianPerCap\",\"OtherPerCap\",\"HispPerCap\",\n",
    "                                       \"NumUnderPov\",\"PctPopUnderPov\",\"PctLess9thGrade\",\"PctNotHSGrad\",\"PctBSorMore\",\"PctUnemployed\",\n",
    "                                       \"PctEmploy\",\"PctEmplManu\",\"PctEmplProfServ\",\"PctOccupManu\",\"PctOccupMgmtProf\",\"MalePctDivorce\", \n",
    "                                       \"MalePctNevMarr\",\"FemalePctDiv\",\"TotalPctDiv\",\"PersPerFam\",\"PctFam2Par\",\"PctKids2Par\", \n",
    "                                       \"PctYoungKids2Par\",\"PctTeen2Par\",\"PctWorkMomYoungKids\",\"PctWorkMom\",\"NumIlleg\",\"PctIlleg\", \n",
    "                                       \"NumImmig\",\"PctImmigRecent\",\"PctImmigRec5\",\"PctImmigRec8\",\"PctImmigRec10\",\"PctRecentImmig\",\n",
    "                                       \"PctRecImmig5\",\"PctRecImmig8\",\"PctRecImmig10\",\"PctSpeakEnglOnly\",\"PctNotSpeakEnglWell\",\n",
    "                                       \"PctLargHouseFam\",\"PctLargHouseOccup\",\"PersPerOccupHous\",\"PersPerOwnOccHous\",\"PersPerRentOccHous\",\n",
    "                                       \"PctPersOwnOccup\",\"PctPersDenseHous\",\"PctHousLess3BR\",\"MedNumBR\",\"HousVacant\",\"PctHousOccup\",\n",
    "                                       \"PctHousOwnOcc\",\"PctVacantBoarded\",\"PctVacMore6Mos\",\"MedYrHousBuilt\",\"PctHousNoPhone\",\n",
    "                                       \"PctWOFullPlumb\",\"OwnOccLowQuart\",\"OwnOccMedVal\",\"OwnOccHiQuart\",\"RentLowQ\",\"RentMedian\",\n",
    "                                       \"RentHighQ\",\"MedRent\",\"MedRentPctHousInc\",\"MedOwnCostPctInc\",\"MedOwnCostPctIncNoMtg\",\"NumInShelters\",  \n",
    "                                       \"NumStreet\",\"PctForeignBorn\",\"PctBornSameState\",\"PctSameHouse85\",\"PctSameCity85\",\"PctSameState85\",\n",
    "                                       \"LemasSwornFT\",\"LemasSwFTPerPop\",\"LemasSwFTFieldOps\",\"LemasSwFTFieldPerPop\",\"LemasTotalReq\",  \n",
    "                                       \"LemasTotReqPerPop\",\"PolicReqPerOffic\",\"PolicPerPop\",\"RacialMatchCommPol\",\"PctPolicWhite\",  \n",
    "                                       \"PctPolicBlack\",\"PctPolicHisp\",\"PctPolicAsian\",\"PctPolicMinor\",\"OfficAssgnDrugUnits\",\n",
    "                                       \"NumKindsDrugsSeiz\",\"PolicAveOTWorked\",\"LandArea\",\"PopDens\",\"PctUsePubTrans\",\"PolicCars\",  \n",
    "                                       \"PolicOperBudg\",\"LemasPctPolicOnPatr\",\"LemasGangUnitDeploy\",\"LemasPctOfficDrugUn\",\"PolicBudgPerPop\",\"ViolentCrimesPerPop\")"
   ]
  },
  {
   "cell_type": "code",
   "execution_count": 2,
   "metadata": {},
   "outputs": [],
   "source": [
    "#import Sparksession driver\n",
    "from pyspark.sql import SparkSession\n",
    "spark = SparkSession \\\n",
    "    .builder \\\n",
    "    .appName(\"Community crime Regressor Arun Kumar ML\") \\\n",
    "    .getOrCreate()"
   ]
  },
  {
   "cell_type": "code",
   "execution_count": 3,
   "metadata": {},
   "outputs": [
    {
     "name": "stdout",
     "output_type": "stream",
     "text": [
      "+---+---+-----+--------------------+---+----+----+----+----+----+----+----+----+----+----+----+----+----+----+----+----+----+----+----+----+----+----+----+----+----+----+----+----+----+----+----+----+----+----+----+----+----+----+----+----+----+----+----+----+----+----+----+----+----+----+----+----+----+----+----+----+----+----+----+----+----+----+----+----+----+----+----+----+----+----+----+----+----+----+----+----+----+----+----+----+----+----+----+----+----+----+----+----+----+----+----+----+----+----+----+-----+-----+-----+-----+-----+-----+-----+-----+-----+-----+-----+-----+-----+-----+-----+-----+-----+-----+-----+-----+-----+-----+-----+-----+-----+-----+-----+-----+\n",
      "|_c0|_c1|  _c2|                 _c3|_c4| _c5| _c6| _c7| _c8| _c9|_c10|_c11|_c12|_c13|_c14|_c15|_c16|_c17|_c18|_c19|_c20|_c21|_c22|_c23|_c24|_c25|_c26|_c27|_c28|_c29|_c30|_c31|_c32|_c33|_c34|_c35|_c36|_c37|_c38|_c39|_c40|_c41|_c42|_c43|_c44|_c45|_c46|_c47|_c48|_c49|_c50|_c51|_c52|_c53|_c54|_c55|_c56|_c57|_c58|_c59|_c60|_c61|_c62|_c63|_c64|_c65|_c66|_c67|_c68|_c69|_c70|_c71|_c72|_c73|_c74|_c75|_c76|_c77|_c78|_c79|_c80|_c81|_c82|_c83|_c84|_c85|_c86|_c87|_c88|_c89|_c90|_c91|_c92|_c93|_c94|_c95|_c96|_c97|_c98|_c99|_c100|_c101|_c102|_c103|_c104|_c105|_c106|_c107|_c108|_c109|_c110|_c111|_c112|_c113|_c114|_c115|_c116|_c117|_c118|_c119|_c120|_c121|_c122|_c123|_c124|_c125|_c126|_c127|\n",
      "+---+---+-----+--------------------+---+----+----+----+----+----+----+----+----+----+----+----+----+----+----+----+----+----+----+----+----+----+----+----+----+----+----+----+----+----+----+----+----+----+----+----+----+----+----+----+----+----+----+----+----+----+----+----+----+----+----+----+----+----+----+----+----+----+----+----+----+----+----+----+----+----+----+----+----+----+----+----+----+----+----+----+----+----+----+----+----+----+----+----+----+----+----+----+----+----+----+----+----+----+----+----+-----+-----+-----+-----+-----+-----+-----+-----+-----+-----+-----+-----+-----+-----+-----+-----+-----+-----+-----+-----+-----+-----+-----+-----+-----+-----+-----+-----+\n",
      "|  8|  ?|    ?|        Lakewoodcity|  1|0.19|0.33|0.02| 0.9|0.12|0.17|0.34|0.47|0.29|0.32| 0.2| 1.0|0.37|0.72|0.34| 0.6|0.29|0.15|0.43|0.39| 0.4|0.39|0.32|0.27|0.27|0.36|0.41|0.08|0.19| 0.1|0.18|0.48|0.27|0.68|0.23|0.41|0.25|0.52|0.68| 0.4|0.75|0.75|0.35|0.55|0.59|0.61|0.56|0.74|0.76|0.04|0.14|0.03|0.24|0.27|0.37|0.39|0.07|0.07|0.08|0.08|0.89|0.06|0.14|0.13|0.33|0.39|0.28|0.55|0.09|0.51| 0.5|0.21|0.71|0.52|0.05|0.26|0.65|0.14|0.06|0.22|0.19|0.18|0.36|0.35|0.38|0.34|0.38|0.46|0.25|0.04| 0.0|0.12|0.42| 0.5|0.51| 0.64| 0.03| 0.13| 0.96| 0.17| 0.06| 0.18| 0.44| 0.13| 0.94| 0.93| 0.03| 0.07|  0.1| 0.07| 0.02| 0.57| 0.29| 0.12| 0.26|  0.2| 0.06| 0.04|  0.9|  0.5| 0.32| 0.14|  0.2|\n",
      "| 53|  ?|    ?|         Tukwilacity|  1| 0.0|0.16|0.12|0.74|0.45|0.07|0.26|0.59|0.35|0.27|0.02| 1.0|0.31|0.72|0.11|0.45|0.25|0.29|0.39|0.29|0.37|0.38|0.33|0.16| 0.3|0.22|0.35|0.01|0.24|0.14|0.24| 0.3|0.27|0.73|0.57|0.15|0.42|0.36| 1.0|0.63|0.91| 1.0|0.29|0.43|0.47| 0.6|0.39|0.46|0.53| 0.0|0.24|0.01|0.52|0.62|0.64|0.63|0.25|0.27|0.25|0.23|0.84| 0.1|0.16| 0.1|0.17|0.29|0.17|0.26| 0.2|0.82| 0.0|0.02|0.79|0.24|0.02|0.25|0.65|0.16| 0.0|0.21| 0.2|0.21|0.42|0.38| 0.4|0.37|0.29|0.32|0.18| 0.0| 0.0|0.21| 0.5|0.34| 0.6| 0.52|    ?|    ?|    ?|    ?|    ?|    ?|    ?|    ?|    ?|    ?|    ?|    ?|    ?|    ?|    ?|    ?|    ?| 0.02| 0.12| 0.45|    ?|    ?|    ?|    ?|  0.0|    ?| 0.67|\n",
      "| 24|  ?|    ?|        Aberdeentown|  1| 0.0|0.42|0.49|0.56|0.17|0.04|0.39|0.47|0.28|0.32| 0.0| 0.0| 0.3|0.58|0.19|0.39|0.38| 0.4|0.84|0.28|0.27|0.29|0.27|0.07|0.29|0.28|0.39|0.01|0.27|0.27|0.43|0.19|0.36|0.58|0.32|0.29|0.49|0.32|0.63|0.41|0.71| 0.7|0.45|0.42|0.44|0.43|0.43|0.71|0.67|0.01|0.46| 0.0|0.07|0.06|0.15|0.19|0.02|0.02|0.04|0.05|0.88|0.04| 0.2| 0.2|0.46|0.52|0.43|0.42|0.15|0.51| 0.5|0.01|0.86|0.41|0.29| 0.3|0.52|0.47|0.45|0.18|0.17|0.16|0.27|0.29|0.27|0.31|0.48|0.39|0.28| 0.0| 0.0|0.14|0.49|0.54|0.67| 0.56|    ?|    ?|    ?|    ?|    ?|    ?|    ?|    ?|    ?|    ?|    ?|    ?|    ?|    ?|    ?|    ?|    ?| 0.01| 0.21| 0.02|    ?|    ?|    ?|    ?|  0.0|    ?| 0.43|\n",
      "| 34|  5|81440| Willingborotownship|  1|0.04|0.77| 1.0|0.08|0.12| 0.1|0.51| 0.5|0.34|0.21|0.06| 1.0|0.58|0.89|0.21|0.43|0.36| 0.2|0.82|0.51|0.36| 0.4|0.39|0.16|0.25|0.36|0.44|0.01| 0.1|0.09|0.25|0.31|0.33|0.71|0.36|0.45|0.37|0.39|0.34|0.45|0.49|0.44|0.75|0.65|0.54|0.83|0.65|0.85|0.86|0.03|0.33|0.02|0.11| 0.2| 0.3|0.31|0.05|0.08|0.11|0.11|0.81|0.08|0.56|0.62|0.85|0.77| 1.0|0.94|0.12|0.01| 0.5|0.01|0.97|0.96| 0.6|0.47|0.52|0.11|0.11|0.24|0.21|0.19|0.75| 0.7|0.77|0.89|0.63|0.51|0.47| 0.0| 0.0|0.19| 0.3|0.73|0.64| 0.65|    ?|    ?|    ?|    ?|    ?|    ?|    ?|    ?|    ?|    ?|    ?|    ?|    ?|    ?|    ?|    ?|    ?| 0.02| 0.39| 0.28|    ?|    ?|    ?|    ?|  0.0|    ?| 0.12|\n",
      "| 42| 95| 6096|   Bethlehemtownship|  1|0.01|0.55|0.02|0.95|0.09|0.05|0.38|0.38|0.23|0.36|0.02| 0.9| 0.5|0.72|0.16|0.68|0.44|0.11|0.71|0.46|0.43|0.41|0.28| 0.0|0.74|0.51|0.48| 0.0|0.06|0.25| 0.3|0.33|0.12|0.65|0.67|0.38|0.42|0.46|0.22|0.27| 0.2|0.21|0.51|0.91|0.91|0.89|0.85| 0.4| 0.6| 0.0|0.06| 0.0|0.03|0.07| 0.2|0.27|0.01|0.02|0.04|0.05|0.88|0.05|0.16|0.19|0.59| 0.6|0.37|0.89|0.02|0.19| 0.5|0.01|0.89|0.87|0.04|0.55|0.73|0.05|0.14|0.31|0.31| 0.3| 0.4|0.36|0.38|0.38|0.22|0.51|0.21| 0.0| 0.0|0.11|0.72|0.64|0.61| 0.53|    ?|    ?|    ?|    ?|    ?|    ?|    ?|    ?|    ?|    ?|    ?|    ?|    ?|    ?|    ?|    ?|    ?| 0.04| 0.09| 0.02|    ?|    ?|    ?|    ?|  0.0|    ?| 0.03|\n",
      "|  6|  ?|    ?|   SouthPasadenacity|  1|0.02|0.28|0.06|0.54| 1.0|0.25|0.31|0.48|0.27|0.37|0.04| 1.0|0.52|0.68| 0.2|0.61|0.28|0.15|0.25|0.62|0.72|0.76|0.77|0.28|0.52|0.48| 0.6|0.01|0.12|0.13|0.12| 0.8| 0.1|0.65|0.19|0.77|0.06|0.91|0.49|0.57|0.61|0.58|0.44|0.62|0.69|0.87|0.53| 0.3|0.43| 0.0|0.11|0.04| 0.3|0.35|0.43|0.47| 0.5| 0.5|0.56|0.57|0.45|0.28|0.25|0.19|0.29|0.53|0.18|0.39|0.26|0.73| 0.0|0.02|0.84| 0.3|0.16|0.28|0.25|0.02|0.05|0.94| 1.0| 1.0|0.67|0.63|0.68|0.62|0.47|0.59|0.11| 0.0| 0.0| 0.7|0.42|0.49|0.73| 0.64|    ?|    ?|    ?|    ?|    ?|    ?|    ?|    ?|    ?|    ?|    ?|    ?|    ?|    ?|    ?|    ?|    ?| 0.01| 0.58|  0.1|    ?|    ?|    ?|    ?|  0.0|    ?| 0.14|\n",
      "| 44|  7|41500|         Lincolntown|  1|0.01|0.39| 0.0|0.98|0.06|0.02| 0.3|0.37|0.23| 0.6|0.02|0.81|0.42| 0.5|0.23|0.68|0.61|0.21|0.54|0.43|0.47|0.44| 0.4|0.24|0.86|0.24|0.36|0.01|0.11|0.29|0.41|0.36|0.28|0.54|0.44|0.53|0.33|0.49|0.25|0.34|0.28|0.28|0.42|0.77|0.81|0.79|0.74|0.57|0.62| 0.0|0.13|0.01| 0.0|0.02|0.02| 0.1| 0.0|0.01|0.01|0.03|0.73|0.05|0.12|0.13|0.42|0.54|0.24|0.65|0.03|0.46| 0.5|0.01|0.89|0.57|0.09|0.49|0.38|0.05|0.05|0.37|0.38|0.39|0.26|0.35|0.42|0.35|0.46|0.44|0.31| 0.0| 0.0|0.15|0.81|0.77|0.91| 0.84|    ?|    ?|    ?|    ?|    ?|    ?|    ?|    ?|    ?|    ?|    ?|    ?|    ?|    ?|    ?|    ?|    ?| 0.05| 0.08| 0.06|    ?|    ?|    ?|    ?|  0.0|    ?| 0.03|\n",
      "|  6|  ?|    ?|           Selmacity|  1|0.01|0.74|0.03|0.46| 0.2| 1.0|0.52|0.55|0.36|0.35| 0.0| 0.0|0.16|0.44| 1.0|0.23|0.53|0.97|0.41|0.15| 0.1|0.12|0.08|0.17|0.27|0.18|0.21|0.03|0.64|0.96|0.82|0.12| 1.0|0.26|0.43|0.34|0.71|0.18|0.38|0.47|0.59|0.52|0.78|0.45|0.43|0.34|0.34|0.29|0.27|0.02| 0.5|0.02| 0.5|0.59|0.65|0.59|0.69|0.72|0.71| 0.6|0.12|0.93|0.74|0.75| 0.8|0.68|0.92|0.39|0.89|0.66| 0.0|0.01|0.91|0.46|0.22|0.37| 0.6|0.28|0.23|0.15|0.13|0.13|0.21|0.24|0.25|0.24|0.64|0.59|0.28| 0.0| 0.0|0.59|0.58|0.52|0.79| 0.78|    ?|    ?|    ?|    ?|    ?|    ?|    ?|    ?|    ?|    ?|    ?|    ?|    ?|    ?|    ?|    ?|    ?| 0.01| 0.33|  0.0|    ?|    ?|    ?|    ?|  0.0|    ?| 0.55|\n",
      "| 21|  ?|    ?|       Hendersoncity|  1|0.03|0.34| 0.2|0.84|0.02| 0.0|0.38|0.45|0.28|0.48|0.04| 1.0|0.17|0.47|0.36|0.34|0.55|0.48|0.43|0.21|0.23|0.23|0.19| 0.1|0.26|0.29|0.22|0.04|0.45|0.52|0.59|0.17|0.55|0.43|0.59|0.36|0.64|0.29|0.62|0.26|0.66|0.67|0.37|0.51|0.55|0.58|0.47|0.65|0.64|0.02|0.29| 0.0|0.12|0.09|0.07|0.13| 0.0| 0.0| 0.0| 0.0|0.99|0.01|0.12|0.12|0.35|0.38|0.33| 0.5| 0.1|0.64| 0.0|0.04|0.72|0.49|0.05|0.49| 0.5|0.57|0.22|0.07|0.07|0.08|0.14|0.17|0.16|0.15|0.38|0.13|0.36|0.01| 0.0|0.01|0.78|0.48|0.79| 0.75|    ?|    ?|    ?|    ?|    ?|    ?|    ?|    ?|    ?|    ?|    ?|    ?|    ?|    ?|    ?|    ?|    ?| 0.04| 0.17| 0.04|    ?|    ?|    ?|    ?|  0.0|    ?| 0.53|\n",
      "| 29|  ?|    ?|         Claytoncity|  1|0.01| 0.4|0.06|0.87| 0.3|0.03| 0.9|0.82| 0.8|0.39|0.02| 1.0|0.54|0.59|0.22|0.86|0.42|0.02|0.31|0.85|0.89|0.94|0.11|0.09|0.33|0.17| 0.8| 0.0|0.11|0.04|0.03| 1.0|0.11|0.44| 0.2| 1.0|0.02|0.96| 0.3|0.85|0.39|0.36|0.31|0.65|0.73|0.78|0.67|0.72|0.71| 0.0|0.07|0.01|0.41|0.44|0.52|0.48|0.22|0.21|0.22|0.19|0.85|0.03|0.09|0.06|0.15|0.34|0.05|0.48|0.03|0.58| 0.0|0.02|0.72|0.38|0.07|0.47|0.04|0.01| 0.0|0.63|0.71|0.79|0.44|0.42|0.47|0.41|0.23|0.27|0.28| 0.0| 0.0|0.22|0.42|0.34|0.23| 0.09|    ?|    ?|    ?|    ?|    ?|    ?|    ?|    ?|    ?|    ?|    ?|    ?|    ?|    ?|    ?|    ?|    ?|  0.0| 0.47| 0.11|    ?|    ?|    ?|    ?|  0.0|    ?| 0.15|\n",
      "|  6|  ?|    ?|        DalyCitycity|  1|0.13|0.71|0.15|0.07| 1.0|0.41| 0.4|0.52|0.35|0.33|0.15| 1.0|0.49|0.71|0.16|0.47|0.36| 0.4|0.45|0.47|0.33|0.37| 0.4|0.22|0.32|0.34|0.38|0.06|0.18|0.33|0.36|0.38|0.32|0.62| 0.2|0.29|0.35| 0.3|0.41|0.55|0.46|0.46|0.85|0.62|0.56|0.68|0.62|0.83|0.81|0.05| 0.3|0.28|0.36|0.43|0.52|0.57| 1.0| 1.0| 1.0| 1.0| 0.0|0.58|0.88|0.82|0.77|0.79|0.72|0.49|0.91|0.63| 0.0|0.06|0.87|0.49| 0.1| 0.2|0.46|0.05|0.28|0.75|0.74| 0.7|0.73|0.67|0.82|0.67|0.58|0.67|0.19|0.07|0.14| 1.0|0.35|0.53|0.39| 0.62|    ?|    ?|    ?|    ?|    ?|    ?|    ?|    ?|    ?|    ?|    ?|    ?|    ?|    ?|    ?|    ?|    ?| 0.02|  1.0|  1.0|    ?|    ?|    ?|    ?|  0.0|    ?| 0.24|\n",
      "| 36|  ?|    ?|RockvilleCentrevi...|  1|0.02|0.46|0.08|0.91|0.07| 0.1|0.34|0.36|0.22|0.57|0.04| 1.0|0.72|0.53|0.23|0.74|0.63|0.17|0.59| 0.8|0.72|0.71|0.36| 0.7|0.43|0.35|0.41|0.01|0.07|0.18|0.19|0.72|0.18|0.51|0.18|0.67|0.13|0.79|0.18| 0.4|0.24|0.22|0.59|0.85|0.87|0.89|0.78|0.31|0.39|0.01|0.14|0.01|0.11|0.17|0.21|0.27|0.05|0.07|0.08| 0.1|0.82|0.08|0.34|0.31| 0.5|0.64| 0.2|0.72|0.09|0.41| 0.5|0.02|0.89|0.62|0.07|0.43|0.06|0.02|0.09|0.74|0.76|0.79|0.45|0.54|0.65|0.49|0.39|0.51|0.68|0.01| 0.0| 0.2|0.88|0.91| 0.9| 0.93|    ?|    ?|    ?|    ?|    ?|    ?|    ?|    ?|    ?|    ?|    ?|    ?|    ?|    ?|    ?|    ?|    ?| 0.01| 0.63|  1.0|    ?|    ?|    ?|    ?|  0.0|    ?| 0.08|\n",
      "| 25| 21|44105|         Needhamtown|  1|0.03|0.47|0.01|0.96|0.13|0.02|0.29|0.32| 0.2|0.52|0.04| 1.0| 0.8|0.55|0.18|0.87|0.51|0.07|0.55|0.82|0.78|0.77|0.62|0.14|0.54|0.17|0.46|0.01|0.07|0.07|0.07|0.89|0.24|0.55|0.29|0.73| 0.1|0.88|0.13|0.38| 0.2|0.18| 0.5|0.87| 0.9|0.87|0.73|0.33|0.48| 0.0|0.03|0.01|0.25|0.28|0.26|0.25|0.13|0.13|0.11| 0.1|0.87|0.05|0.18|0.19| 0.5|0.55|0.25|0.83|0.02|0.25| 0.5|0.01|0.94|0.78| 0.0|0.26|0.29|0.01|0.15|0.71|0.69|0.68| 0.6|0.82| 1.0|0.87| 0.4|0.39|0.46| 0.0| 0.0|0.22|0.66|0.82|0.66| 0.73|    ?|    ?|    ?|    ?|    ?|    ?|    ?|    ?|    ?|    ?|    ?|    ?|    ?|    ?|    ?|    ?|    ?| 0.03| 0.18| 0.59|    ?|    ?|    ?|    ?|  0.0|    ?| 0.06|\n",
      "| 55| 87|30075|      GrandChutetown|  1|0.01|0.44| 0.0|0.98|0.04|0.01|0.35|0.53|0.32|0.23|0.02|0.77|0.46|0.77|0.41|0.73|0.28| 0.1|0.22|0.47|0.41| 0.4|0.38|0.32|0.09|0.13|0.75| 0.0|0.07| 0.2|0.22|0.42|0.13|0.76|0.67|0.24|0.42|0.47|0.37|0.39|0.27|0.32|0.47|0.88|0.92|0.88|0.82|0.56| 0.6| 0.0|0.08| 0.0|0.08|0.06|0.25|0.22|0.01| 0.0|0.02|0.01|0.96|0.05|0.14|0.14|0.45|0.63|0.19|0.65|0.04|0.45| 0.5|0.01|0.92|0.55|0.05|0.21|0.85|0.08|0.07|0.19|0.18|0.18|0.35|0.32|0.32|0.29|0.16|0.35|0.26|0.01| 0.0|0.03|0.86|0.43|0.47| 0.69|    ?|    ?|    ?|    ?|    ?|    ?|    ?|    ?|    ?|    ?|    ?|    ?|    ?|    ?|    ?|    ?|    ?| 0.08| 0.04|  0.0|    ?|    ?|    ?|    ?|  0.0|    ?| 0.09|\n",
      "|  6|  ?|    ?|       DanaPointcity|  1|0.04|0.36|0.01|0.85|0.14|0.26|0.32|0.46| 0.3|0.31|0.05| 1.0|0.71|0.67|0.42|0.55|0.25|0.14|0.36| 0.7|0.79|0.82|0.29|0.37|0.53|0.28|0.38|0.02|0.18|0.11|0.14|0.58|0.19|0.68|0.28|0.35|0.15|0.61| 0.6| 0.5|0.68|0.66|0.35|0.66|0.68|0.87|0.59| 0.3| 0.3|0.01| 0.1|0.03|0.69|0.74| 0.7|0.69|0.65|0.61|0.53|0.47|0.74|0.32|0.26|0.22|0.39|0.37|0.45|0.47|0.21|0.54| 0.5| 0.1|0.43| 0.5| 0.0|0.19|0.79|0.07|0.07|0.88|0.93|0.97|0.96|0.91| 1.0|0.87|0.55|0.81|0.21| 0.0|0.11| 0.4|0.42|0.31|0.51| 0.53|    ?|    ?|    ?|    ?|    ?|    ?|    ?|    ?|    ?|    ?|    ?|    ?|    ?|    ?|    ?|    ?|    ?| 0.02|  0.4| 0.15|    ?|    ?|    ?|    ?|  0.0|    ?| 0.21|\n",
      "| 19|187|91370|       FortDodgecity|  1|0.03|0.34|0.06|0.93|0.03|0.03|0.39|0.41|0.28|0.58| 0.0| 0.0|0.18|0.42|0.81|0.49|0.62|0.37|0.41|0.21|0.22|0.21|0.16|0.12|0.46|0.33|0.28|0.03|0.33| 0.3|0.37|0.24|0.32|0.42|0.38|0.48|0.48|0.36| 0.5|0.34|0.45|0.49|0.38|0.55| 0.6|0.61|0.52|0.64|0.71|0.01|0.19| 0.0|0.05|0.04|0.03|0.13| 0.0| 0.0| 0.0|0.01|0.95|0.03|0.14|0.12|0.32|0.39|0.22|0.62|0.04|0.53| 0.5|0.04|0.76|0.58|0.41|0.47|0.25|0.24|0.44|0.04|0.04|0.05| 0.1|0.13|0.14|0.13| 0.4| 0.2|0.35|0.01| 0.0|0.03|0.85| 0.6|0.74| 0.78|    ?|    ?|    ?|    ?|    ?|    ?|    ?|    ?|    ?|    ?|    ?|    ?|    ?|    ?|    ?|    ?|    ?| 0.04| 0.15| 0.04|    ?|    ?|    ?|    ?|  0.0|    ?|  0.3|\n",
      "| 36|  1| 1000|          Albanycity|  1|0.15|0.31| 0.4|0.63|0.14|0.06|0.58|0.72|0.65|0.47|0.16| 1.0|0.22|0.52| 0.1|0.51|0.48|0.39|0.51| 0.3|0.29|0.34|0.23|0.13| 0.2| 0.2| 0.3|0.15|0.48| 0.3|0.38|0.47|0.37|0.44|0.08|0.73|0.21|0.53| 0.5|0.94|0.45|0.49|0.36| 0.2|0.25|0.25|0.19|0.61|0.65|0.13|0.73|0.05|0.39|0.39|0.46|0.46|0.21|0.19| 0.2|0.18|0.81|0.08|0.22|0.13|0.21|0.33|0.22|0.24| 0.1| 0.6| 0.0|0.22|0.64|0.22|0.79| 0.6| 0.0| 0.4|0.26|0.23|0.23|0.23|0.31|0.32|0.36|0.33|0.52|0.35| 0.4|0.23|0.02|0.23| 0.8|0.41|0.53|  0.8| 0.06|  0.3| 0.93| 0.38| 0.05| 0.21| 0.23|  0.3| 0.61| 0.89| 0.15| 0.01| 0.06| 0.12|  0.1| 0.64| 0.22| 0.06| 0.39| 0.84| 0.06| 0.06| 0.91|  0.5| 0.88| 0.26| 0.49|\n",
      "| 34| 27|17650|    Denvilletownship|  1|0.01|0.53|0.01|0.94| 0.2|0.03|0.34|0.39|0.27|0.36|0.02|0.76|0.79|0.77|0.13|0.77|0.44|0.15|0.56|0.75|0.69|0.67|0.38| 0.0|0.51|   1|0.62| 0.0|0.04| 0.1|0.18|0.58|0.11|0.68|0.42|0.37|0.21|0.66|0.25| 0.4|0.25|0.26|0.52|0.88|0.88|0.97|0.74|0.51|0.48| 0.0|0.04|0.01|0.15|0.26|0.32| 0.3|0.09|0.14|0.15|0.13|0.82|0.04| 0.2|0.21|0.57|0.58|0.34|0.89|0.04|0.27| 0.5|0.01|0.88|0.86|0.25|0.54|0.33|0.03|0.08| 0.5|0.49| 0.5| 0.8|0.76|0.96| 0.8|0.69|0.52|0.65| 0.0| 0.0|0.26|0.64| 0.8|0.74| 0.73|    ?|    ?|    ?|    ?|    ?|    ?|    ?|    ?|    ?|    ?|    ?|    ?|    ?|    ?|    ?|    ?|    ?| 0.03| 0.09| 0.21|    ?|    ?|    ?|    ?|  0.0|    ?| 0.07|\n",
      "| 18|  ?|    ?|      Valparaisocity|  1|0.02|0.47|0.01|0.97|0.07|0.02| 0.7|0.67|0.63|0.37| 0.0| 0.0|0.33|0.56|0.28|0.62|0.43|0.21| 0.4|0.41|0.34|0.32|0.22|0.37|0.69|0.72|0.35|0.02|0.22|0.16|0.24|0.45|0.19|0.48|0.36|0.77|0.25|0.56|0.38|0.58|0.43|0.43|0.41|0.66|0.73|0.72|0.63|0.53| 0.6|0.01|0.11| 0.0| 0.4|0.35|0.37|0.39|0.08|0.06|0.06|0.06|0.95|0.01|0.12|0.11|0.33|0.49|0.19|0.54|0.06|0.55| 0.5|0.01|0.89|0.46|0.27|0.43| 0.5|0.12|0.05|0.14|0.14|0.14|0.27|0.29| 0.3| 0.3|0.45|0.22|0.28| 0.0| 0.0|0.08|0.58| 0.4|0.49| 0.45|    ?|    ?|    ?|    ?|    ?|    ?|    ?|    ?|    ?|    ?|    ?|    ?|    ?|    ?|    ?|    ?|    ?| 0.03|  0.2| 0.07|    ?|    ?|    ?|    ?|  0.0|    ?| 0.15|\n",
      "| 42|129|66376|   Rostravertownship|  1| 0.0|0.41|0.05|0.96|0.01|0.01|0.37|0.37|0.24|0.55|0.01|0.58|0.23|0.34|0.33|0.51| 0.7|0.36|0.87|0.24|0.22|0.21|0.24|0.15| 0.0|   0|0.31|0.01|0.28|0.27|0.38|0.19|0.72|0.25|0.39|0.35|0.49|0.34|0.31|0.29|0.27| 0.3|0.41|0.76|0.74|0.83|0.89|0.45|0.31| 0.0|0.06| 0.0| 0.0| 0.0| 0.0| 0.0| 0.0| 0.0| 0.0| 0.0|0.94|0.02| 0.1|0.12|0.46|0.45|0.41|0.83|0.04|0.42| 0.5|0.01|0.75|0.83|0.31|0.84|0.44|0.05|0.18|0.08|0.09| 0.1|0.06|0.12|0.15| 0.2|0.19| 0.2|0.28| 0.0| 0.0|0.02|0.98|0.91|0.78| 0.93|    ?|    ?|    ?|    ?|    ?|    ?|    ?|    ?|    ?|    ?|    ?|    ?|    ?|    ?|    ?|    ?|    ?| 0.09| 0.03| 0.05|    ?|    ?|    ?|    ?|  0.0|    ?| 0.03|\n",
      "+---+---+-----+--------------------+---+----+----+----+----+----+----+----+----+----+----+----+----+----+----+----+----+----+----+----+----+----+----+----+----+----+----+----+----+----+----+----+----+----+----+----+----+----+----+----+----+----+----+----+----+----+----+----+----+----+----+----+----+----+----+----+----+----+----+----+----+----+----+----+----+----+----+----+----+----+----+----+----+----+----+----+----+----+----+----+----+----+----+----+----+----+----+----+----+----+----+----+----+----+----+----+-----+-----+-----+-----+-----+-----+-----+-----+-----+-----+-----+-----+-----+-----+-----+-----+-----+-----+-----+-----+-----+-----+-----+-----+-----+-----+-----+-----+\n",
      "only showing top 20 rows\n",
      "\n"
     ]
    }
   ],
   "source": [
    "data = spark.read.csv('communities_crime.csv',inferSchema=True,header = None)\n",
    "data.show()"
   ]
  },
  {
   "cell_type": "code",
   "execution_count": 15,
   "metadata": {},
   "outputs": [
    {
     "name": "stdout",
     "output_type": "stream",
     "text": [
      "root\n",
      " |-- state: integer (nullable = true)\n",
      " |-- county: string (nullable = true)\n",
      " |-- community: string (nullable = true)\n",
      " |-- communityname: string (nullable = true)\n",
      " |-- fold: integer (nullable = true)\n",
      " |-- population: double (nullable = true)\n",
      " |-- householdsize: double (nullable = true)\n",
      " |-- racepctblack: double (nullable = true)\n",
      " |-- racePctWhite: double (nullable = true)\n",
      " |-- racePctAsian: double (nullable = true)\n",
      " |-- racePctHisp: double (nullable = true)\n",
      " |-- agePct12t21: double (nullable = true)\n",
      " |-- agePct12t29: double (nullable = true)\n",
      " |-- agePct16t24: double (nullable = true)\n",
      " |-- agePct65up: double (nullable = true)\n",
      " |-- numbUrban: double (nullable = true)\n",
      " |-- pctUrban: double (nullable = true)\n",
      " |-- medIncome: double (nullable = true)\n",
      " |-- pctWWage: double (nullable = true)\n",
      " |-- pctWFarmSelf: double (nullable = true)\n",
      " |-- pctWInvInc: double (nullable = true)\n",
      " |-- pctWSocSec: double (nullable = true)\n",
      " |-- pctWPubAsst: double (nullable = true)\n",
      " |-- pctWRetire: double (nullable = true)\n",
      " |-- medFamInc: double (nullable = true)\n",
      " |-- perCapInc: double (nullable = true)\n",
      " |-- whitePerCap: double (nullable = true)\n",
      " |-- blackPerCap: double (nullable = true)\n",
      " |-- indianPerCap: double (nullable = true)\n",
      " |-- AsianPerCap: double (nullable = true)\n",
      " |-- OtherPerCap: string (nullable = true)\n",
      " |-- HispPerCap: double (nullable = true)\n",
      " |-- NumUnderPov: double (nullable = true)\n",
      " |-- PctPopUnderPov: double (nullable = true)\n",
      " |-- PctLess9thGrade: double (nullable = true)\n",
      " |-- PctNotHSGrad: double (nullable = true)\n",
      " |-- PctBSorMore: double (nullable = true)\n",
      " |-- PctUnemployed: double (nullable = true)\n",
      " |-- PctEmploy: double (nullable = true)\n",
      " |-- PctEmplManu: double (nullable = true)\n",
      " |-- PctEmplProfServ: double (nullable = true)\n",
      " |-- PctOccupManu: double (nullable = true)\n",
      " |-- PctOccupMgmtProf: double (nullable = true)\n",
      " |-- MalePctDivorce: double (nullable = true)\n",
      " |-- MalePctNevMarr: double (nullable = true)\n",
      " |-- FemalePctDiv: double (nullable = true)\n",
      " |-- TotalPctDiv: double (nullable = true)\n",
      " |-- PersPerFam: double (nullable = true)\n",
      " |-- PctFam2Par: double (nullable = true)\n",
      " |-- PctKids2Par: double (nullable = true)\n",
      " |-- PctYoungKids2Par: double (nullable = true)\n",
      " |-- PctTeen2Par: double (nullable = true)\n",
      " |-- PctWorkMomYoungKids: double (nullable = true)\n",
      " |-- PctWorkMom: double (nullable = true)\n",
      " |-- NumIlleg: double (nullable = true)\n",
      " |-- PctIlleg: double (nullable = true)\n",
      " |-- NumImmig: double (nullable = true)\n",
      " |-- PctImmigRecent: double (nullable = true)\n",
      " |-- PctImmigRec5: double (nullable = true)\n",
      " |-- PctImmigRec8: double (nullable = true)\n",
      " |-- PctImmigRec10: double (nullable = true)\n",
      " |-- PctRecentImmig: double (nullable = true)\n",
      " |-- PctRecImmig5: double (nullable = true)\n",
      " |-- PctRecImmig8: double (nullable = true)\n",
      " |-- PctRecImmig10: double (nullable = true)\n",
      " |-- PctSpeakEnglOnly: double (nullable = true)\n",
      " |-- PctNotSpeakEnglWell: double (nullable = true)\n",
      " |-- PctLargHouseFam: double (nullable = true)\n",
      " |-- PctLargHouseOccup: double (nullable = true)\n",
      " |-- PersPerOccupHous: double (nullable = true)\n",
      " |-- PersPerOwnOccHous: double (nullable = true)\n",
      " |-- PersPerRentOccHous: double (nullable = true)\n",
      " |-- PctPersOwnOccup: double (nullable = true)\n",
      " |-- PctPersDenseHous: double (nullable = true)\n",
      " |-- PctHousLess3BR: double (nullable = true)\n",
      " |-- MedNumBR: double (nullable = true)\n",
      " |-- HousVacant: double (nullable = true)\n",
      " |-- PctHousOccup: double (nullable = true)\n",
      " |-- PctHousOwnOcc: double (nullable = true)\n",
      " |-- PctVacantBoarded: double (nullable = true)\n",
      " |-- PctVacMore6Mos: double (nullable = true)\n",
      " |-- MedYrHousBuilt: double (nullable = true)\n",
      " |-- PctHousNoPhone: double (nullable = true)\n",
      " |-- PctWOFullPlumb: double (nullable = true)\n",
      " |-- OwnOccLowQuart: double (nullable = true)\n",
      " |-- OwnOccMedVal: double (nullable = true)\n",
      " |-- OwnOccHiQuart: double (nullable = true)\n",
      " |-- RentLowQ: double (nullable = true)\n",
      " |-- RentMedian: double (nullable = true)\n",
      " |-- RentHighQ: double (nullable = true)\n",
      " |-- MedRent: double (nullable = true)\n",
      " |-- MedRentPctHousInc: double (nullable = true)\n",
      " |-- MedOwnCostPctInc: double (nullable = true)\n",
      " |-- MedOwnCostPctIncNoMtg: double (nullable = true)\n",
      " |-- NumInShelters: double (nullable = true)\n",
      " |-- NumStreet: double (nullable = true)\n",
      " |-- PctForeignBorn: double (nullable = true)\n",
      " |-- PctBornSameState: double (nullable = true)\n",
      " |-- PctSameHouse85: double (nullable = true)\n",
      " |-- PctSameCity85: double (nullable = true)\n",
      " |-- PctSameState85: double (nullable = true)\n",
      " |-- LemasSwornFT: string (nullable = true)\n",
      " |-- LemasSwFTPerPop: string (nullable = true)\n",
      " |-- LemasSwFTFieldOps: string (nullable = true)\n",
      " |-- LemasSwFTFieldPerPop: string (nullable = true)\n",
      " |-- LemasTotalReq: string (nullable = true)\n",
      " |-- LemasTotReqPerPop: string (nullable = true)\n",
      " |-- PolicReqPerOffic: string (nullable = true)\n",
      " |-- PolicPerPop: string (nullable = true)\n",
      " |-- RacialMatchCommPol: string (nullable = true)\n",
      " |-- PctPolicWhite: string (nullable = true)\n",
      " |-- PctPolicBlack: string (nullable = true)\n",
      " |-- PctPolicHisp: string (nullable = true)\n",
      " |-- PctPolicAsian: string (nullable = true)\n",
      " |-- PctPolicMinor: string (nullable = true)\n",
      " |-- OfficAssgnDrugUnits: string (nullable = true)\n",
      " |-- NumKindsDrugsSeiz: string (nullable = true)\n",
      " |-- PolicAveOTWorked: string (nullable = true)\n",
      " |-- LandArea: double (nullable = true)\n",
      " |-- PopDens: double (nullable = true)\n",
      " |-- PctUsePubTrans: double (nullable = true)\n",
      " |-- PolicCars: string (nullable = true)\n",
      " |-- PolicOperBudg: string (nullable = true)\n",
      " |-- LemasPctPolicOnPatr: string (nullable = true)\n",
      " |-- LemasGangUnitDeploy: string (nullable = true)\n",
      " |-- LemasPctOfficDrugUn: double (nullable = true)\n",
      " |-- PolicBudgPerPop: string (nullable = true)\n",
      " |-- ViolentCrimesPerPop: double (nullable = true)\n",
      "\n"
     ]
    }
   ],
   "source": [
    "data.printSchema()"
   ]
  },
  {
   "cell_type": "code",
   "execution_count": 37,
   "metadata": {},
   "outputs": [
    {
     "name": "stdout",
     "output_type": "stream",
     "text": [
      "no. of cells in column state with null values: 0\n",
      "no. of cells in column county with null values: 0\n",
      "no. of cells in column community with null values: 0\n",
      "no. of cells in column communityname with null values: 0\n",
      "no. of cells in column fold with null values: 0\n",
      "no. of cells in column population with null values: 0\n",
      "no. of cells in column householdsize with null values: 0\n",
      "no. of cells in column racepctblack with null values: 0\n",
      "no. of cells in column racePctWhite with null values: 0\n",
      "no. of cells in column racePctAsian with null values: 0\n",
      "no. of cells in column racePctHisp with null values: 0\n",
      "no. of cells in column agePct12t21 with null values: 0\n",
      "no. of cells in column agePct12t29 with null values: 0\n",
      "no. of cells in column agePct16t24 with null values: 0\n",
      "no. of cells in column agePct65up with null values: 0\n",
      "no. of cells in column numbUrban with null values: 0\n",
      "no. of cells in column pctUrban with null values: 0\n",
      "no. of cells in column medIncome with null values: 0\n",
      "no. of cells in column pctWWage with null values: 0\n",
      "no. of cells in column pctWFarmSelf with null values: 0\n",
      "no. of cells in column pctWInvInc with null values: 0\n",
      "no. of cells in column pctWSocSec with null values: 0\n",
      "no. of cells in column pctWPubAsst with null values: 0\n",
      "no. of cells in column pctWRetire with null values: 0\n",
      "no. of cells in column medFamInc with null values: 0\n",
      "no. of cells in column perCapInc with null values: 0\n",
      "no. of cells in column whitePerCap with null values: 0\n",
      "no. of cells in column blackPerCap with null values: 0\n",
      "no. of cells in column indianPerCap with null values: 0\n",
      "no. of cells in column AsianPerCap with null values: 0\n",
      "no. of cells in column OtherPerCap with null values: 0\n",
      "no. of cells in column HispPerCap with null values: 0\n",
      "no. of cells in column NumUnderPov with null values: 0\n",
      "no. of cells in column PctPopUnderPov with null values: 0\n",
      "no. of cells in column PctLess9thGrade with null values: 0\n",
      "no. of cells in column PctNotHSGrad with null values: 0\n",
      "no. of cells in column PctBSorMore with null values: 0\n",
      "no. of cells in column PctUnemployed with null values: 0\n",
      "no. of cells in column PctEmploy with null values: 0\n",
      "no. of cells in column PctEmplManu with null values: 0\n",
      "no. of cells in column PctEmplProfServ with null values: 0\n",
      "no. of cells in column PctOccupManu with null values: 0\n",
      "no. of cells in column PctOccupMgmtProf with null values: 0\n",
      "no. of cells in column MalePctDivorce with null values: 0\n",
      "no. of cells in column MalePctNevMarr with null values: 0\n",
      "no. of cells in column FemalePctDiv with null values: 0\n",
      "no. of cells in column TotalPctDiv with null values: 0\n",
      "no. of cells in column PersPerFam with null values: 0\n",
      "no. of cells in column PctFam2Par with null values: 0\n",
      "no. of cells in column PctKids2Par with null values: 0\n",
      "no. of cells in column PctYoungKids2Par with null values: 0\n",
      "no. of cells in column PctTeen2Par with null values: 0\n",
      "no. of cells in column PctWorkMomYoungKids with null values: 0\n",
      "no. of cells in column PctWorkMom with null values: 0\n",
      "no. of cells in column NumIlleg with null values: 0\n",
      "no. of cells in column PctIlleg with null values: 0\n",
      "no. of cells in column NumImmig with null values: 0\n",
      "no. of cells in column PctImmigRecent with null values: 0\n",
      "no. of cells in column PctImmigRec5 with null values: 0\n",
      "no. of cells in column PctImmigRec8 with null values: 0\n",
      "no. of cells in column PctImmigRec10 with null values: 0\n",
      "no. of cells in column PctRecentImmig with null values: 0\n",
      "no. of cells in column PctRecImmig5 with null values: 0\n",
      "no. of cells in column PctRecImmig8 with null values: 0\n",
      "no. of cells in column PctRecImmig10 with null values: 0\n",
      "no. of cells in column PctSpeakEnglOnly with null values: 0\n",
      "no. of cells in column PctNotSpeakEnglWell with null values: 0\n",
      "no. of cells in column PctLargHouseFam with null values: 0\n",
      "no. of cells in column PctLargHouseOccup with null values: 0\n",
      "no. of cells in column PersPerOccupHous with null values: 0\n",
      "no. of cells in column PersPerOwnOccHous with null values: 0\n",
      "no. of cells in column PersPerRentOccHous with null values: 0\n",
      "no. of cells in column PctPersOwnOccup with null values: 0\n",
      "no. of cells in column PctPersDenseHous with null values: 0\n",
      "no. of cells in column PctHousLess3BR with null values: 0\n",
      "no. of cells in column MedNumBR with null values: 0\n",
      "no. of cells in column HousVacant with null values: 0\n",
      "no. of cells in column PctHousOccup with null values: 0\n",
      "no. of cells in column PctHousOwnOcc with null values: 0\n",
      "no. of cells in column PctVacantBoarded with null values: 0\n",
      "no. of cells in column PctVacMore6Mos with null values: 0\n",
      "no. of cells in column MedYrHousBuilt with null values: 0\n",
      "no. of cells in column PctHousNoPhone with null values: 0\n",
      "no. of cells in column PctWOFullPlumb with null values: 0\n",
      "no. of cells in column OwnOccLowQuart with null values: 0\n",
      "no. of cells in column OwnOccMedVal with null values: 0\n",
      "no. of cells in column OwnOccHiQuart with null values: 0\n",
      "no. of cells in column RentLowQ with null values: 0\n",
      "no. of cells in column RentMedian with null values: 0\n",
      "no. of cells in column RentHighQ with null values: 0\n",
      "no. of cells in column MedRent with null values: 0\n",
      "no. of cells in column MedRentPctHousInc with null values: 0\n",
      "no. of cells in column MedOwnCostPctInc with null values: 0\n",
      "no. of cells in column MedOwnCostPctIncNoMtg with null values: 0\n",
      "no. of cells in column NumInShelters with null values: 0\n",
      "no. of cells in column NumStreet with null values: 0\n",
      "no. of cells in column PctForeignBorn with null values: 0\n",
      "no. of cells in column PctBornSameState with null values: 0\n",
      "no. of cells in column PctSameHouse85 with null values: 0\n",
      "no. of cells in column PctSameCity85 with null values: 0\n",
      "no. of cells in column PctSameState85 with null values: 0\n",
      "no. of cells in column LemasSwornFT with null values: 0\n",
      "no. of cells in column LemasSwFTPerPop with null values: 0\n",
      "no. of cells in column LemasSwFTFieldOps with null values: 0\n",
      "no. of cells in column LemasSwFTFieldPerPop with null values: 0\n",
      "no. of cells in column LemasTotalReq with null values: 0\n",
      "no. of cells in column LemasTotReqPerPop with null values: 0\n",
      "no. of cells in column PolicReqPerOffic with null values: 0\n",
      "no. of cells in column PolicPerPop with null values: 0\n",
      "no. of cells in column RacialMatchCommPol with null values: 0\n",
      "no. of cells in column PctPolicWhite with null values: 0\n",
      "no. of cells in column PctPolicBlack with null values: 0\n",
      "no. of cells in column PctPolicHisp with null values: 0\n",
      "no. of cells in column PctPolicAsian with null values: 0\n",
      "no. of cells in column PctPolicMinor with null values: 0\n",
      "no. of cells in column OfficAssgnDrugUnits with null values: 0\n",
      "no. of cells in column NumKindsDrugsSeiz with null values: 0\n",
      "no. of cells in column PolicAveOTWorked with null values: 0\n",
      "no. of cells in column LandArea with null values: 0\n",
      "no. of cells in column PopDens with null values: 0\n",
      "no. of cells in column PctUsePubTrans with null values: 0\n",
      "no. of cells in column PolicCars with null values: 0\n",
      "no. of cells in column PolicOperBudg with null values: 0\n",
      "no. of cells in column LemasPctPolicOnPatr with null values: 0\n",
      "no. of cells in column LemasGangUnitDeploy with null values: 0\n",
      "no. of cells in column LemasPctOfficDrugUn with null values: 0\n",
      "no. of cells in column PolicBudgPerPop with null values: 0\n",
      "no. of cells in column ViolentCrimesPerPop with null values: 0\n"
     ]
    }
   ],
   "source": [
    "#Check for missing values\n",
    "for col in data.columns:\n",
    "    print(\"no. of cells in column\", col, \"with null values:\", data.filter(data[col].isNull()).count())\n"
   ]
  },
  {
   "cell_type": "code",
   "execution_count": 5,
   "metadata": {},
   "outputs": [
    {
     "name": "stdout",
     "output_type": "stream",
     "text": [
      "+-----+------+---------+--------------------+----+----------+-------------+------------+------------+------------+-----------+-----------+-----------+-----------+----------+---------+--------+---------+--------+------------+----------+----------+-----------+----------+---------+---------+-----------+-----------+------------+-----------+-----------+----------+-----------+--------------+---------------+------------+-----------+-------------+---------+-----------+---------------+------------+----------------+--------------+--------------+------------+-----------+----------+----------+-----------+----------------+-----------+-------------------+----------+--------+--------+--------+--------------+------------+------------+-------------+--------------+------------+------------+-------------+----------------+-------------------+---------------+-----------------+----------------+-----------------+------------------+---------------+----------------+--------------+--------+----------+------------+-------------+----------------+--------------+--------------+--------------+--------------+--------------+------------+-------------+--------+----------+---------+-------+-----------------+----------------+---------------------+-------------+---------+--------------+----------------+--------------+-------------+--------------+------------+---------------+-----------------+--------------------+-------------+-----------------+----------------+-----------+------------------+-------------+-------------+------------+-------------+-------------+-------------------+-----------------+----------------+--------+-------+--------------+---------+-------------+-------------------+-------------------+-------------------+---------------+-------------------+-------------+--------------+-----------------+---------------------+------------+------------------+---------------------+--------------------+--------------------+--------------------+-------------------+-------------------+-------------------+-------------------+------------------+-----------------+----------------+-----------------+----------------+--------------------+------------------+------------------+-------------------+------------------+-----------------+-----------------+-------------------+-------------------+--------------------+-------------------+-------------------+------------------+-------------------+----------------------+-----------------------+--------------------+-------------------+---------------------+-----------------+-------------------+-----------------------+--------------------+------------------------+----------------------+----------------------+--------------------+-------------------+------------------+------------------+-------------------+------------------------+-------------------+---------------------------+------------------+----------------+----------------+----------------+----------------------+--------------------+--------------------+---------------------+----------------------+--------------------+--------------------+---------------------+------------------------+---------------------------+-----------------------+-------------------------+------------------------+-------------------------+--------------------------+-----------------------+------------------------+----------------------+----------------+------------------+--------------------+---------------------+------------------------+----------------------+----------------------+----------------------+----------------------+----------------------+--------------------+---------------------+----------------+------------------+-----------------+---------------+-------------------------+------------------------+-----------------------------+---------------------+-----------------+----------------------+------------------------+----------------------+---------------------+----------------------+--------------------+-----------------------+-------------------------+----------------------------+---------------------+-------------------------+------------------------+-------------------+--------------------------+---------------------+---------------------+--------------------+---------------------+---------------------+---------------------------+-------------------------+------------------------+----------------+---------------+----------------------+-----------------+---------------------+---------------------------+---------------------------+---------------------------+-----------------------+---------------------------+\n",
      "|state|county|community|       communityname|fold|population|householdsize|racepctblack|racePctWhite|racePctAsian|racePctHisp|agePct12t21|agePct12t29|agePct16t24|agePct65up|numbUrban|pctUrban|medIncome|pctWWage|pctWFarmSelf|pctWInvInc|pctWSocSec|pctWPubAsst|pctWRetire|medFamInc|perCapInc|whitePerCap|blackPerCap|indianPerCap|AsianPerCap|OtherPerCap|HispPerCap|NumUnderPov|PctPopUnderPov|PctLess9thGrade|PctNotHSGrad|PctBSorMore|PctUnemployed|PctEmploy|PctEmplManu|PctEmplProfServ|PctOccupManu|PctOccupMgmtProf|MalePctDivorce|MalePctNevMarr|FemalePctDiv|TotalPctDiv|PersPerFam|PctFam2Par|PctKids2Par|PctYoungKids2Par|PctTeen2Par|PctWorkMomYoungKids|PctWorkMom|NumIlleg|PctIlleg|NumImmig|PctImmigRecent|PctImmigRec5|PctImmigRec8|PctImmigRec10|PctRecentImmig|PctRecImmig5|PctRecImmig8|PctRecImmig10|PctSpeakEnglOnly|PctNotSpeakEnglWell|PctLargHouseFam|PctLargHouseOccup|PersPerOccupHous|PersPerOwnOccHous|PersPerRentOccHous|PctPersOwnOccup|PctPersDenseHous|PctHousLess3BR|MedNumBR|HousVacant|PctHousOccup|PctHousOwnOcc|PctVacantBoarded|PctVacMore6Mos|MedYrHousBuilt|PctHousNoPhone|PctWOFullPlumb|OwnOccLowQuart|OwnOccMedVal|OwnOccHiQuart|RentLowQ|RentMedian|RentHighQ|MedRent|MedRentPctHousInc|MedOwnCostPctInc|MedOwnCostPctIncNoMtg|NumInShelters|NumStreet|PctForeignBorn|PctBornSameState|PctSameHouse85|PctSameCity85|PctSameState85|LemasSwornFT|LemasSwFTPerPop|LemasSwFTFieldOps|LemasSwFTFieldPerPop|LemasTotalReq|LemasTotReqPerPop|PolicReqPerOffic|PolicPerPop|RacialMatchCommPol|PctPolicWhite|PctPolicBlack|PctPolicHisp|PctPolicAsian|PctPolicMinor|OfficAssgnDrugUnits|NumKindsDrugsSeiz|PolicAveOTWorked|LandArea|PopDens|PctUsePubTrans|PolicCars|PolicOperBudg|LemasPctPolicOnPatr|LemasGangUnitDeploy|LemasPctOfficDrugUn|PolicBudgPerPop|ViolentCrimesPerPop|state_encoded|county_encoded|community_encoded|communityname_encoded|fold_encoded|population_encoded|householdsize_encoded|racepctblack_encoded|racePctWhite_encoded|racePctAsian_encoded|racePctHisp_encoded|agePct12t21_encoded|agePct12t29_encoded|agePct16t24_encoded|agePct65up_encoded|numbUrban_encoded|pctUrban_encoded|medIncome_encoded|pctWWage_encoded|pctWFarmSelf_encoded|pctWInvInc_encoded|pctWSocSec_encoded|pctWPubAsst_encoded|pctWRetire_encoded|medFamInc_encoded|perCapInc_encoded|whitePerCap_encoded|blackPerCap_encoded|indianPerCap_encoded|AsianPerCap_encoded|OtherPerCap_encoded|HispPerCap_encoded|NumUnderPov_encoded|PctPopUnderPov_encoded|PctLess9thGrade_encoded|PctNotHSGrad_encoded|PctBSorMore_encoded|PctUnemployed_encoded|PctEmploy_encoded|PctEmplManu_encoded|PctEmplProfServ_encoded|PctOccupManu_encoded|PctOccupMgmtProf_encoded|MalePctDivorce_encoded|MalePctNevMarr_encoded|FemalePctDiv_encoded|TotalPctDiv_encoded|PersPerFam_encoded|PctFam2Par_encoded|PctKids2Par_encoded|PctYoungKids2Par_encoded|PctTeen2Par_encoded|PctWorkMomYoungKids_encoded|PctWorkMom_encoded|NumIlleg_encoded|PctIlleg_encoded|NumImmig_encoded|PctImmigRecent_encoded|PctImmigRec5_encoded|PctImmigRec8_encoded|PctImmigRec10_encoded|PctRecentImmig_encoded|PctRecImmig5_encoded|PctRecImmig8_encoded|PctRecImmig10_encoded|PctSpeakEnglOnly_encoded|PctNotSpeakEnglWell_encoded|PctLargHouseFam_encoded|PctLargHouseOccup_encoded|PersPerOccupHous_encoded|PersPerOwnOccHous_encoded|PersPerRentOccHous_encoded|PctPersOwnOccup_encoded|PctPersDenseHous_encoded|PctHousLess3BR_encoded|MedNumBR_encoded|HousVacant_encoded|PctHousOccup_encoded|PctHousOwnOcc_encoded|PctVacantBoarded_encoded|PctVacMore6Mos_encoded|MedYrHousBuilt_encoded|PctHousNoPhone_encoded|PctWOFullPlumb_encoded|OwnOccLowQuart_encoded|OwnOccMedVal_encoded|OwnOccHiQuart_encoded|RentLowQ_encoded|RentMedian_encoded|RentHighQ_encoded|MedRent_encoded|MedRentPctHousInc_encoded|MedOwnCostPctInc_encoded|MedOwnCostPctIncNoMtg_encoded|NumInShelters_encoded|NumStreet_encoded|PctForeignBorn_encoded|PctBornSameState_encoded|PctSameHouse85_encoded|PctSameCity85_encoded|PctSameState85_encoded|LemasSwornFT_encoded|LemasSwFTPerPop_encoded|LemasSwFTFieldOps_encoded|LemasSwFTFieldPerPop_encoded|LemasTotalReq_encoded|LemasTotReqPerPop_encoded|PolicReqPerOffic_encoded|PolicPerPop_encoded|RacialMatchCommPol_encoded|PctPolicWhite_encoded|PctPolicBlack_encoded|PctPolicHisp_encoded|PctPolicAsian_encoded|PctPolicMinor_encoded|OfficAssgnDrugUnits_encoded|NumKindsDrugsSeiz_encoded|PolicAveOTWorked_encoded|LandArea_encoded|PopDens_encoded|PctUsePubTrans_encoded|PolicCars_encoded|PolicOperBudg_encoded|LemasPctPolicOnPatr_encoded|LemasGangUnitDeploy_encoded|LemasPctOfficDrugUn_encoded|PolicBudgPerPop_encoded|ViolentCrimesPerPop_encoded|\n",
      "+-----+------+---------+--------------------+----+----------+-------------+------------+------------+------------+-----------+-----------+-----------+-----------+----------+---------+--------+---------+--------+------------+----------+----------+-----------+----------+---------+---------+-----------+-----------+------------+-----------+-----------+----------+-----------+--------------+---------------+------------+-----------+-------------+---------+-----------+---------------+------------+----------------+--------------+--------------+------------+-----------+----------+----------+-----------+----------------+-----------+-------------------+----------+--------+--------+--------+--------------+------------+------------+-------------+--------------+------------+------------+-------------+----------------+-------------------+---------------+-----------------+----------------+-----------------+------------------+---------------+----------------+--------------+--------+----------+------------+-------------+----------------+--------------+--------------+--------------+--------------+--------------+------------+-------------+--------+----------+---------+-------+-----------------+----------------+---------------------+-------------+---------+--------------+----------------+--------------+-------------+--------------+------------+---------------+-----------------+--------------------+-------------+-----------------+----------------+-----------+------------------+-------------+-------------+------------+-------------+-------------+-------------------+-----------------+----------------+--------+-------+--------------+---------+-------------+-------------------+-------------------+-------------------+---------------+-------------------+-------------+--------------+-----------------+---------------------+------------+------------------+---------------------+--------------------+--------------------+--------------------+-------------------+-------------------+-------------------+-------------------+------------------+-----------------+----------------+-----------------+----------------+--------------------+------------------+------------------+-------------------+------------------+-----------------+-----------------+-------------------+-------------------+--------------------+-------------------+-------------------+------------------+-------------------+----------------------+-----------------------+--------------------+-------------------+---------------------+-----------------+-------------------+-----------------------+--------------------+------------------------+----------------------+----------------------+--------------------+-------------------+------------------+------------------+-------------------+------------------------+-------------------+---------------------------+------------------+----------------+----------------+----------------+----------------------+--------------------+--------------------+---------------------+----------------------+--------------------+--------------------+---------------------+------------------------+---------------------------+-----------------------+-------------------------+------------------------+-------------------------+--------------------------+-----------------------+------------------------+----------------------+----------------+------------------+--------------------+---------------------+------------------------+----------------------+----------------------+----------------------+----------------------+----------------------+--------------------+---------------------+----------------+------------------+-----------------+---------------+-------------------------+------------------------+-----------------------------+---------------------+-----------------+----------------------+------------------------+----------------------+---------------------+----------------------+--------------------+-----------------------+-------------------------+----------------------------+---------------------+-------------------------+------------------------+-------------------+--------------------------+---------------------+---------------------+--------------------+---------------------+---------------------+---------------------------+-------------------------+------------------------+----------------+---------------+----------------------+-----------------+---------------------+---------------------------+---------------------------+---------------------------+-----------------------+---------------------------+\n",
      "|    8|     ?|        ?|        Lakewoodcity|   1|      0.19|         0.33|        0.02|         0.9|        0.12|       0.17|       0.34|       0.47|       0.29|      0.32|      0.2|     1.0|     0.37|    0.72|        0.34|       0.6|      0.29|       0.15|      0.43|     0.39|      0.4|       0.39|       0.32|        0.27|       0.27|       0.36|      0.41|       0.08|          0.19|            0.1|        0.18|       0.48|         0.27|     0.68|       0.23|           0.41|        0.25|            0.52|          0.68|           0.4|        0.75|       0.75|      0.35|      0.55|       0.59|            0.61|       0.56|               0.74|      0.76|    0.04|    0.14|    0.03|          0.24|        0.27|        0.37|         0.39|          0.07|        0.07|        0.08|         0.08|            0.89|               0.06|           0.14|             0.13|            0.33|             0.39|              0.28|           0.55|            0.09|          0.51|     0.5|      0.21|        0.71|         0.52|            0.05|          0.26|          0.65|          0.14|          0.06|          0.22|        0.19|         0.18|    0.36|      0.35|     0.38|   0.34|             0.38|            0.46|                 0.25|         0.04|      0.0|          0.12|            0.42|           0.5|         0.51|          0.64|        0.03|           0.13|             0.96|                0.17|         0.06|             0.18|            0.44|       0.13|              0.94|         0.93|         0.03|        0.07|          0.1|         0.07|               0.02|             0.57|            0.29|    0.12|   0.26|           0.2|     0.06|         0.04|                0.9|                0.5|               0.32|           0.14|                0.2|         23.0|           0.0|              0.0|                 23.0|         1.0|              20.0|                  4.0|                 1.0|                 9.0|                12.0|               16.0|                7.0|                6.0|                0.0|              28.0|             22.0|             0.0|             30.0|            10.0|                30.0|              38.0|              30.0|                6.0|              15.0|             13.0|             27.0|               23.0|               21.0|                23.0|                4.0|               21.0|              14.0|                8.0|                   9.0|                   11.0|                25.0|               32.0|                  3.0|             27.0|               30.0|                   15.0|                36.0|                    36.0|                  49.0|                   5.0|                55.0|               44.0|               8.0|              12.0|                1.0|                    27.0|                9.0|                       53.0|              47.0|             4.0|            12.0|             3.0|                  14.0|                 7.0|                12.0|                 29.0|                   6.0|                 6.0|                 5.0|                  7.0|                     7.0|                        4.0|                    3.0|                      8.0|                     9.0|                     31.0|                       7.0|                    5.0|                     8.0|                   2.0|             0.0|              20.0|                26.0|                  0.0|                     2.0|                  27.0|                   8.0|                  15.0|                  11.0|                  19.0|                11.0|                 14.0|            38.0|              34.0|             15.0|           25.0|                      1.0|                     5.0|                         16.0|                  4.0|              0.0|                  10.0|                    16.0|                   9.0|                 33.0|                  22.0|                 3.0|                    9.0|                      3.0|                         8.0|                  6.0|                      6.0|                    44.0|                9.0|                       2.0|                 13.0|                  7.0|                 5.0|                 10.0|                  1.0|                        2.0|                      1.0|                    40.0|            10.0|           19.0|                  19.0|              4.0|                  4.0|                       25.0|                        2.0|                       15.0|                    3.0|                       16.0|\n",
      "|   53|     ?|        ?|         Tukwilacity|   1|       0.0|         0.16|        0.12|        0.74|        0.45|       0.07|       0.26|       0.59|       0.35|      0.27|     0.02|     1.0|     0.31|    0.72|        0.11|      0.45|      0.25|       0.29|      0.39|     0.29|     0.37|       0.38|       0.33|        0.16|        0.3|       0.22|      0.35|       0.01|          0.24|           0.14|        0.24|        0.3|         0.27|     0.73|       0.57|           0.15|        0.42|            0.36|           1.0|          0.63|        0.91|        1.0|      0.29|      0.43|       0.47|             0.6|       0.39|               0.46|      0.53|     0.0|    0.24|    0.01|          0.52|        0.62|        0.64|         0.63|          0.25|        0.27|        0.25|         0.23|            0.84|                0.1|           0.16|              0.1|            0.17|             0.29|              0.17|           0.26|             0.2|          0.82|     0.0|      0.02|        0.79|         0.24|            0.02|          0.25|          0.65|          0.16|           0.0|          0.21|         0.2|         0.21|    0.42|      0.38|      0.4|   0.37|             0.29|            0.32|                 0.18|          0.0|      0.0|          0.21|             0.5|          0.34|          0.6|          0.52|           ?|              ?|                ?|                   ?|            ?|                ?|               ?|          ?|                 ?|            ?|            ?|           ?|            ?|            ?|                  ?|                ?|               ?|    0.02|   0.12|          0.45|        ?|            ?|                  ?|                  ?|                0.0|              ?|               0.67|         14.0|           0.0|              0.0|               1761.0|         1.0|               1.0|                 82.0|                13.0|                19.0|                54.0|                8.0|               22.0|               28.0|               13.0|              32.0|              1.0|             0.0|             34.0|            10.0|                16.0|              12.0|              48.0|               17.0|               9.0|             12.0|             20.0|               26.0|               23.0|                 1.0|               18.0|                3.0|              11.0|                0.0|                  18.0|                   10.0|                 8.0|               18.0|                  3.0|             37.0|               50.0|                   62.0|                 4.0|                     0.0|                  79.0|                  50.0|                78.0|               90.0|              36.0|              42.0|               35.0|                    45.0|               50.0|                       19.0|              23.0|             0.0|            19.0|             1.0|                  46.0|                49.0|                58.0|                 25.0|                  34.0|                21.0|                26.0|                 22.0|                    13.0|                       10.0|                    5.0|                     12.0|                    69.0|                     36.0|                      43.0|                   58.0|                    20.0|                  65.0|             1.0|               1.0|                15.0|                 65.0|                    10.0|                  33.0|                   8.0|                  12.0|                   0.0|                  14.0|                19.0|                 27.0|            21.0|              29.0|             30.0|           18.0|                     45.0|                    13.0|                         19.0|                  0.0|              0.0|                  18.0|                    25.0|                  35.0|                 34.0|                  32.0|                 0.0|                    0.0|                      0.0|                         0.0|                  0.0|                      0.0|                     0.0|                0.0|                       0.0|                  0.0|                  0.0|                 0.0|                  0.0|                  0.0|                        0.0|                      0.0|                     0.0|             1.0|            1.0|                  42.0|              0.0|                  0.0|                        0.0|                        0.0|                        0.0|                    0.0|                       55.0|\n",
      "|   24|     ?|        ?|        Aberdeentown|   1|       0.0|         0.42|        0.49|        0.56|        0.17|       0.04|       0.39|       0.47|       0.28|      0.32|      0.0|     0.0|      0.3|    0.58|        0.19|      0.39|      0.38|        0.4|      0.84|     0.28|     0.27|       0.29|       0.27|        0.07|       0.29|       0.28|      0.39|       0.01|          0.27|           0.27|        0.43|       0.19|         0.36|     0.58|       0.32|           0.29|        0.49|            0.32|          0.63|          0.41|        0.71|        0.7|      0.45|      0.42|       0.44|            0.43|       0.43|               0.71|      0.67|    0.01|    0.46|     0.0|          0.07|        0.06|        0.15|         0.19|          0.02|        0.02|        0.04|         0.05|            0.88|               0.04|            0.2|              0.2|            0.46|             0.52|              0.43|           0.42|            0.15|          0.51|     0.5|      0.01|        0.86|         0.41|            0.29|           0.3|          0.52|          0.47|          0.45|          0.18|        0.17|         0.16|    0.27|      0.29|     0.27|   0.31|             0.48|            0.39|                 0.28|          0.0|      0.0|          0.14|            0.49|          0.54|         0.67|          0.56|           ?|              ?|                ?|                   ?|            ?|                ?|               ?|          ?|                 ?|            ?|            ?|           ?|            ?|            ?|                  ?|                ?|               ?|    0.01|   0.21|          0.02|        ?|            ?|                  ?|                  ?|                0.0|              ?|               0.43|         33.0|           0.0|              0.0|                931.0|         1.0|               1.0|                 10.0|                58.0|                37.0|                22.0|                3.0|                3.0|                6.0|                2.0|              28.0|              0.0|             1.0|             25.0|             0.0|                 3.0|               4.0|              17.0|               26.0|              70.0|              7.0|              5.0|                5.0|                7.0|                17.0|                5.0|               13.0|              10.0|                0.0|                  28.0|                    8.0|                10.0|               15.0|                 36.0|              1.0|               12.0|                   10.0|                41.0|                     7.0|                   8.0|                  16.0|                56.0|               46.0|              11.0|              45.0|               39.0|                    61.0|               45.0|                       36.0|               6.0|             1.0|            42.0|             0.0|                  41.0|                45.0|                50.0|                 54.0|                   3.0|                 0.0|                 3.0|                  5.0|                     9.0|                        1.0|                    2.0|                     11.0|                    12.0|                     10.0|                      17.0|                   16.0|                    16.0|                   2.0|             0.0|               0.0|                17.0|                 25.0|                    29.0|                  23.0|                   1.0|                  47.0|                  38.0|                   9.0|                16.0|                 23.0|            14.0|              20.0|             28.0|           15.0|                     13.0|                    10.0|                          3.0|                  0.0|              0.0|                  14.0|                    23.0|                   2.0|                  4.0|                  36.0|                 0.0|                    0.0|                      0.0|                         0.0|                  0.0|                      0.0|                     0.0|                0.0|                       0.0|                  0.0|                  0.0|                 0.0|                  0.0|                  0.0|                        0.0|                      0.0|                     0.0|             0.0|           15.0|                   2.0|              0.0|                  0.0|                        0.0|                        0.0|                        0.0|                    0.0|                       59.0|\n",
      "|   34|     5|    81440| Willingborotownship|   1|      0.04|         0.77|         1.0|        0.08|        0.12|        0.1|       0.51|        0.5|       0.34|      0.21|     0.06|     1.0|     0.58|    0.89|        0.21|      0.43|      0.36|        0.2|      0.82|     0.51|     0.36|        0.4|       0.39|        0.16|       0.25|       0.36|      0.44|       0.01|           0.1|           0.09|        0.25|       0.31|         0.33|     0.71|       0.36|           0.45|        0.37|            0.39|          0.34|          0.45|        0.49|       0.44|      0.75|      0.65|       0.54|            0.83|       0.65|               0.85|      0.86|    0.03|    0.33|    0.02|          0.11|         0.2|         0.3|         0.31|          0.05|        0.08|        0.11|         0.11|            0.81|               0.08|           0.56|             0.62|            0.85|             0.77|               1.0|           0.94|            0.12|          0.01|     0.5|      0.01|        0.97|         0.96|             0.6|          0.47|          0.52|          0.11|          0.11|          0.24|        0.21|         0.19|    0.75|       0.7|     0.77|   0.89|             0.63|            0.51|                 0.47|          0.0|      0.0|          0.19|             0.3|          0.73|         0.64|          0.65|           ?|              ?|                ?|                   ?|            ?|                ?|               ?|          ?|                 ?|            ?|            ?|           ?|            ?|            ?|                  ?|                ?|               ?|    0.02|   0.39|          0.28|        ?|            ?|                  ?|                  ?|                0.0|              ?|               0.12|          1.0|           6.0|            638.0|                315.0|         1.0|               4.0|                 53.0|                 7.0|                70.0|                12.0|               11.0|               24.0|                3.0|               15.0|              35.0|              5.0|             0.0|             45.0|            65.0|                 5.0|              26.0|              14.0|               20.0|              65.0|             47.0|             23.0|               19.0|               28.0|                 1.0|                2.0|               21.0|              22.0|                0.0|                   3.0|                   23.0|                26.0|               19.0|                 13.0|             40.0|                2.0|                   14.0|                 5.0|                     3.0|                  30.0|                  14.0|                 6.0|               45.0|              52.0|              16.0|               10.0|                     6.0|               25.0|                       85.0|              63.0|             3.0|            51.0|             2.0|                  20.0|                18.0|                 9.0|                 34.0|                   4.0|                 5.0|                12.0|                 10.0|                    16.0|                        6.0|                   61.0|                     66.0|                    61.0|                     60.0|                      25.0|                   45.0|                     9.0|                  97.0|             0.0|               0.0|                57.0|                 76.0|                    55.0|                   4.0|                   1.0|                  16.0|                   1.0|                  25.0|                15.0|                 16.0|            82.0|              58.0|             81.0|           76.0|                     22.0|                     2.0|                         11.0|                  0.0|              0.0|                  20.0|                    61.0|                  44.0|                 13.0|                  25.0|                 0.0|                    0.0|                      0.0|                         0.0|                  0.0|                      0.0|                     0.0|                0.0|                       0.0|                  0.0|                  0.0|                 0.0|                  0.0|                  0.0|                        0.0|                      0.0|                     0.0|             1.0|           39.0|                  24.0|              0.0|                  0.0|                        0.0|                        0.0|                        0.0|                    0.0|                        9.0|\n",
      "|   42|    95|     6096|   Bethlehemtownship|   1|      0.01|         0.55|        0.02|        0.95|        0.09|       0.05|       0.38|       0.38|       0.23|      0.36|     0.02|     0.9|      0.5|    0.72|        0.16|      0.68|      0.44|       0.11|      0.71|     0.46|     0.43|       0.41|       0.28|         0.0|       0.74|       0.51|      0.48|        0.0|          0.06|           0.25|         0.3|       0.33|         0.12|     0.65|       0.67|           0.38|        0.42|            0.46|          0.22|          0.27|         0.2|       0.21|      0.51|      0.91|       0.91|            0.89|       0.85|                0.4|       0.6|     0.0|    0.06|     0.0|          0.03|        0.07|         0.2|         0.27|          0.01|        0.02|        0.04|         0.05|            0.88|               0.05|           0.16|             0.19|            0.59|              0.6|              0.37|           0.89|            0.02|          0.19|     0.5|      0.01|        0.89|         0.87|            0.04|          0.55|          0.73|          0.05|          0.14|          0.31|        0.31|          0.3|     0.4|      0.36|     0.38|   0.38|             0.22|            0.51|                 0.21|          0.0|      0.0|          0.11|            0.72|          0.64|         0.61|          0.53|           ?|              ?|                ?|                   ?|            ?|                ?|               ?|          ?|                 ?|            ?|            ?|           ?|            ?|            ?|                  ?|                ?|               ?|    0.04|   0.09|          0.02|        ?|            ?|                  ?|                  ?|                0.0|              ?|               0.03|          5.0|          35.0|            525.0|                627.0|         1.0|               0.0|                 20.0|                 1.0|                 4.0|                 6.0|                4.0|                1.0|               18.0|                7.0|               8.0|              1.0|            17.0|             33.0|            10.0|                 0.0|              35.0|              12.0|               10.0|              50.0|             35.0|             26.0|               27.0|               16.0|                 0.0|               66.0|               57.0|              24.0|                1.0|                   4.0|                   20.0|                24.0|                6.0|                 17.0|             19.0|               66.0|                    3.0|                 4.0|                    20.0|                  41.0|                  22.0|                53.0|               59.0|               4.0|              43.0|               51.0|                     8.0|               27.0|                       10.0|               4.0|             0.0|             1.0|             0.0|                  52.0|                53.0|                34.0|                 42.0|                   0.0|                 0.0|                 3.0|                  5.0|                     9.0|                        3.0|                    5.0|                      0.0|                    20.0|                     21.0|                       4.0|                   48.0|                     7.0|                  52.0|             0.0|               0.0|                 3.0|                 61.0|                     3.0|                  20.0|                  11.0|                   3.0|                   8.0|                  32.0|                41.0|                 47.0|            32.0|              49.0|             15.0|           44.0|                     49.0|                     2.0|                         13.0|                  0.0|              0.0|                  12.0|                     7.0|                  13.0|                  9.0|                  31.0|                 0.0|                    0.0|                      0.0|                         0.0|                  0.0|                      0.0|                     0.0|                0.0|                       0.0|                  0.0|                  0.0|                 0.0|                  0.0|                  0.0|                        0.0|                      0.0|                     0.0|             3.0|            0.0|                   2.0|              0.0|                  0.0|                        0.0|                        0.0|                        0.0|                    0.0|                        0.0|\n",
      "|    6|     ?|        ?|   SouthPasadenacity|   1|      0.02|         0.28|        0.06|        0.54|         1.0|       0.25|       0.31|       0.48|       0.27|      0.37|     0.04|     1.0|     0.52|    0.68|         0.2|      0.61|      0.28|       0.15|      0.25|     0.62|     0.72|       0.76|       0.77|        0.28|       0.52|       0.48|       0.6|       0.01|          0.12|           0.13|        0.12|        0.8|          0.1|     0.65|       0.19|           0.77|        0.06|            0.91|          0.49|          0.57|        0.61|       0.58|      0.44|      0.62|       0.69|            0.87|       0.53|                0.3|      0.43|     0.0|    0.11|    0.04|           0.3|        0.35|        0.43|         0.47|           0.5|         0.5|        0.56|         0.57|            0.45|               0.28|           0.25|             0.19|            0.29|             0.53|              0.18|           0.39|            0.26|          0.73|     0.0|      0.02|        0.84|          0.3|            0.16|          0.28|          0.25|          0.02|          0.05|          0.94|         1.0|          1.0|    0.67|      0.63|     0.68|   0.62|             0.47|            0.59|                 0.11|          0.0|      0.0|           0.7|            0.42|          0.49|         0.73|          0.64|           ?|              ?|                ?|                   ?|            ?|                ?|               ?|          ?|                 ?|            ?|            ?|           ?|            ?|            ?|                  ?|                ?|               ?|    0.01|   0.58|           0.1|        ?|            ?|                  ?|                  ?|                0.0|              ?|               0.14|          0.0|           0.0|              0.0|                677.0|         1.0|               2.0|                 27.0|                 6.0|                40.0|                11.0|               22.0|               21.0|                2.0|                3.0|              14.0|              3.0|             0.0|             38.0|            22.0|                11.0|              30.0|              34.0|                6.0|              46.0|             50.0|             53.0|               66.0|               68.0|                20.0|               49.0|               43.0|              42.0|                0.0|                   6.0|                    7.0|                43.0|               51.0|                 38.0|             19.0|               16.0|                   60.0|                69.0|                    65.0|                  10.0|                  37.0|                 4.0|               10.0|               0.0|               4.0|               29.0|                     5.0|               18.0|                       44.0|              11.0|             0.0|            10.0|             4.0|                   9.0|                 6.0|                 8.0|                  3.0|                  45.0|                51.0|                78.0|                 46.0|                    63.0|                       27.0|                   19.0|                      0.0|                     6.0|                     18.0|                      38.0|                   25.0|                    25.0|                  60.0|             1.0|               1.0|                 2.0|                 45.0|                    18.0|                  39.0|                  26.0|                   2.0|                  12.0|                  93.0|                14.0|                 11.0|            68.0|              40.0|             46.0|           36.0|                     15.0|                    11.0|                         39.0|                  0.0|              0.0|                  62.0|                    16.0|                   8.0|                  2.0|                  22.0|                 0.0|                    0.0|                      0.0|                         0.0|                  0.0|                      0.0|                     0.0|                0.0|                       0.0|                  0.0|                  0.0|                 0.0|                  0.0|                  0.0|                        0.0|                      0.0|                     0.0|             0.0|           57.0|                  11.0|              0.0|                  0.0|                        0.0|                        0.0|                        0.0|                    0.0|                       12.0|\n",
      "|   44|     7|    41500|         Lincolntown|   1|      0.01|         0.39|         0.0|        0.98|        0.06|       0.02|        0.3|       0.37|       0.23|       0.6|     0.02|    0.81|     0.42|     0.5|        0.23|      0.68|      0.61|       0.21|      0.54|     0.43|     0.47|       0.44|        0.4|        0.24|       0.86|       0.24|      0.36|       0.01|          0.11|           0.29|        0.41|       0.36|         0.28|     0.54|       0.44|           0.53|        0.33|            0.49|          0.25|          0.34|        0.28|       0.28|      0.42|      0.77|       0.81|            0.79|       0.74|               0.57|      0.62|     0.0|    0.13|    0.01|           0.0|        0.02|        0.02|          0.1|           0.0|        0.01|        0.01|         0.03|            0.73|               0.05|           0.12|             0.13|            0.42|             0.54|              0.24|           0.65|            0.03|          0.46|     0.5|      0.01|        0.89|         0.57|            0.09|          0.49|          0.38|          0.05|          0.05|          0.37|        0.38|         0.39|    0.26|      0.35|     0.42|   0.35|             0.46|            0.44|                 0.31|          0.0|      0.0|          0.15|            0.81|          0.77|         0.91|          0.84|           ?|              ?|                ?|                   ?|            ?|                ?|               ?|          ?|                 ?|            ?|            ?|           ?|            ?|            ?|                  ?|                ?|               ?|    0.05|   0.08|          0.06|        ?|            ?|                  ?|                  ?|                0.0|              ?|               0.03|         21.0|           5.0|             48.0|                154.0|         1.0|               0.0|                  1.0|                 3.0|                 0.0|                 4.0|                1.0|               13.0|               22.0|                7.0|              44.0|              1.0|            14.0|             21.0|            19.0|                14.0|              35.0|              19.0|                3.0|              31.0|             32.0|             34.0|               31.0|               27.0|                14.0|               83.0|                6.0|              19.0|                0.0|                   7.0|                   13.0|                28.0|               26.0|                  9.0|             20.0|               25.0|                   13.0|                11.0|                    19.0|                  48.0|                  10.0|                48.0|               42.0|               5.0|              34.0|                7.0|                    15.0|               11.0|                        7.0|              12.0|             0.0|             6.0|             1.0|                   0.0|                87.0|                88.0|                 75.0|                   2.0|                 1.0|                 2.0|                  2.0|                    28.0|                        3.0|                    7.0|                      8.0|                    13.0|                     20.0|                      10.0|                   27.0|                     3.0|                   7.0|             0.0|               0.0|                 3.0|                 12.0|                     8.0|                  12.0|                  13.0|                   3.0|                  12.0|                  41.0|                36.0|                 13.0|            20.0|              34.0|             16.0|           22.0|                     30.0|                     9.0|                          4.0|                  0.0|              0.0|                  13.0|                    12.0|                  36.0|                 55.0|                  16.0|                 0.0|                    0.0|                      0.0|                         0.0|                  0.0|                      0.0|                     0.0|                0.0|                       0.0|                  0.0|                  0.0|                 0.0|                  0.0|                  0.0|                        0.0|                      0.0|                     0.0|             4.0|            3.0|                   6.0|              0.0|                  0.0|                        0.0|                        0.0|                        0.0|                    0.0|                        0.0|\n",
      "|    6|     ?|        ?|           Selmacity|   1|      0.01|         0.74|        0.03|        0.46|         0.2|        1.0|       0.52|       0.55|       0.36|      0.35|      0.0|     0.0|     0.16|    0.44|         1.0|      0.23|      0.53|       0.97|      0.41|     0.15|      0.1|       0.12|       0.08|        0.17|       0.27|       0.18|      0.21|       0.03|          0.64|           0.96|        0.82|       0.12|          1.0|     0.26|       0.43|           0.34|        0.71|            0.18|          0.38|          0.47|        0.59|       0.52|      0.78|      0.45|       0.43|            0.34|       0.34|               0.29|      0.27|    0.02|     0.5|    0.02|           0.5|        0.59|        0.65|         0.59|          0.69|        0.72|        0.71|          0.6|            0.12|               0.93|           0.74|             0.75|             0.8|             0.68|              0.92|           0.39|            0.89|          0.66|     0.0|      0.01|        0.91|         0.46|            0.22|          0.37|           0.6|          0.28|          0.23|          0.15|        0.13|         0.13|    0.21|      0.24|     0.25|   0.24|             0.64|            0.59|                 0.28|          0.0|      0.0|          0.59|            0.58|          0.52|         0.79|          0.78|           ?|              ?|                ?|                   ?|            ?|                ?|               ?|          ?|                 ?|            ?|            ?|           ?|            ?|            ?|                  ?|                ?|               ?|    0.01|   0.33|           0.0|        ?|            ?|                  ?|                  ?|                0.0|              ?|               0.55|          0.0|           0.0|              0.0|                115.0|         1.0|               0.0|                 79.0|                 2.0|                63.0|                18.0|                6.0|               31.0|               17.0|               17.0|               1.0|              0.0|             1.0|              1.0|            36.0|                18.0|              46.0|               3.0|               81.0|              14.0|             16.0|             41.0|               50.0|               40.0|                 7.0|                4.0|               17.0|              17.0|                3.0|                  64.0|                   85.0|                75.0|               28.0|                 31.0|             44.0|               22.0|                   20.0|                71.0|                    48.0|                   9.0|                  21.0|                 7.0|                9.0|              66.0|              37.0|               49.0|                    66.0|               61.0|                       42.0|              53.0|             2.0|            45.0|             2.0|                  37.0|                42.0|                61.0|                 32.0|                  55.0|                46.0|                53.0|                 33.0|                    71.0|                       55.0|                   78.0|                     80.0|                    66.0|                     29.0|                      89.0|                   25.0|                    85.0|                  31.0|             1.0|               0.0|                10.0|                 13.0|                    23.0|                   1.0|                  12.0|                  40.0|                  22.0|                  13.0|                 7.0|                  3.0|            25.0|              12.0|              8.0|            7.0|                     51.0|                    11.0|                          3.0|                  0.0|              0.0|                  42.0|                    18.0|                  21.0|                  5.0|                   4.0|                 0.0|                    0.0|                      0.0|                         0.0|                  0.0|                      0.0|                     0.0|                0.0|                       0.0|                  0.0|                  0.0|                 0.0|                  0.0|                  0.0|                        0.0|                      0.0|                     0.0|             0.0|           32.0|                   1.0|              0.0|                  0.0|                        0.0|                        0.0|                        0.0|                    0.0|                       57.0|\n",
      "|   21|     ?|        ?|       Hendersoncity|   1|      0.03|         0.34|         0.2|        0.84|        0.02|        0.0|       0.38|       0.45|       0.28|      0.48|     0.04|     1.0|     0.17|    0.47|        0.36|      0.34|      0.55|       0.48|      0.43|     0.21|     0.23|       0.23|       0.19|         0.1|       0.26|       0.29|      0.22|       0.04|          0.45|           0.52|        0.59|       0.17|         0.55|     0.43|       0.59|           0.36|        0.64|            0.29|          0.62|          0.26|        0.66|       0.67|      0.37|      0.51|       0.55|            0.58|       0.47|               0.65|      0.64|    0.02|    0.29|     0.0|          0.12|        0.09|        0.07|         0.13|           0.0|         0.0|         0.0|          0.0|            0.99|               0.01|           0.12|             0.12|            0.35|             0.38|              0.33|            0.5|             0.1|          0.64|     0.0|      0.04|        0.72|         0.49|            0.05|          0.49|           0.5|          0.57|          0.22|          0.07|        0.07|         0.08|    0.14|      0.17|     0.16|   0.15|             0.38|            0.13|                 0.36|         0.01|      0.0|          0.01|            0.78|          0.48|         0.79|          0.75|           ?|              ?|                ?|                   ?|            ?|                ?|               ?|          ?|                 ?|            ?|            ?|           ?|            ?|            ?|                  ?|                ?|               ?|    0.04|   0.17|          0.04|        ?|            ?|                  ?|                  ?|                0.0|              ?|               0.53|         22.0|           0.0|              0.0|                 19.0|         1.0|               3.0|                  5.0|                22.0|                13.0|                 0.0|                7.0|                1.0|                8.0|                2.0|               6.0|              3.0|             0.0|              2.0|            38.0|                33.0|              17.0|              13.0|               41.0|              15.0|              1.0|              0.0|                7.0|                3.0|                15.0|                3.0|               15.0|               7.0|                4.0|                  21.0|                   43.0|                48.0|               14.0|                 44.0|             17.0|               35.0|                    0.0|                53.0|                    14.0|                  26.0|                  25.0|                21.0|               32.0|               7.0|              23.0|               21.0|                    17.0|               43.0|                       31.0|              10.0|             2.0|            23.0|             0.0|                  39.0|                32.0|                62.0|                 49.0|                   2.0|                 7.0|                 9.0|                 11.0|                    34.0|                        5.0|                    7.0|                      9.0|                    28.0|                     14.0|                      32.0|                   14.0|                     6.0|                  18.0|             1.0|               3.0|                22.0|                  6.0|                     2.0|                  12.0|                   4.0|                  56.0|                  14.0|                   1.0|                 4.0|                  0.0|            12.0|               5.0|              3.0|            1.0|                      1.0|                    31.0|                          9.0|                  1.0|              0.0|                   8.0|                     0.0|                  12.0|                  5.0|                   3.0|                 0.0|                    0.0|                      0.0|                         0.0|                  0.0|                      0.0|                     0.0|                0.0|                       0.0|                  0.0|                  0.0|                 0.0|                  0.0|                  0.0|                        0.0|                      0.0|                     0.0|             3.0|           12.0|                   4.0|              0.0|                  0.0|                        0.0|                        0.0|                        0.0|                    0.0|                       37.0|\n",
      "|   29|     ?|        ?|         Claytoncity|   1|      0.01|          0.4|        0.06|        0.87|         0.3|       0.03|        0.9|       0.82|        0.8|      0.39|     0.02|     1.0|     0.54|    0.59|        0.22|      0.86|      0.42|       0.02|      0.31|     0.85|     0.89|       0.94|       0.11|        0.09|       0.33|       0.17|       0.8|        0.0|          0.11|           0.04|        0.03|        1.0|         0.11|     0.44|        0.2|            1.0|        0.02|            0.96|           0.3|          0.85|        0.39|       0.36|      0.31|      0.65|       0.73|            0.78|       0.67|               0.72|      0.71|     0.0|    0.07|    0.01|          0.41|        0.44|        0.52|         0.48|          0.22|        0.21|        0.22|         0.19|            0.85|               0.03|           0.09|             0.06|            0.15|             0.34|              0.05|           0.48|            0.03|          0.58|     0.0|      0.02|        0.72|         0.38|            0.07|          0.47|          0.04|          0.01|           0.0|          0.63|        0.71|         0.79|    0.44|      0.42|     0.47|   0.41|             0.23|            0.27|                 0.28|          0.0|      0.0|          0.22|            0.42|          0.34|         0.23|          0.09|           ?|              ?|                ?|                   ?|            ?|                ?|               ?|          ?|                 ?|            ?|            ?|           ?|            ?|            ?|                  ?|                ?|               ?|     0.0|   0.47|          0.11|        ?|            ?|                  ?|                  ?|                0.0|              ?|               0.15|         13.0|           0.0|              0.0|               1289.0|         1.0|               0.0|                 11.0|                 6.0|                12.0|                28.0|                2.0|               73.0|               66.0|               80.0|              11.0|              1.0|             0.0|             43.0|            16.0|                 4.0|              60.0|              10.0|               69.0|              26.0|             73.0|             88.0|               82.0|               35.0|                 8.0|               22.0|               10.0|              71.0|                1.0|                   7.0|                   39.0|                76.0|               31.0|                 48.0|             24.0|               20.0|                   24.0|                85.0|                    74.0|                  27.0|                  68.0|                25.0|               34.0|              21.0|              16.0|               15.0|                    12.0|               14.0|                       43.0|              27.0|             0.0|             7.0|             1.0|                  34.0|                10.0|                16.0|                  8.0|                  23.0|                32.0|                22.0|                 25.0|                    15.0|                        0.0|                   21.0|                     32.0|                    65.0|                     22.0|                      90.0|                    8.0|                     3.0|                   4.0|             1.0|               1.0|                22.0|                 31.0|                     6.0|                   4.0|                  38.0|                   0.0|                   0.0|                  68.0|                64.0|                 74.0|            43.0|              19.0|             57.0|            8.0|                     43.0|                    25.0|                          3.0|                  0.0|              0.0|                  22.0|                    16.0|                  35.0|                 62.0|                  90.0|                 0.0|                    0.0|                      0.0|                         0.0|                  0.0|                      0.0|                     0.0|                0.0|                       0.0|                  0.0|                  0.0|                 0.0|                  0.0|                  0.0|                        0.0|                      0.0|                     0.0|             8.0|           40.0|                  12.0|              0.0|                  0.0|                        0.0|                        0.0|                        0.0|                    0.0|                       11.0|\n",
      "|    6|     ?|        ?|        DalyCitycity|   1|      0.13|         0.71|        0.15|        0.07|         1.0|       0.41|        0.4|       0.52|       0.35|      0.33|     0.15|     1.0|     0.49|    0.71|        0.16|      0.47|      0.36|        0.4|      0.45|     0.47|     0.33|       0.37|        0.4|        0.22|       0.32|       0.34|      0.38|       0.06|          0.18|           0.33|        0.36|       0.38|         0.32|     0.62|        0.2|           0.29|        0.35|             0.3|          0.41|          0.55|        0.46|       0.46|      0.85|      0.62|       0.56|            0.68|       0.62|               0.83|      0.81|    0.05|     0.3|    0.28|          0.36|        0.43|        0.52|         0.57|           1.0|         1.0|         1.0|          1.0|             0.0|               0.58|           0.88|             0.82|            0.77|             0.79|              0.72|           0.49|            0.91|          0.63|     0.0|      0.06|        0.87|         0.49|             0.1|           0.2|          0.46|          0.05|          0.28|          0.75|        0.74|          0.7|    0.73|      0.67|     0.82|   0.67|             0.58|            0.67|                 0.19|         0.07|     0.14|           1.0|            0.35|          0.53|         0.39|          0.62|           ?|              ?|                ?|                   ?|            ?|                ?|               ?|          ?|                 ?|            ?|            ?|           ?|            ?|            ?|                  ?|                ?|               ?|    0.02|    1.0|           1.0|        ?|            ?|                  ?|                  ?|                0.0|              ?|               0.24|          0.0|           0.0|              0.0|               1015.0|         1.0|              15.0|                 45.0|                14.0|                81.0|                11.0|               48.0|                2.0|               10.0|               13.0|               3.0|             15.0|             0.0|             39.0|            17.0|                 0.0|              27.0|              14.0|               26.0|               5.0|             36.0|             13.0|               12.0|               27.0|                13.0|               15.0|               20.0|              12.0|                6.0|                  15.0|                   28.0|                 7.0|               24.0|                  2.0|             23.0|               20.0|                   10.0|                 6.0|                    16.0|                  16.0|                  30.0|                26.0|               18.0|              44.0|               4.0|               14.0|                     7.0|                3.0|                       68.0|              51.0|             5.0|            25.0|            25.0|                  15.0|                13.0|                16.0|                 33.0|                  12.0|                13.0|                11.0|                 12.0|                    11.0|                       64.0|                   89.0|                     67.0|                    49.0|                     68.0|                      51.0|                    6.0|                    65.0|                  20.0|             1.0|               6.0|                 5.0|                  6.0|                     4.0|                  44.0|                  18.0|                   3.0|                  17.0|                  67.0|                81.0|                 61.0|            67.0|              56.0|             80.0|           39.0|                     20.0|                    49.0|                         15.0|                  7.0|             11.0|                  15.0|                    43.0|                   3.0|                 50.0|                  26.0|                 0.0|                    0.0|                      0.0|                         0.0|                  0.0|                      0.0|                     0.0|                0.0|                       0.0|                  0.0|                  0.0|                 0.0|                  0.0|                  0.0|                        0.0|                      0.0|                     0.0|             1.0|           24.0|                  10.0|              0.0|                  0.0|                        0.0|                        0.0|                        0.0|                    0.0|                       23.0|\n",
      "|   36|     ?|        ?|RockvilleCentrevi...|   1|      0.02|         0.46|        0.08|        0.91|        0.07|        0.1|       0.34|       0.36|       0.22|      0.57|     0.04|     1.0|     0.72|    0.53|        0.23|      0.74|      0.63|       0.17|      0.59|      0.8|     0.72|       0.71|       0.36|         0.7|       0.43|       0.35|      0.41|       0.01|          0.07|           0.18|        0.19|       0.72|         0.18|     0.51|       0.18|           0.67|        0.13|            0.79|          0.18|           0.4|        0.24|       0.22|      0.59|      0.85|       0.87|            0.89|       0.78|               0.31|      0.39|    0.01|    0.14|    0.01|          0.11|        0.17|        0.21|         0.27|          0.05|        0.07|        0.08|          0.1|            0.82|               0.08|           0.34|             0.31|             0.5|             0.64|               0.2|           0.72|            0.09|          0.41|     0.5|      0.02|        0.89|         0.62|            0.07|          0.43|          0.06|          0.02|          0.09|          0.74|        0.76|         0.79|    0.45|      0.54|     0.65|   0.49|             0.39|            0.51|                 0.68|         0.01|      0.0|           0.2|            0.88|          0.91|          0.9|          0.93|           ?|              ?|                ?|                   ?|            ?|                ?|               ?|          ?|                 ?|            ?|            ?|           ?|            ?|            ?|                  ?|                ?|               ?|    0.01|   0.63|           1.0|        ?|            ?|                  ?|                  ?|                0.0|              ?|               0.08|         11.0|           0.0|              0.0|               1370.0|         1.0|               2.0|                 14.0|                 9.0|                 6.0|                 7.0|               11.0|                7.0|               23.0|               11.0|              29.0|              3.0|             0.0|             72.0|             1.0|                14.0|              54.0|              37.0|                5.0|              24.0|             86.0|             53.0|               53.0|               22.0|                50.0|               28.0|               25.0|              14.0|                0.0|                   1.0|                    4.0|                 1.0|               59.0|                 12.0|              2.0|               33.0|                   49.0|                47.0|                    66.0|                  56.0|                   5.0|                30.0|               33.0|              28.0|              36.0|               44.0|                     8.0|               26.0|                       28.0|              31.0|             1.0|            12.0|             1.0|                  20.0|                 8.0|                30.0|                 42.0|                   4.0|                 6.0|                 5.0|                  9.0|                    18.0|                        6.0|                   25.0|                     21.0|                    11.0|                     32.0|                      27.0|                   38.0|                     8.0|                  19.0|             0.0|               1.0|                 3.0|                 18.0|                     6.0|                   3.0|                  41.0|                   2.0|                   6.0|                  64.0|                84.0|                 74.0|            37.0|              44.0|             66.0|           51.0|                     31.0|                     2.0|                         34.0|                  1.0|              0.0|                  21.0|                    50.0|                  65.0|                 44.0|                  56.0|                 0.0|                    0.0|                      0.0|                         0.0|                  0.0|                      0.0|                     0.0|                0.0|                       0.0|                  0.0|                  0.0|                 0.0|                  0.0|                  0.0|                        0.0|                      0.0|                     0.0|             0.0|           55.0|                  10.0|              0.0|                  0.0|                        0.0|                        0.0|                        0.0|                    0.0|                        8.0|\n",
      "|   25|    21|    44105|         Needhamtown|   1|      0.03|         0.47|        0.01|        0.96|        0.13|       0.02|       0.29|       0.32|        0.2|      0.52|     0.04|     1.0|      0.8|    0.55|        0.18|      0.87|      0.51|       0.07|      0.55|     0.82|     0.78|       0.77|       0.62|        0.14|       0.54|       0.17|      0.46|       0.01|          0.07|           0.07|        0.07|       0.89|         0.24|     0.55|       0.29|           0.73|         0.1|            0.88|          0.13|          0.38|         0.2|       0.18|       0.5|      0.87|        0.9|            0.87|       0.73|               0.33|      0.48|     0.0|    0.03|    0.01|          0.25|        0.28|        0.26|         0.25|          0.13|        0.13|        0.11|          0.1|            0.87|               0.05|           0.18|             0.19|             0.5|             0.55|              0.25|           0.83|            0.02|          0.25|     0.5|      0.01|        0.94|         0.78|             0.0|          0.26|          0.29|          0.01|          0.15|          0.71|        0.69|         0.68|     0.6|      0.82|      1.0|   0.87|              0.4|            0.39|                 0.46|          0.0|      0.0|          0.22|            0.66|          0.82|         0.66|          0.73|           ?|              ?|                ?|                   ?|            ?|                ?|               ?|          ?|                 ?|            ?|            ?|           ?|            ?|            ?|                  ?|                ?|               ?|    0.03|   0.18|          0.59|        ?|            ?|                  ?|                  ?|                0.0|              ?|               0.06|          3.0|           9.0|             98.0|                977.0|         1.0|               3.0|                 12.0|                 0.0|                 1.0|                13.0|                1.0|               20.0|               26.0|               12.0|               2.0|              3.0|             0.0|             63.0|            14.0|                 2.0|              61.0|               2.0|               13.0|              29.0|             78.0|             73.0|               59.0|               59.0|                 5.0|               57.0|               10.0|              31.0|                0.0|                   1.0|                   34.0|                53.0|               80.0|                  0.0|             13.0|               26.0|                   50.0|                42.0|                    73.0|                  62.0|                   0.0|                53.0|               53.0|              25.0|              39.0|               47.0|                     5.0|               21.0|                       29.0|              18.0|             0.0|             9.0|             1.0|                   4.0|                21.0|                 0.0|                 26.0|                  14.0|                12.0|                12.0|                  9.0|                    14.0|                        3.0|                    4.0|                      0.0|                    11.0|                     16.0|                      16.0|                   50.0|                     7.0|                  37.0|             0.0|               0.0|                27.0|                 56.0|                     0.0|                  27.0|                  27.0|                   0.0|                  29.0|                  63.0|                42.0|                 77.0|            60.0|              85.0|              0.0|           79.0|                      0.0|                    10.0|                         18.0|                  0.0|              0.0|                  22.0|                    39.0|                  74.0|                 15.0|                  11.0|                 0.0|                    0.0|                      0.0|                         0.0|                  0.0|                      0.0|                     0.0|                0.0|                       0.0|                  0.0|                  0.0|                 0.0|                  0.0|                  0.0|                        0.0|                      0.0|                     0.0|             2.0|           14.0|                  48.0|              0.0|                  0.0|                        0.0|                        0.0|                        0.0|                    0.0|                        2.0|\n",
      "|   55|    87|    30075|      GrandChutetown|   1|      0.01|         0.44|         0.0|        0.98|        0.04|       0.01|       0.35|       0.53|       0.32|      0.23|     0.02|    0.77|     0.46|    0.77|        0.41|      0.73|      0.28|        0.1|      0.22|     0.47|     0.41|        0.4|       0.38|        0.32|       0.09|       0.13|      0.75|        0.0|          0.07|            0.2|        0.22|       0.42|         0.13|     0.76|       0.67|           0.24|        0.42|            0.47|          0.37|          0.39|        0.27|       0.32|      0.47|      0.88|       0.92|            0.88|       0.82|               0.56|       0.6|     0.0|    0.08|     0.0|          0.08|        0.06|        0.25|         0.22|          0.01|         0.0|        0.02|         0.01|            0.96|               0.05|           0.14|             0.14|            0.45|             0.63|              0.19|           0.65|            0.04|          0.45|     0.5|      0.01|        0.92|         0.55|            0.05|          0.21|          0.85|          0.08|          0.07|          0.19|        0.18|         0.18|    0.35|      0.32|     0.32|   0.29|             0.16|            0.35|                 0.26|         0.01|      0.0|          0.03|            0.86|          0.43|         0.47|          0.69|           ?|              ?|                ?|                   ?|            ?|                ?|               ?|          ?|                 ?|            ?|            ?|           ?|            ?|            ?|                  ?|                ?|               ?|    0.08|   0.04|           0.0|        ?|            ?|                  ?|                  ?|                0.0|              ?|               0.09|          8.0|          45.0|            556.0|                709.0|         1.0|               0.0|                 15.0|                 3.0|                 0.0|                 2.0|                0.0|                6.0|               13.0|                8.0|              37.0|              1.0|            33.0|             50.0|            30.0|                36.0|              50.0|              34.0|                0.0|              47.0|             36.0|             33.0|               19.0|               15.0|                29.0|               45.0|               22.0|              58.0|                1.0|                   1.0|                   16.0|                 4.0|               25.0|                 35.0|             58.0|               66.0|                   35.0|                 4.0|                    23.0|                  17.0|                   7.0|                38.0|               11.0|               3.0|              49.0|               48.0|                     1.0|               39.0|                       13.0|               4.0|             0.0|             2.0|             0.0|                  51.0|                45.0|                21.0|                 19.0|                   0.0|                 7.0|                 0.0|                  1.0|                     0.0|                        3.0|                    3.0|                      5.0|                     7.0|                     24.0|                      30.0|                   27.0|                     1.0|                  26.0|             0.0|               0.0|                16.0|                  4.0|                     2.0|                  35.0|                  37.0|                  10.0|                   2.0|                  17.0|                12.0|                 14.0|             5.0|              22.0|             13.0|            6.0|                     68.0|                    16.0|                         12.0|                  1.0|              0.0|                   0.0|                    20.0|                   7.0|                 41.0|                   8.0|                 0.0|                    0.0|                      0.0|                         0.0|                  0.0|                      0.0|                     0.0|                0.0|                       0.0|                  0.0|                  0.0|                 0.0|                  0.0|                  0.0|                        0.0|                      0.0|                     0.0|             7.0|           16.0|                   1.0|              0.0|                  0.0|                        0.0|                        0.0|                        0.0|                    0.0|                        5.0|\n",
      "|    6|     ?|        ?|       DanaPointcity|   1|      0.04|         0.36|        0.01|        0.85|        0.14|       0.26|       0.32|       0.46|        0.3|      0.31|     0.05|     1.0|     0.71|    0.67|        0.42|      0.55|      0.25|       0.14|      0.36|      0.7|     0.79|       0.82|       0.29|        0.37|       0.53|       0.28|      0.38|       0.02|          0.18|           0.11|        0.14|       0.58|         0.19|     0.68|       0.28|           0.35|        0.15|            0.61|           0.6|           0.5|        0.68|       0.66|      0.35|      0.66|       0.68|            0.87|       0.59|                0.3|       0.3|    0.01|     0.1|    0.03|          0.69|        0.74|         0.7|         0.69|          0.65|        0.61|        0.53|         0.47|            0.74|               0.32|           0.26|             0.22|            0.39|             0.37|              0.45|           0.47|            0.21|          0.54|     0.5|       0.1|        0.43|          0.5|             0.0|          0.19|          0.79|          0.07|          0.07|          0.88|        0.93|         0.97|    0.96|      0.91|      1.0|   0.87|             0.55|            0.81|                 0.21|          0.0|     0.11|           0.4|            0.42|          0.31|         0.51|          0.53|           ?|              ?|                ?|                   ?|            ?|                ?|               ?|          ?|                 ?|            ?|            ?|           ?|            ?|            ?|                  ?|                ?|               ?|    0.02|    0.4|          0.15|        ?|            ?|                  ?|                  ?|                0.0|              ?|               0.21|          0.0|           0.0|              0.0|               1707.0|         1.0|               4.0|                  9.0|                 0.0|                14.0|                14.0|               27.0|               14.0|                1.0|                4.0|              20.0|              4.0|             0.0|             71.0|            11.0|                40.0|              24.0|              48.0|                8.0|              19.0|             61.0|             67.0|               72.0|               14.0|                31.0|               37.0|               13.0|              12.0|                2.0|                  15.0|                    1.0|                 9.0|               39.0|                 15.0|             27.0|                8.0|                    9.0|                24.0|                    56.0|                  21.0|                  27.0|                13.0|                5.0|               8.0|               5.0|                3.0|                     5.0|                5.0|                       44.0|              50.0|             1.0|             5.0|             3.0|                  70.0|                63.0|                78.0|                 44.0|                  44.0|                61.0|                68.0|                 43.0|                    19.0|                       36.0|                   14.0|                     10.0|                    27.0|                     15.0|                      18.0|                    7.0|                    18.0|                  14.0|             0.0|              11.0|                49.0|                  3.0|                     0.0|                  41.0|                  23.0|                   6.0|                   2.0|                  79.0|                89.0|                 71.0|            92.0|              87.0|              0.0|           79.0|                      4.0|                    78.0|                         13.0|                  0.0|             12.0|                  39.0|                    16.0|                  40.0|                 33.0|                  31.0|                 0.0|                    0.0|                      0.0|                         0.0|                  0.0|                      0.0|                     0.0|                0.0|                       0.0|                  0.0|                  0.0|                 0.0|                  0.0|                  0.0|                        0.0|                      0.0|                     0.0|             1.0|           45.0|                  20.0|              0.0|                  0.0|                        0.0|                        0.0|                        0.0|                    0.0|                       22.0|\n",
      "|   19|   187|    91370|       FortDodgecity|   1|      0.03|         0.34|        0.06|        0.93|        0.03|       0.03|       0.39|       0.41|       0.28|      0.58|      0.0|     0.0|     0.18|    0.42|        0.81|      0.49|      0.62|       0.37|      0.41|     0.21|     0.22|       0.21|       0.16|        0.12|       0.46|       0.33|      0.28|       0.03|          0.33|            0.3|        0.37|       0.24|         0.32|     0.42|       0.38|           0.48|        0.48|            0.36|           0.5|          0.34|        0.45|       0.49|      0.38|      0.55|        0.6|            0.61|       0.52|               0.64|      0.71|    0.01|    0.19|     0.0|          0.05|        0.04|        0.03|         0.13|           0.0|         0.0|         0.0|         0.01|            0.95|               0.03|           0.14|             0.12|            0.32|             0.39|              0.22|           0.62|            0.04|          0.53|     0.5|      0.04|        0.76|         0.58|            0.41|          0.47|          0.25|          0.24|          0.44|          0.04|        0.04|         0.05|     0.1|      0.13|     0.14|   0.13|              0.4|             0.2|                 0.35|         0.01|      0.0|          0.03|            0.85|           0.6|         0.74|          0.78|           ?|              ?|                ?|                   ?|            ?|                ?|               ?|          ?|                 ?|            ?|            ?|           ?|            ?|            ?|                  ?|                ?|               ?|    0.04|   0.15|          0.04|        ?|            ?|                  ?|                  ?|                0.0|              ?|                0.3|         28.0|          97.0|            498.0|                756.0|         1.0|               3.0|                  5.0|                 6.0|                 5.0|                 1.0|                2.0|                3.0|                4.0|                2.0|              23.0|              0.0|             1.0|              5.0|            33.0|                73.0|              25.0|              31.0|               32.0|              14.0|              1.0|              1.0|               16.0|                2.0|                11.0|               43.0|               14.0|               6.0|                3.0|                  19.0|                    3.0|                13.0|                2.0|                  2.0|             10.0|               15.0|                   12.0|                15.0|                     0.0|                  18.0|                  10.0|                32.0|               19.0|              19.0|              12.0|               23.0|                    27.0|               15.0|                       21.0|              27.0|             1.0|            16.0|             0.0|                  47.0|                61.0|                90.0|                 49.0|                   2.0|                 7.0|                 9.0|                  1.0|                     1.0|                        0.0|                    3.0|                      9.0|                     5.0|                     31.0|                      12.0|                   23.0|                     1.0|                   0.0|             0.0|               3.0|                21.0|                  8.0|                    38.0|                   4.0|                  26.0|                  35.0|                  46.0|                  11.0|                 9.0|                  5.0|             3.0|              11.0|              2.0|           14.0|                      0.0|                    20.0|                          8.0|                  1.0|              0.0|                   0.0|                    28.0|                   5.0|                  0.0|                   4.0|                 0.0|                    0.0|                      0.0|                         0.0|                  0.0|                      0.0|                     0.0|                0.0|                       0.0|                  0.0|                  0.0|                 0.0|                  0.0|                  0.0|                        0.0|                      0.0|                     0.0|             3.0|            4.0|                   4.0|              0.0|                  0.0|                        0.0|                        0.0|                        0.0|                    0.0|                       32.0|\n",
      "|   36|     1|     1000|          Albanycity|   1|      0.15|         0.31|         0.4|        0.63|        0.14|       0.06|       0.58|       0.72|       0.65|      0.47|     0.16|     1.0|     0.22|    0.52|         0.1|      0.51|      0.48|       0.39|      0.51|      0.3|     0.29|       0.34|       0.23|        0.13|        0.2|        0.2|       0.3|       0.15|          0.48|            0.3|        0.38|       0.47|         0.37|     0.44|       0.08|           0.73|        0.21|            0.53|           0.5|          0.94|        0.45|       0.49|      0.36|       0.2|       0.25|            0.25|       0.19|               0.61|      0.65|    0.13|    0.73|    0.05|          0.39|        0.39|        0.46|         0.46|          0.21|        0.19|         0.2|         0.18|            0.81|               0.08|           0.22|             0.13|            0.21|             0.33|              0.22|           0.24|             0.1|           0.6|     0.0|      0.22|        0.64|         0.22|            0.79|           0.6|           0.0|           0.4|          0.26|          0.23|        0.23|         0.23|    0.31|      0.32|     0.36|   0.33|             0.52|            0.35|                  0.4|         0.23|     0.02|          0.23|             0.8|          0.41|         0.53|           0.8|        0.06|            0.3|             0.93|                0.38|         0.05|             0.21|            0.23|        0.3|              0.61|         0.89|         0.15|        0.01|         0.06|         0.12|                0.1|             0.64|            0.22|    0.06|   0.39|          0.84|     0.06|         0.06|               0.91|                0.5|               0.88|           0.26|               0.49|         11.0|           4.0|             17.0|                  6.0|         1.0|              17.0|                 21.0|                38.0|                35.0|                14.0|                5.0|               37.0|               44.0|               57.0|               0.0|             17.0|             0.0|              4.0|             5.0|                13.0|               8.0|              22.0|               48.0|               3.0|              8.0|             11.0|               13.0|                8.0|                 4.0|               10.0|                2.0|               0.0|               15.0|                  54.0|                    3.0|                33.0|               33.0|                 28.0|             24.0|               65.0|                   50.0|                33.0|                    31.0|                  18.0|                  77.0|                32.0|               19.0|              26.0|              89.0|               70.0|                    79.0|               73.0|                       24.0|              13.0|            13.0|            65.0|             5.0|                  17.0|                12.0|                 5.0|                  7.0|                  22.0|                23.0|                28.0|                 20.0|                    16.0|                        6.0|                   11.0|                      8.0|                    45.0|                     37.0|                      12.0|                   67.0|                     6.0|                  12.0|             1.0|              38.0|                34.0|                 81.0|                    66.0|                  31.0|                   0.0|                  30.0|                  18.0|                  18.0|                35.0|                 22.0|             8.0|              22.0|             32.0|           16.0|                      6.0|                    16.0|                         14.0|                 25.0|              2.0|                  24.0|                     8.0|                  32.0|                 30.0|                   5.0|                 7.0|                   24.0|                      5.0|                        31.0|                  5.0|                     11.0|                     1.0|               25.0|                      30.0|                  8.0|                 12.0|                 6.0|                  9.0|                 22.0|                        8.0|                      3.0|                    30.0|             5.0|           39.0|                  93.0|              4.0|                  6.0|                       13.0|                        2.0|                       63.0|                   27.0|                       58.0|\n",
      "|   34|    27|    17650|    Denvilletownship|   1|      0.01|         0.53|        0.01|        0.94|         0.2|       0.03|       0.34|       0.39|       0.27|      0.36|     0.02|    0.76|     0.79|    0.77|        0.13|      0.77|      0.44|       0.15|      0.56|     0.75|     0.69|       0.67|       0.38|         0.0|       0.51|          1|      0.62|        0.0|          0.04|            0.1|        0.18|       0.58|         0.11|     0.68|       0.42|           0.37|        0.21|            0.66|          0.25|           0.4|        0.25|       0.26|      0.52|      0.88|       0.88|            0.97|       0.74|               0.51|      0.48|     0.0|    0.04|    0.01|          0.15|        0.26|        0.32|          0.3|          0.09|        0.14|        0.15|         0.13|            0.82|               0.04|            0.2|             0.21|            0.57|             0.58|              0.34|           0.89|            0.04|          0.27|     0.5|      0.01|        0.88|         0.86|            0.25|          0.54|          0.33|          0.03|          0.08|           0.5|        0.49|          0.5|     0.8|      0.76|     0.96|    0.8|             0.69|            0.52|                 0.65|          0.0|      0.0|          0.26|            0.64|           0.8|         0.74|          0.73|           ?|              ?|                ?|                   ?|            ?|                ?|               ?|          ?|                 ?|            ?|            ?|           ?|            ?|            ?|                  ?|                ?|               ?|    0.03|   0.09|          0.21|        ?|            ?|                  ?|                  ?|                0.0|              ?|               0.07|          1.0|           7.0|            688.0|                337.0|         1.0|               0.0|                 17.0|                 0.0|                 7.0|                18.0|                2.0|                7.0|               15.0|                3.0|               8.0|              1.0|            24.0|             76.0|            30.0|                 9.0|              53.0|              12.0|                6.0|              27.0|             52.0|             64.0|               49.0|               15.0|                 0.0|               48.0|               26.0|              52.0|                1.0|                  10.0|                   11.0|                25.0|               39.0|                 48.0|             27.0|               27.0|                    7.0|                33.0|                    55.0|                  48.0|                   5.0|                41.0|               47.0|              22.0|              49.0|               25.0|                    57.0|               11.0|                        0.0|              18.0|             0.0|             3.0|             1.0|                  27.0|                22.0|                11.0|                 15.0|                  10.0|                16.0|                16.0|                 17.0|                    18.0|                        1.0|                    2.0|                      3.0|                    37.0|                     13.0|                       6.0|                   48.0|                     1.0|                  44.0|             0.0|               0.0|                 1.0|                 52.0|                    31.0|                  30.0|                  24.0|                   1.0|                  20.0|                  30.0|                27.0|                 31.0|            75.0|              77.0|             93.0|           70.0|                     36.0|                    32.0|                         41.0|                  0.0|              0.0|                  29.0|                    22.0|                  46.0|                  0.0|                  11.0|                 0.0|                    0.0|                      0.0|                         0.0|                  0.0|                      0.0|                     0.0|                0.0|                       0.0|                  0.0|                  0.0|                 0.0|                  0.0|                  0.0|                        0.0|                      0.0|                     0.0|             2.0|            0.0|                  23.0|              0.0|                  0.0|                        0.0|                        0.0|                        0.0|                    0.0|                        7.0|\n",
      "|   18|     ?|        ?|      Valparaisocity|   1|      0.02|         0.47|        0.01|        0.97|        0.07|       0.02|        0.7|       0.67|       0.63|      0.37|      0.0|     0.0|     0.33|    0.56|        0.28|      0.62|      0.43|       0.21|       0.4|     0.41|     0.34|       0.32|       0.22|        0.37|       0.69|       0.72|      0.35|       0.02|          0.22|           0.16|        0.24|       0.45|         0.19|     0.48|       0.36|           0.77|        0.25|            0.56|          0.38|          0.58|        0.43|       0.43|      0.41|      0.66|       0.73|            0.72|       0.63|               0.53|       0.6|    0.01|    0.11|     0.0|           0.4|        0.35|        0.37|         0.39|          0.08|        0.06|        0.06|         0.06|            0.95|               0.01|           0.12|             0.11|            0.33|             0.49|              0.19|           0.54|            0.06|          0.55|     0.5|      0.01|        0.89|         0.46|            0.27|          0.43|           0.5|          0.12|          0.05|          0.14|        0.14|         0.14|    0.27|      0.29|      0.3|    0.3|             0.45|            0.22|                 0.28|          0.0|      0.0|          0.08|            0.58|           0.4|         0.49|          0.45|           ?|              ?|                ?|                   ?|            ?|                ?|               ?|          ?|                 ?|            ?|            ?|           ?|            ?|            ?|                  ?|                ?|               ?|    0.03|    0.2|          0.07|        ?|            ?|                  ?|                  ?|                0.0|              ?|               0.15|          9.0|           0.0|              0.0|                745.0|         1.0|               2.0|                 12.0|                 0.0|                 2.0|                 7.0|                1.0|               49.0|               41.0|               60.0|              14.0|              0.0|             1.0|             10.0|             9.0|                15.0|              43.0|              15.0|                3.0|               1.0|             23.0|             18.0|                3.0|                9.0|                31.0|               52.0|               78.0|              11.0|                2.0|                  25.0|                    5.0|                 8.0|               29.0|                 15.0|             11.0|                2.0|                   60.0|                36.0|                    40.0|                   9.0|                  38.0|                27.0|               35.0|              20.0|               5.0|               15.0|                    24.0|                2.0|                       17.0|               4.0|             1.0|            10.0|             0.0|                  22.0|                 6.0|                12.0|                 29.0|                   8.0|                 4.0|                 7.0|                  4.0|                     1.0|                        5.0|                    7.0|                      7.0|                     9.0|                     11.0|                      30.0|                    0.0|                     0.0|                   1.0|             0.0|               0.0|                 3.0|                 13.0|                    34.0|                   3.0|                   4.0|                  13.0|                  12.0|                  10.0|                10.0|                  7.0|            14.0|              20.0|             24.0|           12.0|                     10.0|                    21.0|                          3.0|                  0.0|              0.0|                   9.0|                    18.0|                  37.0|                 39.0|                  39.0|                 0.0|                    0.0|                      0.0|                         0.0|                  0.0|                      0.0|                     0.0|                0.0|                       0.0|                  0.0|                  0.0|                 0.0|                  0.0|                  0.0|                        0.0|                      0.0|                     0.0|             2.0|           17.0|                   7.0|              0.0|                  0.0|                        0.0|                        0.0|                        0.0|                    0.0|                       11.0|\n",
      "|   42|   129|    66376|   Rostravertownship|   1|       0.0|         0.41|        0.05|        0.96|        0.01|       0.01|       0.37|       0.37|       0.24|      0.55|     0.01|    0.58|     0.23|    0.34|        0.33|      0.51|       0.7|       0.36|      0.87|     0.24|     0.22|       0.21|       0.24|        0.15|        0.0|          0|      0.31|       0.01|          0.28|           0.27|        0.38|       0.19|         0.72|     0.25|       0.39|           0.35|        0.49|            0.34|          0.31|          0.29|        0.27|        0.3|      0.41|      0.76|       0.74|            0.83|       0.89|               0.45|      0.31|     0.0|    0.06|     0.0|           0.0|         0.0|         0.0|          0.0|           0.0|         0.0|         0.0|          0.0|            0.94|               0.02|            0.1|             0.12|            0.46|             0.45|              0.41|           0.83|            0.04|          0.42|     0.5|      0.01|        0.75|         0.83|            0.31|          0.84|          0.44|          0.05|          0.18|          0.08|        0.09|          0.1|    0.06|      0.12|     0.15|    0.2|             0.19|             0.2|                 0.28|          0.0|      0.0|          0.02|            0.98|          0.91|         0.78|          0.93|           ?|              ?|                ?|                   ?|            ?|                ?|               ?|          ?|                 ?|            ?|            ?|           ?|            ?|            ?|                  ?|                ?|               ?|    0.09|   0.03|          0.05|        ?|            ?|                  ?|                  ?|                0.0|              ?|               0.03|          5.0|          49.0|            432.0|               1786.0|         1.0|               1.0|                  0.0|                 5.0|                 1.0|                 5.0|                0.0|                5.0|               22.0|                6.0|               9.0|             10.0|            18.0|              0.0|            44.0|                23.0|               8.0|              49.0|               38.0|              86.0|              5.0|              1.0|               16.0|               12.0|                 2.0|               23.0|                0.0|               4.0|                0.0|                  24.0|                    8.0|                33.0|               15.0|                 65.0|             59.0|                3.0|                    9.0|                41.0|                     1.0|                  25.0|                  19.0|                38.0|               21.0|              20.0|              47.0|               12.0|                     6.0|               74.0|                       12.0|              55.0|             0.0|             1.0|             0.0|                   0.0|                 0.0|                31.0|                 60.0|                   2.0|                 7.0|                 9.0|                 11.0|                     3.0|                        2.0|                   15.0|                      9.0|                    12.0|                      0.0|                      15.0|                   50.0|                     1.0|                  15.0|             0.0|               0.0|                11.0|                 43.0|                    28.0|                  74.0|                  20.0|                   3.0|                   4.0|                   6.0|                 3.0|                  9.0|            26.0|              28.0|             27.0|            4.0|                     61.0|                    20.0|                          3.0|                  0.0|              0.0|                   3.0|                    78.0|                  65.0|                 22.0|                  56.0|                 0.0|                    0.0|                      0.0|                         0.0|                  0.0|                      0.0|                     0.0|                0.0|                       0.0|                  0.0|                  0.0|                 0.0|                  0.0|                  0.0|                        0.0|                      0.0|                     0.0|             9.0|           22.0|                   5.0|              0.0|                  0.0|                        0.0|                        0.0|                        0.0|                    0.0|                        0.0|\n",
      "+-----+------+---------+--------------------+----+----------+-------------+------------+------------+------------+-----------+-----------+-----------+-----------+----------+---------+--------+---------+--------+------------+----------+----------+-----------+----------+---------+---------+-----------+-----------+------------+-----------+-----------+----------+-----------+--------------+---------------+------------+-----------+-------------+---------+-----------+---------------+------------+----------------+--------------+--------------+------------+-----------+----------+----------+-----------+----------------+-----------+-------------------+----------+--------+--------+--------+--------------+------------+------------+-------------+--------------+------------+------------+-------------+----------------+-------------------+---------------+-----------------+----------------+-----------------+------------------+---------------+----------------+--------------+--------+----------+------------+-------------+----------------+--------------+--------------+--------------+--------------+--------------+------------+-------------+--------+----------+---------+-------+-----------------+----------------+---------------------+-------------+---------+--------------+----------------+--------------+-------------+--------------+------------+---------------+-----------------+--------------------+-------------+-----------------+----------------+-----------+------------------+-------------+-------------+------------+-------------+-------------+-------------------+-----------------+----------------+--------+-------+--------------+---------+-------------+-------------------+-------------------+-------------------+---------------+-------------------+-------------+--------------+-----------------+---------------------+------------+------------------+---------------------+--------------------+--------------------+--------------------+-------------------+-------------------+-------------------+-------------------+------------------+-----------------+----------------+-----------------+----------------+--------------------+------------------+------------------+-------------------+------------------+-----------------+-----------------+-------------------+-------------------+--------------------+-------------------+-------------------+------------------+-------------------+----------------------+-----------------------+--------------------+-------------------+---------------------+-----------------+-------------------+-----------------------+--------------------+------------------------+----------------------+----------------------+--------------------+-------------------+------------------+------------------+-------------------+------------------------+-------------------+---------------------------+------------------+----------------+----------------+----------------+----------------------+--------------------+--------------------+---------------------+----------------------+--------------------+--------------------+---------------------+------------------------+---------------------------+-----------------------+-------------------------+------------------------+-------------------------+--------------------------+-----------------------+------------------------+----------------------+----------------+------------------+--------------------+---------------------+------------------------+----------------------+----------------------+----------------------+----------------------+----------------------+--------------------+---------------------+----------------+------------------+-----------------+---------------+-------------------------+------------------------+-----------------------------+---------------------+-----------------+----------------------+------------------------+----------------------+---------------------+----------------------+--------------------+-----------------------+-------------------------+----------------------------+---------------------+-------------------------+------------------------+-------------------+--------------------------+---------------------+---------------------+--------------------+---------------------+---------------------+---------------------------+-------------------------+------------------------+----------------+---------------+----------------------+-----------------+---------------------+---------------------------+---------------------------+---------------------------+-----------------------+---------------------------+\n",
      "only showing top 20 rows\n",
      "\n"
     ]
    }
   ],
   "source": [
    "#Label encoder\n",
    "from pyspark.ml.feature import StringIndexer\n",
    "indexed = data\n",
    "for col in data.columns:\n",
    "    stringIndexer = StringIndexer(inputCol=col, outputCol=col+\"_encoded\")\n",
    "    indexed = stringIndexer.fit(indexed).transform(indexed)\n",
    "indexed.show()"
   ]
  },
  {
   "cell_type": "code",
   "execution_count": 6,
   "metadata": {},
   "outputs": [
    {
     "name": "stdout",
     "output_type": "stream",
     "text": [
      "+--------------------+\n",
      "|            features|\n",
      "+--------------------+\n",
      "|[1.0,0.19,0.33,0....|\n",
      "|[1.0,0.0,0.16,0.1...|\n",
      "|[1.0,0.0,0.42,0.4...|\n",
      "|[1.0,0.04,0.77,1....|\n",
      "|[1.0,0.01,0.55,0....|\n",
      "+--------------------+\n",
      "only showing top 5 rows\n",
      "\n"
     ]
    }
   ],
   "source": [
    "#all the independent variables need to be packed into one column of vector type\n",
    "from pyspark.ml.feature import VectorAssembler\n",
    "assembler = VectorAssembler(inputCols=[\"fold\",\"population\",\"householdsize\",\"racepctblack\",\"racePctWhite\",\"racePctAsian\",\n",
    "                                      \"racePctHisp\",\"agePct12t21\",\"agePct12t29\",\"agePct16t24\",\"agePct65up\",\"numbUrban\",\"pctUrban\",\"medIncome\",\n",
    "                                      \"pctWWage\",\"pctWFarmSelf\",\"pctWInvInc\",\"pctWSocSec\",\"pctWPubAsst\",\"pctWRetire\",\"medFamInc\",\n",
    "                                       \"NumUnderPov\",\"PctPopUnderPov\",\"PctLess9thGrade\",\"PctNotHSGrad\",\"PctBSorMore\",\"PctUnemployed\",\n",
    "                                      \"PctEmploy\",\"PctEmplManu\",\"PctEmplProfServ\",\"PctOccupManu\",\"PctOccupMgmtProf\",\"MalePctDivorce\",\n",
    "                                      \"MalePctNevMarr\",\"FemalePctDiv\",\"TotalPctDiv\",\"PersPerFam\",\"PctFam2Par\",\"PctKids2Par\", \n",
    "                                       \"PctYoungKids2Par\",\"PctTeen2Par\",\"PctWorkMomYoungKids\",\"PctWorkMom\",\"NumIlleg\",\"PctIlleg\", \n",
    "                                       \"NumImmig\",\"PctImmigRecent\",\"PctImmigRec5\",\"PctImmigRec8\",\"PctImmigRec10\",\"PctRecentImmig\",\n",
    "                                      \"PctRecImmig5\",\"PctRecImmig8\",\"PctRecImmig10\",\"PctSpeakEnglOnly\",\"PctNotSpeakEnglWell\",\n",
    "                                       \"PctLargHouseFam\",\"PctLargHouseOccup\",\"PersPerOccupHous\",\"PersPerOwnOccHous\",\"PersPerRentOccHous\",\n",
    "                                       \"PctPersOwnOccup\",\"PctPersDenseHous\",\"PctHousLess3BR\",\"MedNumBR\",\"HousVacant\",\"PctHousOccup\",\n",
    "                                       \"PctWOFullPlumb\",\"OwnOccLowQuart\",\"OwnOccMedVal\",\"OwnOccHiQuart\",\"RentLowQ\",\"RentMedian\",\n",
    "                                       \"RentHighQ\",\"MedRent\",\"MedRentPctHousInc\",\"MedOwnCostPctInc\",\"MedOwnCostPctIncNoMtg\",\"NumInShelters\",  \n",
    "                                       \"NumStreet\",\"PctForeignBorn\",\"PctBornSameState\",\"PctSameHouse85\",\"PctSameCity85\",\"PctSameState85\",\n",
    "                                       ],             \n",
    "                            outputCol=\"features\")\n",
    "feature_vec=assembler.transform(indexed)\n",
    "feature_vec.select(\"features\").show(5)"
   ]
  },
  {
   "cell_type": "code",
   "execution_count": 8,
   "metadata": {},
   "outputs": [],
   "source": [
    "# Split the data into train and test sets\n",
    "train_data, test_data = feature_vec.randomSplit([.75,.25],seed=0)"
   ]
  },
  {
   "cell_type": "code",
   "execution_count": 9,
   "metadata": {},
   "outputs": [
    {
     "name": "stdout",
     "output_type": "stream",
     "text": [
      "0.4080976736007528 [-0.001492788132055634,0.07054716276374642,-0.006611600991901406,0.19942074631943837,0.0015605886363058948,0.008418061089307809,0.06609658564954124,0.12580793371939353,-0.2662270424913891,-0.07652077992038483,0.009041070783011087,-0.1929719812084273,0.050205329108551494,-0.2669493864891281,-0.24153745879922667,0.041329523645241555,-0.16476423409089416,0.0774932985561194,0.007538895099189558,-0.08205645724242203,0.16617811552845413,0.11075742286718346,-0.1669874345909972,-0.052031834645849595,0.0068100671518780105,0.027293274726552727,0.04118362070702844,0.2733181630678675,-0.05275270489277773,-0.02303932241395766,0.055609680607877965,0.0948492315921483,0.4455358499598474,0.2349276560135143,0.08533675681456376,-0.4438976075909757,-0.13441657873622181,0.18359818094872898,-0.5122009547327729,-0.022169140690885127,0.021813965001925287,0.05476709033168339,-0.18069278494938396,-0.17392638316539466,0.1480597642977424,-0.10997708821842427,0.032447627929365466,0.026335273225902567,-0.040486364840508576,-0.018878368651316726,-0.056845064920135684,-0.07666410747269028,0.25387659845184807,-0.11795806062726683,-0.003965019871215798,-0.13307032680052508,-0.09464131457098948,-0.043024384261760446,0.7816175957003404,-0.22810536255560734,-0.18454517513073324,-0.09300794166403344,0.15238931711768866,0.12082828080926185,0.02326465105431016,0.20738276757968768,-0.01402677600678415,-0.005403139398356414,-0.2731482547602141,0.3270528947522744,-0.1329742743372265,-0.2237281896661607,-0.05254754682403732,-0.047085656605039515,0.37669888560566145,0.039273549246759056,-0.043736549943943735,-0.09834022923845029,0.12505027476437308,0.17036565849966093,0.10996761148676698,-0.00733533660434951,-0.056746033736369265,0.03866751462653866,0.01202313150829868]\n"
     ]
    }
   ],
   "source": [
    "from pyspark.ml.regression import LinearRegression\n",
    "\n",
    "# Create initial LinearRegression model\n",
    "lr = LinearRegression(labelCol=\"ViolentCrimesPerPop\", featuresCol=\"features\",  \n",
    "                        regParam=0.0001,   \n",
    "                        elasticNetParam=0.0)\n",
    "\n",
    "# Train model with Training Data\n",
    "lrModel = lr.fit(train_data)\n",
    "print(lrModel.intercept,lrModel.coefficients)\n"
   ]
  },
  {
   "cell_type": "code",
   "execution_count": 10,
   "metadata": {},
   "outputs": [
    {
     "data": {
      "text/plain": [
       "0.6656902937965785"
      ]
     },
     "execution_count": 10,
     "metadata": {},
     "output_type": "execute_result"
    }
   ],
   "source": [
    "#eVALUATION OF THE MODEL.\n",
    "predictions = lrModel.transform(test_data)\n",
    "\n",
    "from pyspark.ml.evaluation import RegressionEvaluator\n",
    "evaluator = RegressionEvaluator(labelCol=\"ViolentCrimesPerPop\",metricName='r2')\n",
    "evaluator.evaluate(predictions)"
   ]
  },
  {
   "cell_type": "code",
   "execution_count": 11,
   "metadata": {},
   "outputs": [],
   "source": [
    "#Grid Search\n",
    "from pyspark.ml.tuning import ParamGridBuilder, CrossValidator\n",
    "\n",
    "paramGrid = (ParamGridBuilder()\\\n",
    "             .addGrid(lr.regParam,[0.001,0.01,0.1,1])\\\n",
    "             .addGrid(lr.elasticNetParam,[0.0,0.5,1.0])\\\n",
    "             .build())\n",
    "\n",
    "# Create 4-fold CrossValidator\n",
    "cv = CrossValidator(estimator=lr, estimatorParamMaps=paramGrid, evaluator=evaluator, numFolds=4)\n",
    "\n",
    "cvModel = cv.fit(train_data)"
   ]
  },
  {
   "cell_type": "code",
   "execution_count": 12,
   "metadata": {},
   "outputs": [
    {
     "data": {
      "text/plain": [
       "[(0.6774639666494401,\n",
       "  {Param(parent='LinearRegression_4719982b34dffbb255a4', name='regParam', doc='regularization parameter (>= 0).'): 0.001,\n",
       "   Param(parent='LinearRegression_4719982b34dffbb255a4', name='elasticNetParam', doc='the ElasticNet mixing parameter, in range [0, 1]. For alpha = 0, the penalty is an L2 penalty. For alpha = 1, it is an L1 penalty.'): 0.0}),\n",
       " (0.6741390114177647,\n",
       "  {Param(parent='LinearRegression_4719982b34dffbb255a4', name='regParam', doc='regularization parameter (>= 0).'): 0.001,\n",
       "   Param(parent='LinearRegression_4719982b34dffbb255a4', name='elasticNetParam', doc='the ElasticNet mixing parameter, in range [0, 1]. For alpha = 0, the penalty is an L2 penalty. For alpha = 1, it is an L1 penalty.'): 0.5}),\n",
       " (0.6705019532647047,\n",
       "  {Param(parent='LinearRegression_4719982b34dffbb255a4', name='regParam', doc='regularization parameter (>= 0).'): 0.001,\n",
       "   Param(parent='LinearRegression_4719982b34dffbb255a4', name='elasticNetParam', doc='the ElasticNet mixing parameter, in range [0, 1]. For alpha = 0, the penalty is an L2 penalty. For alpha = 1, it is an L1 penalty.'): 1.0}),\n",
       " (0.6732048546461474,\n",
       "  {Param(parent='LinearRegression_4719982b34dffbb255a4', name='regParam', doc='regularization parameter (>= 0).'): 0.01,\n",
       "   Param(parent='LinearRegression_4719982b34dffbb255a4', name='elasticNetParam', doc='the ElasticNet mixing parameter, in range [0, 1]. For alpha = 0, the penalty is an L2 penalty. For alpha = 1, it is an L1 penalty.'): 0.0}),\n",
       " (0.6586935028422634,\n",
       "  {Param(parent='LinearRegression_4719982b34dffbb255a4', name='regParam', doc='regularization parameter (>= 0).'): 0.01,\n",
       "   Param(parent='LinearRegression_4719982b34dffbb255a4', name='elasticNetParam', doc='the ElasticNet mixing parameter, in range [0, 1]. For alpha = 0, the penalty is an L2 penalty. For alpha = 1, it is an L1 penalty.'): 0.5}),\n",
       " (0.6486259401766312,\n",
       "  {Param(parent='LinearRegression_4719982b34dffbb255a4', name='regParam', doc='regularization parameter (>= 0).'): 0.01,\n",
       "   Param(parent='LinearRegression_4719982b34dffbb255a4', name='elasticNetParam', doc='the ElasticNet mixing parameter, in range [0, 1]. For alpha = 0, the penalty is an L2 penalty. For alpha = 1, it is an L1 penalty.'): 1.0}),\n",
       " (0.6566720177721636,\n",
       "  {Param(parent='LinearRegression_4719982b34dffbb255a4', name='regParam', doc='regularization parameter (>= 0).'): 0.1,\n",
       "   Param(parent='LinearRegression_4719982b34dffbb255a4', name='elasticNetParam', doc='the ElasticNet mixing parameter, in range [0, 1]. For alpha = 0, the penalty is an L2 penalty. For alpha = 1, it is an L1 penalty.'): 0.0}),\n",
       " (0.5415591299953764,\n",
       "  {Param(parent='LinearRegression_4719982b34dffbb255a4', name='regParam', doc='regularization parameter (>= 0).'): 0.1,\n",
       "   Param(parent='LinearRegression_4719982b34dffbb255a4', name='elasticNetParam', doc='the ElasticNet mixing parameter, in range [0, 1]. For alpha = 0, the penalty is an L2 penalty. For alpha = 1, it is an L1 penalty.'): 0.5}),\n",
       " (0.3933865398855554,\n",
       "  {Param(parent='LinearRegression_4719982b34dffbb255a4', name='regParam', doc='regularization parameter (>= 0).'): 0.1,\n",
       "   Param(parent='LinearRegression_4719982b34dffbb255a4', name='elasticNetParam', doc='the ElasticNet mixing parameter, in range [0, 1]. For alpha = 0, the penalty is an L2 penalty. For alpha = 1, it is an L1 penalty.'): 1.0}),\n",
       " (0.5845685036431254,\n",
       "  {Param(parent='LinearRegression_4719982b34dffbb255a4', name='regParam', doc='regularization parameter (>= 0).'): 1,\n",
       "   Param(parent='LinearRegression_4719982b34dffbb255a4', name='elasticNetParam', doc='the ElasticNet mixing parameter, in range [0, 1]. For alpha = 0, the penalty is an L2 penalty. For alpha = 1, it is an L1 penalty.'): 0.0}),\n",
       " (-0.0015249261717992235,\n",
       "  {Param(parent='LinearRegression_4719982b34dffbb255a4', name='regParam', doc='regularization parameter (>= 0).'): 1,\n",
       "   Param(parent='LinearRegression_4719982b34dffbb255a4', name='elasticNetParam', doc='the ElasticNet mixing parameter, in range [0, 1]. For alpha = 0, the penalty is an L2 penalty. For alpha = 1, it is an L1 penalty.'): 0.5}),\n",
       " (-0.0015249261717992235,\n",
       "  {Param(parent='LinearRegression_4719982b34dffbb255a4', name='regParam', doc='regularization parameter (>= 0).'): 1,\n",
       "   Param(parent='LinearRegression_4719982b34dffbb255a4', name='elasticNetParam', doc='the ElasticNet mixing parameter, in range [0, 1]. For alpha = 0, the penalty is an L2 penalty. For alpha = 1, it is an L1 penalty.'): 1.0})]"
      ]
     },
     "execution_count": 12,
     "metadata": {},
     "output_type": "execute_result"
    }
   ],
   "source": [
    "list(zip(cvModel.avgMetrics, cvModel.getEstimatorParamMaps()))"
   ]
  },
  {
   "cell_type": "code",
   "execution_count": 13,
   "metadata": {},
   "outputs": [
    {
     "data": {
      "text/plain": [
       "(0.6774639666494401,\n",
       " {Param(parent='LinearRegression_4719982b34dffbb255a4', name='regParam', doc='regularization parameter (>= 0).'): 0.001,\n",
       "  Param(parent='LinearRegression_4719982b34dffbb255a4', name='elasticNetParam', doc='the ElasticNet mixing parameter, in range [0, 1]. For alpha = 0, the penalty is an L2 penalty. For alpha = 1, it is an L1 penalty.'): 0.0})"
      ]
     },
     "execution_count": 13,
     "metadata": {},
     "output_type": "execute_result"
    }
   ],
   "source": [
    "#Best Model Params\n",
    "score_params_list = list(zip(cvModel.avgMetrics, cvModel.getEstimatorParamMaps()))\n",
    "max(score_params_list,key=lambda item:item[0])"
   ]
  },
  {
   "cell_type": "code",
   "execution_count": 14,
   "metadata": {},
   "outputs": [
    {
     "name": "stdout",
     "output_type": "stream",
     "text": [
      "0.3967402148555527 [-0.0013891642412150991,-0.02079038835594751,0.034083225166873996,0.15555821525800753,-0.07174534278562453,-0.015632378937788013,0.028364498173553018,0.035765894433908325,-0.14269083738127192,-0.00711786587623854,0.034081852922643326,-0.03181708221799494,0.0431452871649035,0.012218025634013785,-0.08732775156049202,0.024155436430863167,-0.13013954281043805,0.0431699038106273,0.01910440923321431,-0.06909231324916065,0.006721934037830249,0.02541174710792225,-0.07544819383878955,-0.034710252544755675,0.02200012765492062,0.0006181348001807711,-0.0007251135720525685,0.11177518102143073,-0.03713188732347033,-0.016577296969403216,0.03168972252184967,0.03479333708316565,0.13811302234866343,0.1003061228552725,-0.05391580834903419,0.005215435488595359,0.030470344682154798,-0.05198535344626894,-0.16180341342035914,-0.0498991016634696,-0.007712009673782425,0.01840268277247541,-0.11561215407796374,-0.06823857234775049,0.15867017270979025,-0.09438791888835181,0.021797863860569353,-0.0017830110588378867,-0.01129265371218498,-0.028559393449189736,-0.00799934687881935,0.0032786780742619973,0.022553125064398466,0.018995565168509927,0.007407049301008699,-0.052581790879824314,-0.029715868852530147,-0.0236393968058398,0.1160958007753308,-0.056149969136358016,-0.003198345784550866,-0.01859361633091713,0.08558532028349278,0.06965494221338031,0.010269135999016384,0.15846005625473306,-0.04018354846706892,-0.0014668504202362562,-0.03149049937864428,0.003394657402036675,0.0017164088419043023,-0.12332152972083008,0.008300898572735579,0.02899451851987413,0.08942292651601004,0.05133743136615051,-0.02303235479471756,-0.09152501533383699,0.09677476884255949,0.17604445266051028,0.04145871850216569,-0.02377942987389145,-0.007187089936301108,0.038859737865691586,-6.639910241751238e-05]\n"
     ]
    },
    {
     "data": {
      "text/plain": [
       "0.6641903371542793"
      ]
     },
     "execution_count": 14,
     "metadata": {},
     "output_type": "execute_result"
    }
   ],
   "source": [
    "model = LinearRegression(labelCol=\"ViolentCrimesPerPop\",featuresCol=\"features\",\n",
    "                        regParam=0.01,\n",
    "                        elasticNetParam=0.0)\n",
    "lrModel = model.fit(train_data)\n",
    "print(lrModel.intercept,lrModel.coefficients)\n",
    "#Evaluation of the Model\n",
    "predictions = lrModel.transform(test_data)\n",
    "\n",
    "from pyspark.ml.evaluation import RegressionEvaluator\n",
    "evaluator = RegressionEvaluator(labelCol=\"ViolentCrimesPerPop\",metricName='r2')\n",
    "evaluator.evaluate(predictions)"
   ]
  },
  {
   "cell_type": "code",
   "execution_count": 15,
   "metadata": {},
   "outputs": [
    {
     "ename": "Py4JJavaError",
     "evalue": "An error occurred while calling o5710.fit.\n: org.apache.spark.SparkException: Job aborted due to stage failure: Task 0 in stage 640.0 failed 1 times, most recent failure: Lost task 0.0 in stage 640.0 (TID 641, localhost, executor driver): java.lang.OutOfMemoryError: Java heap space\n\tat java.lang.reflect.Array.newInstance(Array.java:75)\n\tat java.io.ObjectInputStream.readArray(ObjectInputStream.java:1678)\n\tat java.io.ObjectInputStream.readObject0(ObjectInputStream.java:1347)\n\tat java.io.ObjectInputStream.defaultReadFields(ObjectInputStream.java:2018)\n\tat java.io.ObjectInputStream.readSerialData(ObjectInputStream.java:1942)\n\tat java.io.ObjectInputStream.readOrdinaryObject(ObjectInputStream.java:1808)\n\tat java.io.ObjectInputStream.readObject0(ObjectInputStream.java:1353)\n\tat java.io.ObjectInputStream.readObject(ObjectInputStream.java:373)\n\tat org.apache.spark.serializer.JavaDeserializationStream.readObject(JavaSerializer.scala:75)\n\tat org.apache.spark.serializer.DeserializationStream.readValue(Serializer.scala:159)\n\tat org.apache.spark.serializer.DeserializationStream$$anon$2.getNext(Serializer.scala:189)\n\tat org.apache.spark.serializer.DeserializationStream$$anon$2.getNext(Serializer.scala:186)\n\tat org.apache.spark.util.NextIterator.hasNext(NextIterator.scala:73)\n\tat scala.collection.Iterator$$anon$12.hasNext(Iterator.scala:438)\n\tat scala.collection.Iterator$$anon$11.hasNext(Iterator.scala:408)\n\tat org.apache.spark.util.CompletionIterator.hasNext(CompletionIterator.scala:32)\n\tat org.apache.spark.InterruptibleIterator.hasNext(InterruptibleIterator.scala:39)\n\tat org.apache.spark.util.collection.ExternalAppendOnlyMap.insertAll(ExternalAppendOnlyMap.scala:156)\n\tat org.apache.spark.Aggregator.combineCombinersByKey(Aggregator.scala:50)\n\tat org.apache.spark.shuffle.BlockStoreShuffleReader.read(BlockStoreShuffleReader.scala:82)\n\tat org.apache.spark.rdd.ShuffledRDD.compute(ShuffledRDD.scala:109)\n\tat org.apache.spark.rdd.RDD.computeOrReadCheckpoint(RDD.scala:323)\n\tat org.apache.spark.rdd.RDD.iterator(RDD.scala:287)\n\tat org.apache.spark.rdd.MapPartitionsRDD.compute(MapPartitionsRDD.scala:38)\n\tat org.apache.spark.rdd.RDD.computeOrReadCheckpoint(RDD.scala:323)\n\tat org.apache.spark.rdd.RDD.iterator(RDD.scala:287)\n\tat org.apache.spark.scheduler.ResultTask.runTask(ResultTask.scala:87)\n\tat org.apache.spark.scheduler.Task.run(Task.scala:99)\n\tat org.apache.spark.executor.Executor$TaskRunner.run(Executor.scala:322)\n\tat java.util.concurrent.ThreadPoolExecutor.runWorker(ThreadPoolExecutor.java:1142)\n\tat java.util.concurrent.ThreadPoolExecutor$Worker.run(ThreadPoolExecutor.java:617)\n\tat java.lang.Thread.run(Thread.java:745)\n\nDriver stacktrace:\n\tat org.apache.spark.scheduler.DAGScheduler.org$apache$spark$scheduler$DAGScheduler$$failJobAndIndependentStages(DAGScheduler.scala:1435)\n\tat org.apache.spark.scheduler.DAGScheduler$$anonfun$abortStage$1.apply(DAGScheduler.scala:1423)\n\tat org.apache.spark.scheduler.DAGScheduler$$anonfun$abortStage$1.apply(DAGScheduler.scala:1422)\n\tat scala.collection.mutable.ResizableArray$class.foreach(ResizableArray.scala:59)\n\tat scala.collection.mutable.ArrayBuffer.foreach(ArrayBuffer.scala:48)\n\tat org.apache.spark.scheduler.DAGScheduler.abortStage(DAGScheduler.scala:1422)\n\tat org.apache.spark.scheduler.DAGScheduler$$anonfun$handleTaskSetFailed$1.apply(DAGScheduler.scala:802)\n\tat org.apache.spark.scheduler.DAGScheduler$$anonfun$handleTaskSetFailed$1.apply(DAGScheduler.scala:802)\n\tat scala.Option.foreach(Option.scala:257)\n\tat org.apache.spark.scheduler.DAGScheduler.handleTaskSetFailed(DAGScheduler.scala:802)\n\tat org.apache.spark.scheduler.DAGSchedulerEventProcessLoop.doOnReceive(DAGScheduler.scala:1650)\n\tat org.apache.spark.scheduler.DAGSchedulerEventProcessLoop.onReceive(DAGScheduler.scala:1605)\n\tat org.apache.spark.scheduler.DAGSchedulerEventProcessLoop.onReceive(DAGScheduler.scala:1594)\n\tat org.apache.spark.util.EventLoop$$anon$1.run(EventLoop.scala:48)\n\tat org.apache.spark.scheduler.DAGScheduler.runJob(DAGScheduler.scala:628)\n\tat org.apache.spark.SparkContext.runJob(SparkContext.scala:1928)\n\tat org.apache.spark.SparkContext.runJob(SparkContext.scala:1941)\n\tat org.apache.spark.SparkContext.runJob(SparkContext.scala:1954)\n\tat org.apache.spark.SparkContext.runJob(SparkContext.scala:1968)\n\tat org.apache.spark.rdd.RDD$$anonfun$collect$1.apply(RDD.scala:936)\n\tat org.apache.spark.rdd.RDDOperationScope$.withScope(RDDOperationScope.scala:151)\n\tat org.apache.spark.rdd.RDDOperationScope$.withScope(RDDOperationScope.scala:112)\n\tat org.apache.spark.rdd.RDD.withScope(RDD.scala:362)\n\tat org.apache.spark.rdd.RDD.collect(RDD.scala:935)\n\tat org.apache.spark.rdd.PairRDDFunctions$$anonfun$collectAsMap$1.apply(PairRDDFunctions.scala:748)\n\tat org.apache.spark.rdd.PairRDDFunctions$$anonfun$collectAsMap$1.apply(PairRDDFunctions.scala:747)\n\tat org.apache.spark.rdd.RDDOperationScope$.withScope(RDDOperationScope.scala:151)\n\tat org.apache.spark.rdd.RDDOperationScope$.withScope(RDDOperationScope.scala:112)\n\tat org.apache.spark.rdd.RDD.withScope(RDD.scala:362)\n\tat org.apache.spark.rdd.PairRDDFunctions.collectAsMap(PairRDDFunctions.scala:747)\n\tat org.apache.spark.ml.tree.impl.RandomForest$.findBestSplits(RandomForest.scala:563)\n\tat org.apache.spark.ml.tree.impl.RandomForest$.run(RandomForest.scala:198)\n\tat org.apache.spark.ml.regression.RandomForestRegressor.train(RandomForestRegressor.scala:128)\n\tat org.apache.spark.ml.regression.RandomForestRegressor.train(RandomForestRegressor.scala:45)\n\tat org.apache.spark.ml.Predictor.fit(Predictor.scala:96)\n\tat org.apache.spark.ml.Predictor.fit(Predictor.scala:72)\n\tat sun.reflect.NativeMethodAccessorImpl.invoke0(Native Method)\n\tat sun.reflect.NativeMethodAccessorImpl.invoke(NativeMethodAccessorImpl.java:62)\n\tat sun.reflect.DelegatingMethodAccessorImpl.invoke(DelegatingMethodAccessorImpl.java:43)\n\tat java.lang.reflect.Method.invoke(Method.java:498)\n\tat py4j.reflection.MethodInvoker.invoke(MethodInvoker.java:244)\n\tat py4j.reflection.ReflectionEngine.invoke(ReflectionEngine.java:357)\n\tat py4j.Gateway.invoke(Gateway.java:280)\n\tat py4j.commands.AbstractCommand.invokeMethod(AbstractCommand.java:132)\n\tat py4j.commands.CallCommand.execute(CallCommand.java:79)\n\tat py4j.GatewayConnection.run(GatewayConnection.java:214)\n\tat java.lang.Thread.run(Thread.java:745)\nCaused by: java.lang.OutOfMemoryError: Java heap space\n\tat java.lang.reflect.Array.newInstance(Array.java:75)\n\tat java.io.ObjectInputStream.readArray(ObjectInputStream.java:1678)\n\tat java.io.ObjectInputStream.readObject0(ObjectInputStream.java:1347)\n\tat java.io.ObjectInputStream.defaultReadFields(ObjectInputStream.java:2018)\n\tat java.io.ObjectInputStream.readSerialData(ObjectInputStream.java:1942)\n\tat java.io.ObjectInputStream.readOrdinaryObject(ObjectInputStream.java:1808)\n\tat java.io.ObjectInputStream.readObject0(ObjectInputStream.java:1353)\n\tat java.io.ObjectInputStream.readObject(ObjectInputStream.java:373)\n\tat org.apache.spark.serializer.JavaDeserializationStream.readObject(JavaSerializer.scala:75)\n\tat org.apache.spark.serializer.DeserializationStream.readValue(Serializer.scala:159)\n\tat org.apache.spark.serializer.DeserializationStream$$anon$2.getNext(Serializer.scala:189)\n\tat org.apache.spark.serializer.DeserializationStream$$anon$2.getNext(Serializer.scala:186)\n\tat org.apache.spark.util.NextIterator.hasNext(NextIterator.scala:73)\n\tat scala.collection.Iterator$$anon$12.hasNext(Iterator.scala:438)\n\tat scala.collection.Iterator$$anon$11.hasNext(Iterator.scala:408)\n\tat org.apache.spark.util.CompletionIterator.hasNext(CompletionIterator.scala:32)\n\tat org.apache.spark.InterruptibleIterator.hasNext(InterruptibleIterator.scala:39)\n\tat org.apache.spark.util.collection.ExternalAppendOnlyMap.insertAll(ExternalAppendOnlyMap.scala:156)\n\tat org.apache.spark.Aggregator.combineCombinersByKey(Aggregator.scala:50)\n\tat org.apache.spark.shuffle.BlockStoreShuffleReader.read(BlockStoreShuffleReader.scala:82)\n\tat org.apache.spark.rdd.ShuffledRDD.compute(ShuffledRDD.scala:109)\n\tat org.apache.spark.rdd.RDD.computeOrReadCheckpoint(RDD.scala:323)\n\tat org.apache.spark.rdd.RDD.iterator(RDD.scala:287)\n\tat org.apache.spark.rdd.MapPartitionsRDD.compute(MapPartitionsRDD.scala:38)\n\tat org.apache.spark.rdd.RDD.computeOrReadCheckpoint(RDD.scala:323)\n\tat org.apache.spark.rdd.RDD.iterator(RDD.scala:287)\n\tat org.apache.spark.scheduler.ResultTask.runTask(ResultTask.scala:87)\n\tat org.apache.spark.scheduler.Task.run(Task.scala:99)\n\tat org.apache.spark.executor.Executor$TaskRunner.run(Executor.scala:322)\n\tat java.util.concurrent.ThreadPoolExecutor.runWorker(ThreadPoolExecutor.java:1142)\n\tat java.util.concurrent.ThreadPoolExecutor$Worker.run(ThreadPoolExecutor.java:617)\n\t... 1 more\n",
     "output_type": "error",
     "traceback": [
      "\u001b[0;31m---------------------------------------------------------------------------\u001b[0m",
      "\u001b[0;31mPy4JJavaError\u001b[0m                             Traceback (most recent call last)",
      "\u001b[0;32m<ipython-input-15-0d02f4e07be5>\u001b[0m in \u001b[0;36m<module>\u001b[0;34m\u001b[0m\n\u001b[1;32m      2\u001b[0m model = RandomForestRegressor(labelCol=\"ViolentCrimesPerPop\",featuresCol=\"features\",\n\u001b[1;32m      3\u001b[0m                               maxDepth=15, minInfoGain=0.001, seed=0, numTrees=110)\n\u001b[0;32m----> 4\u001b[0;31m \u001b[0mrfModel\u001b[0m \u001b[0;34m=\u001b[0m \u001b[0mmodel\u001b[0m\u001b[0;34m.\u001b[0m\u001b[0mfit\u001b[0m\u001b[0;34m(\u001b[0m\u001b[0mtrain_data\u001b[0m\u001b[0;34m)\u001b[0m\u001b[0;34m\u001b[0m\u001b[0;34m\u001b[0m\u001b[0m\n\u001b[0m\u001b[1;32m      5\u001b[0m \u001b[0;34m\u001b[0m\u001b[0m\n\u001b[1;32m      6\u001b[0m \u001b[0;31m#Evaluation of the Model\u001b[0m\u001b[0;34m\u001b[0m\u001b[0;34m\u001b[0m\u001b[0;34m\u001b[0m\u001b[0m\n",
      "\u001b[0;32m/usr/hdp/current/spark2-client/python/lib/pyspark.zip/pyspark/ml/base.py\u001b[0m in \u001b[0;36mfit\u001b[0;34m(self, dataset, params)\u001b[0m\n\u001b[1;32m     62\u001b[0m                 \u001b[0;32mreturn\u001b[0m \u001b[0mself\u001b[0m\u001b[0;34m.\u001b[0m\u001b[0mcopy\u001b[0m\u001b[0;34m(\u001b[0m\u001b[0mparams\u001b[0m\u001b[0;34m)\u001b[0m\u001b[0;34m.\u001b[0m\u001b[0m_fit\u001b[0m\u001b[0;34m(\u001b[0m\u001b[0mdataset\u001b[0m\u001b[0;34m)\u001b[0m\u001b[0;34m\u001b[0m\u001b[0;34m\u001b[0m\u001b[0m\n\u001b[1;32m     63\u001b[0m             \u001b[0;32melse\u001b[0m\u001b[0;34m:\u001b[0m\u001b[0;34m\u001b[0m\u001b[0;34m\u001b[0m\u001b[0m\n\u001b[0;32m---> 64\u001b[0;31m                 \u001b[0;32mreturn\u001b[0m \u001b[0mself\u001b[0m\u001b[0;34m.\u001b[0m\u001b[0m_fit\u001b[0m\u001b[0;34m(\u001b[0m\u001b[0mdataset\u001b[0m\u001b[0;34m)\u001b[0m\u001b[0;34m\u001b[0m\u001b[0;34m\u001b[0m\u001b[0m\n\u001b[0m\u001b[1;32m     65\u001b[0m         \u001b[0;32melse\u001b[0m\u001b[0;34m:\u001b[0m\u001b[0;34m\u001b[0m\u001b[0;34m\u001b[0m\u001b[0m\n\u001b[1;32m     66\u001b[0m             raise ValueError(\"Params must be either a param map or a list/tuple of param maps, \"\n",
      "\u001b[0;32m/usr/hdp/current/spark2-client/python/lib/pyspark.zip/pyspark/ml/wrapper.py\u001b[0m in \u001b[0;36m_fit\u001b[0;34m(self, dataset)\u001b[0m\n\u001b[1;32m    234\u001b[0m \u001b[0;34m\u001b[0m\u001b[0m\n\u001b[1;32m    235\u001b[0m     \u001b[0;32mdef\u001b[0m \u001b[0m_fit\u001b[0m\u001b[0;34m(\u001b[0m\u001b[0mself\u001b[0m\u001b[0;34m,\u001b[0m \u001b[0mdataset\u001b[0m\u001b[0;34m)\u001b[0m\u001b[0;34m:\u001b[0m\u001b[0;34m\u001b[0m\u001b[0;34m\u001b[0m\u001b[0m\n\u001b[0;32m--> 236\u001b[0;31m         \u001b[0mjava_model\u001b[0m \u001b[0;34m=\u001b[0m \u001b[0mself\u001b[0m\u001b[0;34m.\u001b[0m\u001b[0m_fit_java\u001b[0m\u001b[0;34m(\u001b[0m\u001b[0mdataset\u001b[0m\u001b[0;34m)\u001b[0m\u001b[0;34m\u001b[0m\u001b[0;34m\u001b[0m\u001b[0m\n\u001b[0m\u001b[1;32m    237\u001b[0m         \u001b[0;32mreturn\u001b[0m \u001b[0mself\u001b[0m\u001b[0;34m.\u001b[0m\u001b[0m_create_model\u001b[0m\u001b[0;34m(\u001b[0m\u001b[0mjava_model\u001b[0m\u001b[0;34m)\u001b[0m\u001b[0;34m\u001b[0m\u001b[0;34m\u001b[0m\u001b[0m\n\u001b[1;32m    238\u001b[0m \u001b[0;34m\u001b[0m\u001b[0m\n",
      "\u001b[0;32m/usr/hdp/current/spark2-client/python/lib/pyspark.zip/pyspark/ml/wrapper.py\u001b[0m in \u001b[0;36m_fit_java\u001b[0;34m(self, dataset)\u001b[0m\n\u001b[1;32m    231\u001b[0m         \"\"\"\n\u001b[1;32m    232\u001b[0m         \u001b[0mself\u001b[0m\u001b[0;34m.\u001b[0m\u001b[0m_transfer_params_to_java\u001b[0m\u001b[0;34m(\u001b[0m\u001b[0;34m)\u001b[0m\u001b[0;34m\u001b[0m\u001b[0;34m\u001b[0m\u001b[0m\n\u001b[0;32m--> 233\u001b[0;31m         \u001b[0;32mreturn\u001b[0m \u001b[0mself\u001b[0m\u001b[0;34m.\u001b[0m\u001b[0m_java_obj\u001b[0m\u001b[0;34m.\u001b[0m\u001b[0mfit\u001b[0m\u001b[0;34m(\u001b[0m\u001b[0mdataset\u001b[0m\u001b[0;34m.\u001b[0m\u001b[0m_jdf\u001b[0m\u001b[0;34m)\u001b[0m\u001b[0;34m\u001b[0m\u001b[0;34m\u001b[0m\u001b[0m\n\u001b[0m\u001b[1;32m    234\u001b[0m \u001b[0;34m\u001b[0m\u001b[0m\n\u001b[1;32m    235\u001b[0m     \u001b[0;32mdef\u001b[0m \u001b[0m_fit\u001b[0m\u001b[0;34m(\u001b[0m\u001b[0mself\u001b[0m\u001b[0;34m,\u001b[0m \u001b[0mdataset\u001b[0m\u001b[0;34m)\u001b[0m\u001b[0;34m:\u001b[0m\u001b[0;34m\u001b[0m\u001b[0;34m\u001b[0m\u001b[0m\n",
      "\u001b[0;32m/usr/hdp/current/spark2-client/python/lib/py4j-0.10.4-src.zip/py4j/java_gateway.py\u001b[0m in \u001b[0;36m__call__\u001b[0;34m(self, *args)\u001b[0m\n\u001b[1;32m   1131\u001b[0m         \u001b[0manswer\u001b[0m \u001b[0;34m=\u001b[0m \u001b[0mself\u001b[0m\u001b[0;34m.\u001b[0m\u001b[0mgateway_client\u001b[0m\u001b[0;34m.\u001b[0m\u001b[0msend_command\u001b[0m\u001b[0;34m(\u001b[0m\u001b[0mcommand\u001b[0m\u001b[0;34m)\u001b[0m\u001b[0;34m\u001b[0m\u001b[0;34m\u001b[0m\u001b[0m\n\u001b[1;32m   1132\u001b[0m         return_value = get_return_value(\n\u001b[0;32m-> 1133\u001b[0;31m             answer, self.gateway_client, self.target_id, self.name)\n\u001b[0m\u001b[1;32m   1134\u001b[0m \u001b[0;34m\u001b[0m\u001b[0m\n\u001b[1;32m   1135\u001b[0m         \u001b[0;32mfor\u001b[0m \u001b[0mtemp_arg\u001b[0m \u001b[0;32min\u001b[0m \u001b[0mtemp_args\u001b[0m\u001b[0;34m:\u001b[0m\u001b[0;34m\u001b[0m\u001b[0;34m\u001b[0m\u001b[0m\n",
      "\u001b[0;32m/usr/hdp/current/spark2-client/python/lib/pyspark.zip/pyspark/sql/utils.py\u001b[0m in \u001b[0;36mdeco\u001b[0;34m(*a, **kw)\u001b[0m\n\u001b[1;32m     61\u001b[0m     \u001b[0;32mdef\u001b[0m \u001b[0mdeco\u001b[0m\u001b[0;34m(\u001b[0m\u001b[0;34m*\u001b[0m\u001b[0ma\u001b[0m\u001b[0;34m,\u001b[0m \u001b[0;34m**\u001b[0m\u001b[0mkw\u001b[0m\u001b[0;34m)\u001b[0m\u001b[0;34m:\u001b[0m\u001b[0;34m\u001b[0m\u001b[0;34m\u001b[0m\u001b[0m\n\u001b[1;32m     62\u001b[0m         \u001b[0;32mtry\u001b[0m\u001b[0;34m:\u001b[0m\u001b[0;34m\u001b[0m\u001b[0;34m\u001b[0m\u001b[0m\n\u001b[0;32m---> 63\u001b[0;31m             \u001b[0;32mreturn\u001b[0m \u001b[0mf\u001b[0m\u001b[0;34m(\u001b[0m\u001b[0;34m*\u001b[0m\u001b[0ma\u001b[0m\u001b[0;34m,\u001b[0m \u001b[0;34m**\u001b[0m\u001b[0mkw\u001b[0m\u001b[0;34m)\u001b[0m\u001b[0;34m\u001b[0m\u001b[0;34m\u001b[0m\u001b[0m\n\u001b[0m\u001b[1;32m     64\u001b[0m         \u001b[0;32mexcept\u001b[0m \u001b[0mpy4j\u001b[0m\u001b[0;34m.\u001b[0m\u001b[0mprotocol\u001b[0m\u001b[0;34m.\u001b[0m\u001b[0mPy4JJavaError\u001b[0m \u001b[0;32mas\u001b[0m \u001b[0me\u001b[0m\u001b[0;34m:\u001b[0m\u001b[0;34m\u001b[0m\u001b[0;34m\u001b[0m\u001b[0m\n\u001b[1;32m     65\u001b[0m             \u001b[0ms\u001b[0m \u001b[0;34m=\u001b[0m \u001b[0me\u001b[0m\u001b[0;34m.\u001b[0m\u001b[0mjava_exception\u001b[0m\u001b[0;34m.\u001b[0m\u001b[0mtoString\u001b[0m\u001b[0;34m(\u001b[0m\u001b[0;34m)\u001b[0m\u001b[0;34m\u001b[0m\u001b[0;34m\u001b[0m\u001b[0m\n",
      "\u001b[0;32m/usr/hdp/current/spark2-client/python/lib/py4j-0.10.4-src.zip/py4j/protocol.py\u001b[0m in \u001b[0;36mget_return_value\u001b[0;34m(answer, gateway_client, target_id, name)\u001b[0m\n\u001b[1;32m    317\u001b[0m                 raise Py4JJavaError(\n\u001b[1;32m    318\u001b[0m                     \u001b[0;34m\"An error occurred while calling {0}{1}{2}.\\n\"\u001b[0m\u001b[0;34m.\u001b[0m\u001b[0;34m\u001b[0m\u001b[0;34m\u001b[0m\u001b[0m\n\u001b[0;32m--> 319\u001b[0;31m                     format(target_id, \".\", name), value)\n\u001b[0m\u001b[1;32m    320\u001b[0m             \u001b[0;32melse\u001b[0m\u001b[0;34m:\u001b[0m\u001b[0;34m\u001b[0m\u001b[0;34m\u001b[0m\u001b[0m\n\u001b[1;32m    321\u001b[0m                 raise Py4JError(\n",
      "\u001b[0;31mPy4JJavaError\u001b[0m: An error occurred while calling o5710.fit.\n: org.apache.spark.SparkException: Job aborted due to stage failure: Task 0 in stage 640.0 failed 1 times, most recent failure: Lost task 0.0 in stage 640.0 (TID 641, localhost, executor driver): java.lang.OutOfMemoryError: Java heap space\n\tat java.lang.reflect.Array.newInstance(Array.java:75)\n\tat java.io.ObjectInputStream.readArray(ObjectInputStream.java:1678)\n\tat java.io.ObjectInputStream.readObject0(ObjectInputStream.java:1347)\n\tat java.io.ObjectInputStream.defaultReadFields(ObjectInputStream.java:2018)\n\tat java.io.ObjectInputStream.readSerialData(ObjectInputStream.java:1942)\n\tat java.io.ObjectInputStream.readOrdinaryObject(ObjectInputStream.java:1808)\n\tat java.io.ObjectInputStream.readObject0(ObjectInputStream.java:1353)\n\tat java.io.ObjectInputStream.readObject(ObjectInputStream.java:373)\n\tat org.apache.spark.serializer.JavaDeserializationStream.readObject(JavaSerializer.scala:75)\n\tat org.apache.spark.serializer.DeserializationStream.readValue(Serializer.scala:159)\n\tat org.apache.spark.serializer.DeserializationStream$$anon$2.getNext(Serializer.scala:189)\n\tat org.apache.spark.serializer.DeserializationStream$$anon$2.getNext(Serializer.scala:186)\n\tat org.apache.spark.util.NextIterator.hasNext(NextIterator.scala:73)\n\tat scala.collection.Iterator$$anon$12.hasNext(Iterator.scala:438)\n\tat scala.collection.Iterator$$anon$11.hasNext(Iterator.scala:408)\n\tat org.apache.spark.util.CompletionIterator.hasNext(CompletionIterator.scala:32)\n\tat org.apache.spark.InterruptibleIterator.hasNext(InterruptibleIterator.scala:39)\n\tat org.apache.spark.util.collection.ExternalAppendOnlyMap.insertAll(ExternalAppendOnlyMap.scala:156)\n\tat org.apache.spark.Aggregator.combineCombinersByKey(Aggregator.scala:50)\n\tat org.apache.spark.shuffle.BlockStoreShuffleReader.read(BlockStoreShuffleReader.scala:82)\n\tat org.apache.spark.rdd.ShuffledRDD.compute(ShuffledRDD.scala:109)\n\tat org.apache.spark.rdd.RDD.computeOrReadCheckpoint(RDD.scala:323)\n\tat org.apache.spark.rdd.RDD.iterator(RDD.scala:287)\n\tat org.apache.spark.rdd.MapPartitionsRDD.compute(MapPartitionsRDD.scala:38)\n\tat org.apache.spark.rdd.RDD.computeOrReadCheckpoint(RDD.scala:323)\n\tat org.apache.spark.rdd.RDD.iterator(RDD.scala:287)\n\tat org.apache.spark.scheduler.ResultTask.runTask(ResultTask.scala:87)\n\tat org.apache.spark.scheduler.Task.run(Task.scala:99)\n\tat org.apache.spark.executor.Executor$TaskRunner.run(Executor.scala:322)\n\tat java.util.concurrent.ThreadPoolExecutor.runWorker(ThreadPoolExecutor.java:1142)\n\tat java.util.concurrent.ThreadPoolExecutor$Worker.run(ThreadPoolExecutor.java:617)\n\tat java.lang.Thread.run(Thread.java:745)\n\nDriver stacktrace:\n\tat org.apache.spark.scheduler.DAGScheduler.org$apache$spark$scheduler$DAGScheduler$$failJobAndIndependentStages(DAGScheduler.scala:1435)\n\tat org.apache.spark.scheduler.DAGScheduler$$anonfun$abortStage$1.apply(DAGScheduler.scala:1423)\n\tat org.apache.spark.scheduler.DAGScheduler$$anonfun$abortStage$1.apply(DAGScheduler.scala:1422)\n\tat scala.collection.mutable.ResizableArray$class.foreach(ResizableArray.scala:59)\n\tat scala.collection.mutable.ArrayBuffer.foreach(ArrayBuffer.scala:48)\n\tat org.apache.spark.scheduler.DAGScheduler.abortStage(DAGScheduler.scala:1422)\n\tat org.apache.spark.scheduler.DAGScheduler$$anonfun$handleTaskSetFailed$1.apply(DAGScheduler.scala:802)\n\tat org.apache.spark.scheduler.DAGScheduler$$anonfun$handleTaskSetFailed$1.apply(DAGScheduler.scala:802)\n\tat scala.Option.foreach(Option.scala:257)\n\tat org.apache.spark.scheduler.DAGScheduler.handleTaskSetFailed(DAGScheduler.scala:802)\n\tat org.apache.spark.scheduler.DAGSchedulerEventProcessLoop.doOnReceive(DAGScheduler.scala:1650)\n\tat org.apache.spark.scheduler.DAGSchedulerEventProcessLoop.onReceive(DAGScheduler.scala:1605)\n\tat org.apache.spark.scheduler.DAGSchedulerEventProcessLoop.onReceive(DAGScheduler.scala:1594)\n\tat org.apache.spark.util.EventLoop$$anon$1.run(EventLoop.scala:48)\n\tat org.apache.spark.scheduler.DAGScheduler.runJob(DAGScheduler.scala:628)\n\tat org.apache.spark.SparkContext.runJob(SparkContext.scala:1928)\n\tat org.apache.spark.SparkContext.runJob(SparkContext.scala:1941)\n\tat org.apache.spark.SparkContext.runJob(SparkContext.scala:1954)\n\tat org.apache.spark.SparkContext.runJob(SparkContext.scala:1968)\n\tat org.apache.spark.rdd.RDD$$anonfun$collect$1.apply(RDD.scala:936)\n\tat org.apache.spark.rdd.RDDOperationScope$.withScope(RDDOperationScope.scala:151)\n\tat org.apache.spark.rdd.RDDOperationScope$.withScope(RDDOperationScope.scala:112)\n\tat org.apache.spark.rdd.RDD.withScope(RDD.scala:362)\n\tat org.apache.spark.rdd.RDD.collect(RDD.scala:935)\n\tat org.apache.spark.rdd.PairRDDFunctions$$anonfun$collectAsMap$1.apply(PairRDDFunctions.scala:748)\n\tat org.apache.spark.rdd.PairRDDFunctions$$anonfun$collectAsMap$1.apply(PairRDDFunctions.scala:747)\n\tat org.apache.spark.rdd.RDDOperationScope$.withScope(RDDOperationScope.scala:151)\n\tat org.apache.spark.rdd.RDDOperationScope$.withScope(RDDOperationScope.scala:112)\n\tat org.apache.spark.rdd.RDD.withScope(RDD.scala:362)\n\tat org.apache.spark.rdd.PairRDDFunctions.collectAsMap(PairRDDFunctions.scala:747)\n\tat org.apache.spark.ml.tree.impl.RandomForest$.findBestSplits(RandomForest.scala:563)\n\tat org.apache.spark.ml.tree.impl.RandomForest$.run(RandomForest.scala:198)\n\tat org.apache.spark.ml.regression.RandomForestRegressor.train(RandomForestRegressor.scala:128)\n\tat org.apache.spark.ml.regression.RandomForestRegressor.train(RandomForestRegressor.scala:45)\n\tat org.apache.spark.ml.Predictor.fit(Predictor.scala:96)\n\tat org.apache.spark.ml.Predictor.fit(Predictor.scala:72)\n\tat sun.reflect.NativeMethodAccessorImpl.invoke0(Native Method)\n\tat sun.reflect.NativeMethodAccessorImpl.invoke(NativeMethodAccessorImpl.java:62)\n\tat sun.reflect.DelegatingMethodAccessorImpl.invoke(DelegatingMethodAccessorImpl.java:43)\n\tat java.lang.reflect.Method.invoke(Method.java:498)\n\tat py4j.reflection.MethodInvoker.invoke(MethodInvoker.java:244)\n\tat py4j.reflection.ReflectionEngine.invoke(ReflectionEngine.java:357)\n\tat py4j.Gateway.invoke(Gateway.java:280)\n\tat py4j.commands.AbstractCommand.invokeMethod(AbstractCommand.java:132)\n\tat py4j.commands.CallCommand.execute(CallCommand.java:79)\n\tat py4j.GatewayConnection.run(GatewayConnection.java:214)\n\tat java.lang.Thread.run(Thread.java:745)\nCaused by: java.lang.OutOfMemoryError: Java heap space\n\tat java.lang.reflect.Array.newInstance(Array.java:75)\n\tat java.io.ObjectInputStream.readArray(ObjectInputStream.java:1678)\n\tat java.io.ObjectInputStream.readObject0(ObjectInputStream.java:1347)\n\tat java.io.ObjectInputStream.defaultReadFields(ObjectInputStream.java:2018)\n\tat java.io.ObjectInputStream.readSerialData(ObjectInputStream.java:1942)\n\tat java.io.ObjectInputStream.readOrdinaryObject(ObjectInputStream.java:1808)\n\tat java.io.ObjectInputStream.readObject0(ObjectInputStream.java:1353)\n\tat java.io.ObjectInputStream.readObject(ObjectInputStream.java:373)\n\tat org.apache.spark.serializer.JavaDeserializationStream.readObject(JavaSerializer.scala:75)\n\tat org.apache.spark.serializer.DeserializationStream.readValue(Serializer.scala:159)\n\tat org.apache.spark.serializer.DeserializationStream$$anon$2.getNext(Serializer.scala:189)\n\tat org.apache.spark.serializer.DeserializationStream$$anon$2.getNext(Serializer.scala:186)\n\tat org.apache.spark.util.NextIterator.hasNext(NextIterator.scala:73)\n\tat scala.collection.Iterator$$anon$12.hasNext(Iterator.scala:438)\n\tat scala.collection.Iterator$$anon$11.hasNext(Iterator.scala:408)\n\tat org.apache.spark.util.CompletionIterator.hasNext(CompletionIterator.scala:32)\n\tat org.apache.spark.InterruptibleIterator.hasNext(InterruptibleIterator.scala:39)\n\tat org.apache.spark.util.collection.ExternalAppendOnlyMap.insertAll(ExternalAppendOnlyMap.scala:156)\n\tat org.apache.spark.Aggregator.combineCombinersByKey(Aggregator.scala:50)\n\tat org.apache.spark.shuffle.BlockStoreShuffleReader.read(BlockStoreShuffleReader.scala:82)\n\tat org.apache.spark.rdd.ShuffledRDD.compute(ShuffledRDD.scala:109)\n\tat org.apache.spark.rdd.RDD.computeOrReadCheckpoint(RDD.scala:323)\n\tat org.apache.spark.rdd.RDD.iterator(RDD.scala:287)\n\tat org.apache.spark.rdd.MapPartitionsRDD.compute(MapPartitionsRDD.scala:38)\n\tat org.apache.spark.rdd.RDD.computeOrReadCheckpoint(RDD.scala:323)\n\tat org.apache.spark.rdd.RDD.iterator(RDD.scala:287)\n\tat org.apache.spark.scheduler.ResultTask.runTask(ResultTask.scala:87)\n\tat org.apache.spark.scheduler.Task.run(Task.scala:99)\n\tat org.apache.spark.executor.Executor$TaskRunner.run(Executor.scala:322)\n\tat java.util.concurrent.ThreadPoolExecutor.runWorker(ThreadPoolExecutor.java:1142)\n\tat java.util.concurrent.ThreadPoolExecutor$Worker.run(ThreadPoolExecutor.java:617)\n\t... 1 more\n"
     ]
    }
   ],
   "source": [
    "from pyspark.ml.regression import RandomForestRegressor\n",
    "model = RandomForestRegressor(labelCol=\"ViolentCrimesPerPop\",featuresCol=\"features\",\n",
    "                              maxDepth=15, minInfoGain=0.001, seed=0, numTrees=110)\n",
    "rfModel = model.fit(train_data)\n",
    "\n",
    "#Evaluation of the Model\n",
    "predictions = rfModel.transform(test_data)\n",
    "\n",
    "from pyspark.ml.evaluation import RegressionEvaluator\n",
    "evaluator = RegressionEvaluator(labelCol=\"ViolentCrimesPerPop\",metricName='r2')\n",
    "evaluator.evaluate(predictions)"
   ]
  },
  {
   "cell_type": "code",
   "execution_count": null,
   "metadata": {},
   "outputs": [],
   "source": [
    "#Grid Search\n",
    "from pyspark.ml.tuning import ParamGridBuilder, CrossValidator\n",
    "model = RandomForestRegressor(labelCol=\"ViolentCrimesPerPop\",featuresCol=\"features\",\n",
    "                              minInfoGain=0.001, seed=0)\n",
    "\n",
    "paramGrid = (ParamGridBuilder()\\\n",
    "             .addGrid(model.maxDepth,[13,14,15])\\\n",
    "             .addGrid(model.numTrees,[100,110,120])\\\n",
    "             .build())\n",
    "\n",
    "# Create 4-fold CrossValidator\n",
    "cv = CrossValidator(estimator=model, estimatorParamMaps=paramGrid, evaluator=evaluator, numFolds=4)\n",
    "\n",
    "cvModel = cv.fit(train_data)"
   ]
  },
  {
   "cell_type": "code",
   "execution_count": null,
   "metadata": {},
   "outputs": [],
   "source": [
    "#Best Model Params\n",
    "score_params_list = list(zip(cvModel.avgMetrics, cvModel.getEstimatorParamMaps()))\n",
    "max(score_params_list,key=lambda item:item[0])"
   ]
  },
  {
   "attachments": {
    "image.png": {
     "image/png": "[encoded data removed]"
    }
   },
   "cell_type": "markdown",
   "metadata": {},
   "source": [
    "knn model\t24.23%\n",
    "Linear Regression\t55.58%\n",
    "RandomForest\t48.18%\n",
    "AdaBoost\t48.18%\n",
    "![image.png](attachment:image.png)"
   ]
  },
  {
   "cell_type": "markdown",
   "metadata": {},
   "source": [
    "Conclusion : We used different methods for predicting how good the model could be to attain the best numbers we used linear Regression,KNN,ADA Boost,RandomForestRegressor,Pyspark to find which model will be the best to squeeze out the best results.\n",
    "We got numbers pretty much close to each other like K-fold Linear regression 27% Random forst regressor 48.18% Ada boost 48.18% .Ada boost AND rANDOM fOREST was the best Adaboost at 48.18%..The result is not the best i can say therefore further consideration to analyse is not recommended in this dataset.\n",
    "Thanks \n",
    "\n",
    "Arun Kumar"
   ]
  }
 ],
 "metadata": {
  "kernelspec": {
   "display_name": "Python 3",
   "language": "python",
   "name": "python3"
  },
  "language_info": {
   "codemirror_mode": {
    "name": "ipython",
    "version": 3
   },
   "file_extension": ".py",
   "mimetype": "text/x-python",
   "name": "python",
   "nbconvert_exporter": "python",
   "pygments_lexer": "ipython3",
   "version": "3.8.5"
  },
  "toc": {
   "base_numbering": 1,
   "nav_menu": {},
   "number_sections": true,
   "sideBar": true,
   "skip_h1_title": false,
   "title_cell": "Table of Contents",
   "title_sidebar": "Contents",
   "toc_cell": false,
   "toc_position": {},
   "toc_section_display": true,
   "toc_window_display": false
  }
 },
 "nbformat": 4,
 "nbformat_minor": 4
}
